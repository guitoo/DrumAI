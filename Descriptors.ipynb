{
 "cells": [
  {
   "cell_type": "markdown",
   "metadata": {
    "toc": true
   },
   "source": [
    "<h1>Table of Contents<span class=\"tocSkip\"></span></h1>\n",
    "<div class=\"toc\"><ul class=\"toc-item\"></ul></div>"
   ]
  },
  {
   "cell_type": "code",
   "execution_count": 1,
   "metadata": {},
   "outputs": [],
   "source": [
    "import librosa\n",
    "import numpy as np\n",
    "from librosa.core import resample, load\n",
    "from librosa.util import fix_length\n",
    "from librosa import feature\n",
    "from pandas import read_csv\n",
    "from pandas import DataFrame\n",
    "from tqdm import tqdm\n",
    "from tqdm.notebook import tqdm as nb_tqdm\n",
    "from sklearn.metrics import confusion_matrix\n",
    "import seaborn as sns\n",
    "import matplotlib.pyplot as plt"
   ]
  },
  {
   "cell_type": "code",
   "execution_count": 2,
   "metadata": {},
   "outputs": [],
   "source": [
    "data = read_csv('data.csv', index_col=0)"
   ]
  },
  {
   "cell_type": "code",
   "execution_count": 3,
   "metadata": {},
   "outputs": [
    {
     "data": {
      "text/html": [
       "<div>\n",
       "<style scoped>\n",
       "    .dataframe tbody tr th:only-of-type {\n",
       "        vertical-align: middle;\n",
       "    }\n",
       "\n",
       "    .dataframe tbody tr th {\n",
       "        vertical-align: top;\n",
       "    }\n",
       "\n",
       "    .dataframe thead th {\n",
       "        text-align: right;\n",
       "    }\n",
       "</style>\n",
       "<table border=\"1\" class=\"dataframe\">\n",
       "  <thead>\n",
       "    <tr style=\"text-align: right;\">\n",
       "      <th></th>\n",
       "      <th>path</th>\n",
       "      <th>class_Snare</th>\n",
       "      <th>class_Tom</th>\n",
       "      <th>class_Cymbal</th>\n",
       "      <th>class_Hat</th>\n",
       "      <th>class_Kick</th>\n",
       "      <th>class_Conga</th>\n",
       "      <th>class_Cowbell</th>\n",
       "      <th>class_Rimshot</th>\n",
       "      <th>class_Clap</th>\n",
       "      <th>class_Shaken</th>\n",
       "    </tr>\n",
       "  </thead>\n",
       "  <tbody>\n",
       "    <tr>\n",
       "      <th>17422</th>\n",
       "      <td>./Samples/wavegan-drums/valid/Snare_00328.wav</td>\n",
       "      <td>1.0</td>\n",
       "      <td>0.0</td>\n",
       "      <td>0.0</td>\n",
       "      <td>0.0</td>\n",
       "      <td>0.0</td>\n",
       "      <td>0.0</td>\n",
       "      <td>0.0</td>\n",
       "      <td>0.0</td>\n",
       "      <td>0.0</td>\n",
       "      <td>0.0</td>\n",
       "    </tr>\n",
       "    <tr>\n",
       "      <th>871</th>\n",
       "      <td>./Samples/MDLib2.2/Sorted/Snare SNoff/Rim/DI_S...</td>\n",
       "      <td>1.0</td>\n",
       "      <td>0.0</td>\n",
       "      <td>0.0</td>\n",
       "      <td>0.0</td>\n",
       "      <td>0.0</td>\n",
       "      <td>0.0</td>\n",
       "      <td>0.0</td>\n",
       "      <td>0.0</td>\n",
       "      <td>0.0</td>\n",
       "      <td>0.0</td>\n",
       "    </tr>\n",
       "    <tr>\n",
       "      <th>3919</th>\n",
       "      <td>./Samples/MDLib2.2/Sorted/Snare/Buzz/DI_Snare_...</td>\n",
       "      <td>1.0</td>\n",
       "      <td>0.0</td>\n",
       "      <td>0.0</td>\n",
       "      <td>0.0</td>\n",
       "      <td>0.0</td>\n",
       "      <td>0.0</td>\n",
       "      <td>0.0</td>\n",
       "      <td>0.0</td>\n",
       "      <td>0.0</td>\n",
       "      <td>0.0</td>\n",
       "    </tr>\n",
       "    <tr>\n",
       "      <th>1767</th>\n",
       "      <td>./Samples/MDLib2.2/Sorted/Snare SNoff/Cross St...</td>\n",
       "      <td>1.0</td>\n",
       "      <td>0.0</td>\n",
       "      <td>0.0</td>\n",
       "      <td>0.0</td>\n",
       "      <td>0.0</td>\n",
       "      <td>0.0</td>\n",
       "      <td>0.0</td>\n",
       "      <td>0.0</td>\n",
       "      <td>0.0</td>\n",
       "      <td>0.0</td>\n",
       "    </tr>\n",
       "    <tr>\n",
       "      <th>4734</th>\n",
       "      <td>./Samples/MDLib2.2/Sorted/Snare/Rim/ST_Snare_R...</td>\n",
       "      <td>1.0</td>\n",
       "      <td>0.0</td>\n",
       "      <td>0.0</td>\n",
       "      <td>0.0</td>\n",
       "      <td>0.0</td>\n",
       "      <td>0.0</td>\n",
       "      <td>0.0</td>\n",
       "      <td>0.0</td>\n",
       "      <td>0.0</td>\n",
       "      <td>0.0</td>\n",
       "    </tr>\n",
       "    <tr>\n",
       "      <th>...</th>\n",
       "      <td>...</td>\n",
       "      <td>...</td>\n",
       "      <td>...</td>\n",
       "      <td>...</td>\n",
       "      <td>...</td>\n",
       "      <td>...</td>\n",
       "      <td>...</td>\n",
       "      <td>...</td>\n",
       "      <td>...</td>\n",
       "      <td>...</td>\n",
       "      <td>...</td>\n",
       "    </tr>\n",
       "    <tr>\n",
       "      <th>20777</th>\n",
       "      <td>./Samples/musicradar-essential-drumkit-samples...</td>\n",
       "      <td>0.0</td>\n",
       "      <td>0.0</td>\n",
       "      <td>0.0</td>\n",
       "      <td>0.0</td>\n",
       "      <td>0.0</td>\n",
       "      <td>0.0</td>\n",
       "      <td>0.0</td>\n",
       "      <td>0.0</td>\n",
       "      <td>0.0</td>\n",
       "      <td>1.0</td>\n",
       "    </tr>\n",
       "    <tr>\n",
       "      <th>20778</th>\n",
       "      <td>./Samples/musicradar-essential-drumkit-samples...</td>\n",
       "      <td>0.0</td>\n",
       "      <td>0.0</td>\n",
       "      <td>0.0</td>\n",
       "      <td>0.0</td>\n",
       "      <td>0.0</td>\n",
       "      <td>0.0</td>\n",
       "      <td>0.0</td>\n",
       "      <td>0.0</td>\n",
       "      <td>0.0</td>\n",
       "      <td>1.0</td>\n",
       "    </tr>\n",
       "    <tr>\n",
       "      <th>20779</th>\n",
       "      <td>./Samples/musicradar-essential-drumkit-samples...</td>\n",
       "      <td>0.0</td>\n",
       "      <td>0.0</td>\n",
       "      <td>0.0</td>\n",
       "      <td>0.0</td>\n",
       "      <td>0.0</td>\n",
       "      <td>0.0</td>\n",
       "      <td>0.0</td>\n",
       "      <td>0.0</td>\n",
       "      <td>0.0</td>\n",
       "      <td>1.0</td>\n",
       "    </tr>\n",
       "    <tr>\n",
       "      <th>20853</th>\n",
       "      <td>./Samples/musicradar-essential-drumkit-samples...</td>\n",
       "      <td>0.0</td>\n",
       "      <td>0.0</td>\n",
       "      <td>0.0</td>\n",
       "      <td>0.0</td>\n",
       "      <td>0.0</td>\n",
       "      <td>0.0</td>\n",
       "      <td>0.0</td>\n",
       "      <td>0.0</td>\n",
       "      <td>0.0</td>\n",
       "      <td>1.0</td>\n",
       "    </tr>\n",
       "    <tr>\n",
       "      <th>20863</th>\n",
       "      <td>./Samples/musicradar-essential-drumkit-samples...</td>\n",
       "      <td>0.0</td>\n",
       "      <td>0.0</td>\n",
       "      <td>0.0</td>\n",
       "      <td>0.0</td>\n",
       "      <td>0.0</td>\n",
       "      <td>0.0</td>\n",
       "      <td>0.0</td>\n",
       "      <td>0.0</td>\n",
       "      <td>0.0</td>\n",
       "      <td>1.0</td>\n",
       "    </tr>\n",
       "  </tbody>\n",
       "</table>\n",
       "<p>1704 rows × 11 columns</p>\n",
       "</div>"
      ],
      "text/plain": [
       "                                                    path  class_Snare  \\\n",
       "17422      ./Samples/wavegan-drums/valid/Snare_00328.wav          1.0   \n",
       "871    ./Samples/MDLib2.2/Sorted/Snare SNoff/Rim/DI_S...          1.0   \n",
       "3919   ./Samples/MDLib2.2/Sorted/Snare/Buzz/DI_Snare_...          1.0   \n",
       "1767   ./Samples/MDLib2.2/Sorted/Snare SNoff/Cross St...          1.0   \n",
       "4734   ./Samples/MDLib2.2/Sorted/Snare/Rim/ST_Snare_R...          1.0   \n",
       "...                                                  ...          ...   \n",
       "20777  ./Samples/musicradar-essential-drumkit-samples...          0.0   \n",
       "20778  ./Samples/musicradar-essential-drumkit-samples...          0.0   \n",
       "20779  ./Samples/musicradar-essential-drumkit-samples...          0.0   \n",
       "20853  ./Samples/musicradar-essential-drumkit-samples...          0.0   \n",
       "20863  ./Samples/musicradar-essential-drumkit-samples...          0.0   \n",
       "\n",
       "       class_Tom  class_Cymbal  class_Hat  class_Kick  class_Conga  \\\n",
       "17422        0.0           0.0        0.0         0.0          0.0   \n",
       "871          0.0           0.0        0.0         0.0          0.0   \n",
       "3919         0.0           0.0        0.0         0.0          0.0   \n",
       "1767         0.0           0.0        0.0         0.0          0.0   \n",
       "4734         0.0           0.0        0.0         0.0          0.0   \n",
       "...          ...           ...        ...         ...          ...   \n",
       "20777        0.0           0.0        0.0         0.0          0.0   \n",
       "20778        0.0           0.0        0.0         0.0          0.0   \n",
       "20779        0.0           0.0        0.0         0.0          0.0   \n",
       "20853        0.0           0.0        0.0         0.0          0.0   \n",
       "20863        0.0           0.0        0.0         0.0          0.0   \n",
       "\n",
       "       class_Cowbell  class_Rimshot  class_Clap  class_Shaken  \n",
       "17422            0.0            0.0         0.0           0.0  \n",
       "871              0.0            0.0         0.0           0.0  \n",
       "3919             0.0            0.0         0.0           0.0  \n",
       "1767             0.0            0.0         0.0           0.0  \n",
       "4734             0.0            0.0         0.0           0.0  \n",
       "...              ...            ...         ...           ...  \n",
       "20777            0.0            0.0         0.0           1.0  \n",
       "20778            0.0            0.0         0.0           1.0  \n",
       "20779            0.0            0.0         0.0           1.0  \n",
       "20853            0.0            0.0         0.0           1.0  \n",
       "20863            0.0            0.0         0.0           1.0  \n",
       "\n",
       "[1704 rows x 11 columns]"
      ]
     },
     "execution_count": 3,
     "metadata": {},
     "output_type": "execute_result"
    }
   ],
   "source": [
    "data"
   ]
  },
  {
   "cell_type": "code",
   "execution_count": 4,
   "metadata": {},
   "outputs": [],
   "source": [
    "features = data[['path']]"
   ]
  },
  {
   "cell_type": "code",
   "execution_count": 5,
   "metadata": {},
   "outputs": [],
   "source": [
    "SR = 22050\n",
    "soundtestfile = data.iloc[0, 0]\n",
    "soundtest, _ = load(soundtestfile, sr=SR)\n",
    "soundtest = fix_length(soundtest, 1024*(SR//1024))"
   ]
  },
  {
   "cell_type": "code",
   "execution_count": 6,
   "metadata": {},
   "outputs": [
    {
     "data": {
      "text/plain": [
       "(21504,)"
      ]
     },
     "execution_count": 6,
     "metadata": {},
     "output_type": "execute_result"
    }
   ],
   "source": [
    "soundtest.shape"
   ]
  },
  {
   "cell_type": "code",
   "execution_count": 7,
   "metadata": {},
   "outputs": [
    {
     "data": {
      "text/plain": [
       "array([[2498.64027386, 2668.05249498, 3226.62612378, 3506.60782834,\n",
       "        3611.77019435, 3696.25322407, 3681.22868861, 3578.20663438,\n",
       "        3381.43896388, 3405.92776864, 1975.09809711, 2387.19141709,\n",
       "           0.        ,    0.        ,    0.        ,    0.        ,\n",
       "           0.        ,    0.        ,    0.        ,    0.        ,\n",
       "           0.        ,    0.        ,    0.        ,    0.        ,\n",
       "           0.        ,    0.        ,    0.        ,    0.        ,\n",
       "           0.        ,    0.        ,    0.        ,    0.        ,\n",
       "           0.        ,    0.        ,    0.        ,    0.        ,\n",
       "           0.        ,    0.        ,    0.        ,    0.        ,\n",
       "           0.        ,    0.        ,    0.        ]])"
      ]
     },
     "execution_count": 7,
     "metadata": {},
     "output_type": "execute_result"
    }
   ],
   "source": [
    "feature.spectral_centroid(soundtest, sr=SR)"
   ]
  },
  {
   "cell_type": "code",
   "execution_count": 8,
   "metadata": {},
   "outputs": [
    {
     "data": {
      "text/plain": [
       "array([[2095.27966786, 2155.00394083, 2359.6178961 , 2363.84648902,\n",
       "        2329.96480685, 2313.37764304, 2368.80194175, 2383.79308282,\n",
       "        2292.94834123, 2329.19224935, 2436.33482483, 2486.29715131,\n",
       "           0.        ,    0.        ,    0.        ,    0.        ,\n",
       "           0.        ,    0.        ,    0.        ,    0.        ,\n",
       "           0.        ,    0.        ,    0.        ,    0.        ,\n",
       "           0.        ,    0.        ,    0.        ,    0.        ,\n",
       "           0.        ,    0.        ,    0.        ,    0.        ,\n",
       "           0.        ,    0.        ,    0.        ,    0.        ,\n",
       "           0.        ,    0.        ,    0.        ,    0.        ,\n",
       "           0.        ,    0.        ,    0.        ]])"
      ]
     },
     "execution_count": 8,
     "metadata": {},
     "output_type": "execute_result"
    }
   ],
   "source": [
    "feature.spectral_bandwidth(soundtest, sr=SR)"
   ]
  },
  {
   "cell_type": "code",
   "execution_count": 9,
   "metadata": {},
   "outputs": [
    {
     "data": {
      "text/plain": [
       "array([[19.57932274,  9.29802939, 11.56099848, 10.58178102, 11.62885303,\n",
       "        18.39612649, 22.00584546,  9.95418136, 14.31314536, 18.80369272,\n",
       "        20.87483443,  8.93267348, 12.47081243, 12.47081243, 12.47081243,\n",
       "        12.47081243, 12.47081243, 12.47081243, 12.47081243, 12.47081243,\n",
       "        12.47081243, 12.47081243, 12.47081243, 12.47081243, 12.47081243,\n",
       "        12.47081243, 12.47081243, 12.47081243, 12.47081243, 12.47081243,\n",
       "        12.47081243, 12.47081243, 12.47081243, 12.47081243, 12.47081243,\n",
       "        12.47081243, 12.47081243, 12.47081243, 12.47081243, 12.47081243,\n",
       "        12.47081243, 12.47081243, 12.47081243],\n",
       "       [ 9.75288565, 11.40658873, 15.85132659, 22.69182971, 13.0595605 ,\n",
       "        10.2167721 , 14.82218537, 17.891949  , 11.90638739,  6.6398112 ,\n",
       "        11.12543247,  4.2228204 , 12.47081243, 12.47081243, 12.47081243,\n",
       "        12.47081243, 12.47081243, 12.47081243, 12.47081243, 12.47081243,\n",
       "        12.47081243, 12.47081243, 12.47081243, 12.47081243, 12.47081243,\n",
       "        12.47081243, 12.47081243, 12.47081243, 12.47081243, 12.47081243,\n",
       "        12.47081243, 12.47081243, 12.47081243, 12.47081243, 12.47081243,\n",
       "        12.47081243, 12.47081243, 12.47081243, 12.47081243, 12.47081243,\n",
       "        12.47081243, 12.47081243, 12.47081243],\n",
       "       [16.91778361, 10.29625672, 16.69746519, 18.05612963, 12.06314447,\n",
       "        13.46599167, 13.87759905, 18.60798648, 11.7495874 ,  7.6156863 ,\n",
       "        15.13300358,  5.6880454 , 12.47081243, 12.47081243, 12.47081243,\n",
       "        12.47081243, 12.47081243, 12.47081243, 12.47081243, 12.47081243,\n",
       "        12.47081243, 12.47081243, 12.47081243, 12.47081243, 12.47081243,\n",
       "        12.47081243, 12.47081243, 12.47081243, 12.47081243, 12.47081243,\n",
       "        12.47081243, 12.47081243, 12.47081243, 12.47081243, 12.47081243,\n",
       "        12.47081243, 12.47081243, 12.47081243, 12.47081243, 12.47081243,\n",
       "        12.47081243, 12.47081243, 12.47081243],\n",
       "       [26.73980919, 15.93683054, 18.66434749, 15.96475958, 15.63136446,\n",
       "        15.55290978, 17.30729251, 15.29738959, 16.03616795, 13.94377759,\n",
       "        13.80015229, 12.45305738, 12.47081243, 12.47081243, 12.47081243,\n",
       "        12.47081243, 12.47081243, 12.47081243, 12.47081243, 12.47081243,\n",
       "        12.47081243, 12.47081243, 12.47081243, 12.47081243, 12.47081243,\n",
       "        12.47081243, 12.47081243, 12.47081243, 12.47081243, 12.47081243,\n",
       "        12.47081243, 12.47081243, 12.47081243, 12.47081243, 12.47081243,\n",
       "        12.47081243, 12.47081243, 12.47081243, 12.47081243, 12.47081243,\n",
       "        12.47081243, 12.47081243, 12.47081243],\n",
       "       [22.83426478, 15.75941825, 14.45184373, 14.84032493, 15.94713828,\n",
       "        13.90798653, 12.63244656, 12.7780722 , 12.33726312, 14.41999549,\n",
       "        12.08467931, 12.07575278, 12.47081243, 12.47081243, 12.47081243,\n",
       "        12.47081243, 12.47081243, 12.47081243, 12.47081243, 12.47081243,\n",
       "        12.47081243, 12.47081243, 12.47081243, 12.47081243, 12.47081243,\n",
       "        12.47081243, 12.47081243, 12.47081243, 12.47081243, 12.47081243,\n",
       "        12.47081243, 12.47081243, 12.47081243, 12.47081243, 12.47081243,\n",
       "        12.47081243, 12.47081243, 12.47081243, 12.47081243, 12.47081243,\n",
       "        12.47081243, 12.47081243, 12.47081243],\n",
       "       [20.80018998, 14.7097339 , 13.49773219, 16.26553684, 13.81301092,\n",
       "        17.57541389, 14.4415767 , 14.53209699, 14.2086042 , 14.84123904,\n",
       "        14.54929091, 13.81006403, 12.47081243, 12.47081243, 12.47081243,\n",
       "        12.47081243, 12.47081243, 12.47081243, 12.47081243, 12.47081243,\n",
       "        12.47081243, 12.47081243, 12.47081243, 12.47081243, 12.47081243,\n",
       "        12.47081243, 12.47081243, 12.47081243, 12.47081243, 12.47081243,\n",
       "        12.47081243, 12.47081243, 12.47081243, 12.47081243, 12.47081243,\n",
       "        12.47081243, 12.47081243, 12.47081243, 12.47081243, 12.47081243,\n",
       "        12.47081243, 12.47081243, 12.47081243],\n",
       "       [52.14911758, 55.67317393, 77.41290982, 76.66476221, 77.19462855,\n",
       "        76.60906397, 79.46659188, 77.24246081, 72.50231473, 68.69693089,\n",
       "        52.95122085, 41.96397237, 12.47081243, 12.47081243, 12.47081243,\n",
       "        12.47081243, 12.47081243, 12.47081243, 12.47081243, 12.47081243,\n",
       "        12.47081243, 12.47081243, 12.47081243, 12.47081243, 12.47081243,\n",
       "        12.47081243, 12.47081243, 12.47081243, 12.47081243, 12.47081243,\n",
       "        12.47081243, 12.47081243, 12.47081243, 12.47081243, 12.47081243,\n",
       "        12.47081243, 12.47081243, 12.47081243, 12.47081243, 12.47081243,\n",
       "        12.47081243, 12.47081243, 12.47081243]])"
      ]
     },
     "execution_count": 9,
     "metadata": {},
     "output_type": "execute_result"
    }
   ],
   "source": [
    "feature.spectral_contrast(soundtest, sr=SR)"
   ]
  },
  {
   "cell_type": "code",
   "execution_count": 10,
   "metadata": {},
   "outputs": [
    {
     "data": {
      "text/plain": [
       "array([[3.8431119e-04, 4.6066521e-04, 4.2979608e-04, 5.1982427e-04,\n",
       "        6.3475961e-04, 6.4364268e-04, 5.9745804e-04, 7.0472655e-04,\n",
       "        1.4880927e-03, 2.5339474e-03, 4.0272405e-04, 1.0689297e-02,\n",
       "        1.0000007e+00, 1.0000007e+00, 1.0000007e+00, 1.0000007e+00,\n",
       "        1.0000007e+00, 1.0000007e+00, 1.0000007e+00, 1.0000007e+00,\n",
       "        1.0000007e+00, 1.0000007e+00, 1.0000007e+00, 1.0000007e+00,\n",
       "        1.0000007e+00, 1.0000007e+00, 1.0000007e+00, 1.0000007e+00,\n",
       "        1.0000007e+00, 1.0000007e+00, 1.0000007e+00, 1.0000007e+00,\n",
       "        1.0000007e+00, 1.0000007e+00, 1.0000007e+00, 1.0000007e+00,\n",
       "        1.0000007e+00, 1.0000007e+00, 1.0000007e+00, 1.0000007e+00,\n",
       "        1.0000007e+00, 1.0000007e+00, 1.0000007e+00]], dtype=float32)"
      ]
     },
     "execution_count": 10,
     "metadata": {},
     "output_type": "execute_result"
    }
   ],
   "source": [
    "feature.spectral_flatness(soundtest)"
   ]
  },
  {
   "cell_type": "code",
   "execution_count": 11,
   "metadata": {},
   "outputs": [
    {
     "data": {
      "text/plain": [
       "array([[5189.50195312, 5501.73339844, 6319.99511719, 6427.66113281,\n",
       "        6449.19433594, 6513.79394531, 6610.69335938, 6589.16015625,\n",
       "        6298.46191406, 6363.06152344, 5447.90039062, 5781.66503906,\n",
       "           0.        ,    0.        ,    0.        ,    0.        ,\n",
       "           0.        ,    0.        ,    0.        ,    0.        ,\n",
       "           0.        ,    0.        ,    0.        ,    0.        ,\n",
       "           0.        ,    0.        ,    0.        ,    0.        ,\n",
       "           0.        ,    0.        ,    0.        ,    0.        ,\n",
       "           0.        ,    0.        ,    0.        ,    0.        ,\n",
       "           0.        ,    0.        ,    0.        ,    0.        ,\n",
       "           0.        ,    0.        ,    0.        ]])"
      ]
     },
     "execution_count": 11,
     "metadata": {},
     "output_type": "execute_result"
    }
   ],
   "source": [
    "feature.spectral_rolloff(soundtest, sr=SR)"
   ]
  },
  {
   "cell_type": "code",
   "execution_count": 12,
   "metadata": {},
   "outputs": [
    {
     "data": {
      "text/plain": [
       "array([[-5.25797485e-04, -5.49110434e-04, -3.65339766e-04,\n",
       "        -3.40923909e-04, -3.54714924e-04, -3.16105768e-04,\n",
       "        -2.70815886e-04, -1.90553789e-04, -7.86620288e-05,\n",
       "        -1.29130423e-05, -8.69894234e-07, -6.67786603e-08,\n",
       "         0.00000000e+00,  0.00000000e+00,  0.00000000e+00,\n",
       "         0.00000000e+00,  0.00000000e+00,  0.00000000e+00,\n",
       "         0.00000000e+00,  0.00000000e+00,  0.00000000e+00,\n",
       "         0.00000000e+00,  0.00000000e+00,  0.00000000e+00,\n",
       "         0.00000000e+00,  0.00000000e+00,  0.00000000e+00,\n",
       "         0.00000000e+00,  0.00000000e+00,  0.00000000e+00,\n",
       "         0.00000000e+00,  0.00000000e+00,  0.00000000e+00,\n",
       "         0.00000000e+00,  0.00000000e+00,  0.00000000e+00,\n",
       "         0.00000000e+00,  0.00000000e+00,  0.00000000e+00,\n",
       "         0.00000000e+00,  0.00000000e+00,  0.00000000e+00,\n",
       "         0.00000000e+00],\n",
       "       [ 4.66905196e+00,  4.98619993e+00,  3.63599965e+00,\n",
       "         3.60428002e+00,  3.84937673e+00,  3.50889995e+00,\n",
       "         2.99374852e+00,  2.05024035e+00,  8.08245855e-01,\n",
       "         1.33395348e-01,  7.29106680e-03,  5.84971722e-04,\n",
       "         0.00000000e+00,  0.00000000e+00,  0.00000000e+00,\n",
       "         0.00000000e+00,  0.00000000e+00,  0.00000000e+00,\n",
       "         0.00000000e+00,  0.00000000e+00,  0.00000000e+00,\n",
       "         0.00000000e+00,  0.00000000e+00,  0.00000000e+00,\n",
       "         0.00000000e+00,  0.00000000e+00,  0.00000000e+00,\n",
       "         0.00000000e+00,  0.00000000e+00,  0.00000000e+00,\n",
       "         0.00000000e+00,  0.00000000e+00,  0.00000000e+00,\n",
       "         0.00000000e+00,  0.00000000e+00,  0.00000000e+00,\n",
       "         0.00000000e+00,  0.00000000e+00,  0.00000000e+00,\n",
       "         0.00000000e+00,  0.00000000e+00,  0.00000000e+00,\n",
       "         0.00000000e+00]])"
      ]
     },
     "execution_count": 12,
     "metadata": {},
     "output_type": "execute_result"
    }
   ],
   "source": [
    "feature.poly_features(soundtest, sr=SR)"
   ]
  },
  {
   "cell_type": "code",
   "execution_count": 13,
   "metadata": {},
   "outputs": [
    {
     "data": {
      "text/plain": [
       "array([[ 1.09319446e-02, -1.07388252e-02,  1.29526601e-02,\n",
       "         1.77854876e-02,  3.86416480e-02,  3.60004604e-04,\n",
       "         1.83445857e-02, -5.26747229e-03, -5.34543420e-03,\n",
       "        -1.26329297e-02, -1.45599549e-02, -3.92604196e-02,\n",
       "        -2.82208278e-02,  2.28255664e-02, -6.06664197e-03,\n",
       "        -9.99726521e-02, -2.09402092e-02,  1.08524926e-01,\n",
       "         1.99108889e-02,  1.82174584e-01, -8.04317350e-02,\n",
       "        -1.24200113e-01,  2.59117644e-01, -1.45588387e-02,\n",
       "        -1.30952749e-02,  1.38578518e-02,  6.55223273e-02,\n",
       "         5.39503090e-02,  6.44703151e-02,  6.19634081e-02,\n",
       "         0.00000000e+00,  0.00000000e+00,  0.00000000e+00,\n",
       "         0.00000000e+00,  0.00000000e+00,  0.00000000e+00,\n",
       "         0.00000000e+00,  0.00000000e+00,  0.00000000e+00,\n",
       "         0.00000000e+00,  0.00000000e+00,  0.00000000e+00,\n",
       "         0.00000000e+00],\n",
       "       [-6.42688159e-03,  2.44412321e-02,  1.71808122e-03,\n",
       "         1.47494003e-02, -1.13676675e-02, -3.29638416e-04,\n",
       "         3.76978200e-02,  9.81429723e-03,  3.88746635e-04,\n",
       "         1.99617177e-02,  9.54266123e-03,  5.38405635e-02,\n",
       "         1.01824705e-01,  9.11272096e-02,  4.72568957e-02,\n",
       "        -2.34745660e-03,  6.79063443e-02,  2.25837850e-01,\n",
       "         1.07753335e-02, -1.54591432e-01, -9.81400375e-02,\n",
       "        -9.02469036e-02, -2.29877917e-01, -1.35125969e-01,\n",
       "        -2.66814366e-01, -2.59426363e-01, -2.57966236e-01,\n",
       "        -2.56099229e-01, -2.65653694e-01, -2.64268902e-01,\n",
       "         0.00000000e+00,  0.00000000e+00,  0.00000000e+00,\n",
       "         0.00000000e+00,  0.00000000e+00,  0.00000000e+00,\n",
       "         0.00000000e+00,  0.00000000e+00,  0.00000000e+00,\n",
       "         0.00000000e+00,  0.00000000e+00,  0.00000000e+00,\n",
       "         0.00000000e+00],\n",
       "       [-2.94004193e-02,  2.58345185e-02, -9.69752604e-02,\n",
       "         2.19244792e-02,  6.07265026e-02, -2.89550416e-03,\n",
       "         4.87605826e-02,  4.33466833e-03,  1.31093443e-02,\n",
       "        -3.47595381e-02, -7.30987913e-02, -4.54025566e-02,\n",
       "        -9.35741385e-02, -8.06012615e-02, -1.84698686e-01,\n",
       "        -1.62086674e-01, -3.36774635e-02,  3.61851307e-03,\n",
       "         1.26685650e-03,  2.18905067e-01, -2.82861805e-02,\n",
       "         1.39744919e-01,  2.09133644e-01,  8.81136557e-02,\n",
       "        -1.45911688e-01, -1.25942365e-01, -5.10839663e-02,\n",
       "        -6.45299739e-02, -6.94524137e-02, -6.99493142e-02,\n",
       "         0.00000000e+00,  0.00000000e+00,  0.00000000e+00,\n",
       "         0.00000000e+00,  0.00000000e+00,  0.00000000e+00,\n",
       "         0.00000000e+00,  0.00000000e+00,  0.00000000e+00,\n",
       "         0.00000000e+00,  0.00000000e+00,  0.00000000e+00,\n",
       "         0.00000000e+00],\n",
       "       [ 2.70070605e-02,  4.31955290e-02,  6.47534328e-02,\n",
       "         4.06269590e-02,  1.44398882e-03, -5.84644145e-02,\n",
       "         4.52770769e-02,  1.26880811e-02,  2.58407623e-03,\n",
       "        -2.97197937e-02,  2.50648441e-02,  2.16608319e-02,\n",
       "         1.50849370e-02,  2.44195104e-02,  1.29457894e-01,\n",
       "         1.78946705e-01,  1.04809660e-01,  1.08869687e-01,\n",
       "        -1.72667505e-01, -9.87997191e-02, -1.11427106e-01,\n",
       "        -1.81203727e-01, -1.86867872e-01, -1.21009237e-01,\n",
       "        -1.52236224e-02, -1.80996902e-02, -9.83281005e-02,\n",
       "        -8.37813149e-02, -8.50235051e-02, -8.34971509e-02,\n",
       "         0.00000000e+00,  0.00000000e+00,  0.00000000e+00,\n",
       "         0.00000000e+00,  0.00000000e+00,  0.00000000e+00,\n",
       "         0.00000000e+00,  0.00000000e+00,  0.00000000e+00,\n",
       "         0.00000000e+00,  0.00000000e+00,  0.00000000e+00,\n",
       "         0.00000000e+00],\n",
       "       [ 7.67926388e-04,  2.01847246e-02,  7.17036365e-03,\n",
       "        -1.14462661e-02, -3.29675327e-03,  1.68101203e-02,\n",
       "         4.54105470e-03,  1.10285112e-02,  1.67297548e-03,\n",
       "         6.05672916e-03,  1.38462961e-02,  1.14622607e-02,\n",
       "        -1.26348480e-02,  1.21805915e-02,  6.00594571e-02,\n",
       "         5.74835857e-02, -1.60748455e-02, -8.71919749e-02,\n",
       "         2.34626369e-02, -8.97700229e-02,  1.10043742e-01,\n",
       "         6.56339714e-02,  8.90655233e-02,  1.31362153e-02,\n",
       "         7.66273570e-02,  6.69050172e-02,  8.08737021e-02,\n",
       "         8.00954830e-02,  7.86374428e-02,  7.87083519e-02,\n",
       "         0.00000000e+00,  0.00000000e+00,  0.00000000e+00,\n",
       "         0.00000000e+00,  0.00000000e+00,  0.00000000e+00,\n",
       "         0.00000000e+00,  0.00000000e+00,  0.00000000e+00,\n",
       "         0.00000000e+00,  0.00000000e+00,  0.00000000e+00,\n",
       "         0.00000000e+00],\n",
       "       [ 1.64051391e-02, -9.64488770e-03, -2.59822361e-02,\n",
       "        -3.08304533e-02,  4.20740336e-03, -2.16409545e-04,\n",
       "        -1.18333999e-02,  1.39813311e-03,  7.65379131e-03,\n",
       "         1.10701493e-02,  1.36768579e-02,  2.80431532e-02,\n",
       "         3.12999679e-02,  3.53334949e-02,  5.15320851e-02,\n",
       "         3.14821134e-02,  7.97850204e-02,  1.22188815e-01,\n",
       "         7.02617556e-03, -7.40936366e-02,  2.05296667e-02,\n",
       "        -9.02191544e-02, -1.42090649e-02,  1.72065372e-02,\n",
       "        -2.95404860e-02, -2.32125343e-02, -4.03313631e-02,\n",
       "        -3.75590693e-02, -3.95810155e-02, -3.89810685e-02,\n",
       "         0.00000000e+00,  0.00000000e+00,  0.00000000e+00,\n",
       "         0.00000000e+00,  0.00000000e+00,  0.00000000e+00,\n",
       "         0.00000000e+00,  0.00000000e+00,  0.00000000e+00,\n",
       "         0.00000000e+00,  0.00000000e+00,  0.00000000e+00,\n",
       "         0.00000000e+00]])"
      ]
     },
     "execution_count": 13,
     "metadata": {},
     "output_type": "execute_result"
    }
   ],
   "source": [
    "feature.tonnetz(soundtest, sr=SR)"
   ]
  },
  {
   "cell_type": "code",
   "execution_count": 14,
   "metadata": {},
   "outputs": [
    {
     "data": {
      "text/plain": [
       "array([[0.07666016, 0.15429688, 0.22802734, 0.28857422, 0.32666016,\n",
       "        0.32861328, 0.33251953, 0.24511719, 0.18701172, 0.10839844,\n",
       "        0.03076172, 0.02880859, 0.        , 0.        , 0.        ,\n",
       "        0.        , 0.        , 0.        , 0.        , 0.        ,\n",
       "        0.        , 0.        , 0.        , 0.        , 0.        ,\n",
       "        0.        , 0.        , 0.        , 0.        , 0.        ,\n",
       "        0.        , 0.        , 0.        , 0.        , 0.        ,\n",
       "        0.        , 0.        , 0.        , 0.        , 0.        ,\n",
       "        0.        , 0.        , 0.        ]])"
      ]
     },
     "execution_count": 14,
     "metadata": {},
     "output_type": "execute_result"
    }
   ],
   "source": [
    "feature.zero_crossing_rate(soundtest)"
   ]
  },
  {
   "cell_type": "code",
   "execution_count": 15,
   "metadata": {},
   "outputs": [],
   "source": [
    "rms = feature.rms(soundtest)[0]\n",
    "rms_norm = rms/rms[0]\n",
    "decay = feature.delta(rms_norm)"
   ]
  },
  {
   "cell_type": "code",
   "execution_count": 16,
   "metadata": {},
   "outputs": [],
   "source": [
    "rms_centroid = (rms * np.arange(len(rms))).sum() / (np.arange(len(rms)).sum())"
   ]
  },
  {
   "cell_type": "code",
   "execution_count": 17,
   "metadata": {},
   "outputs": [
    {
     "data": {
      "text/plain": [
       "0.0031385345427086837"
      ]
     },
     "execution_count": 17,
     "metadata": {},
     "output_type": "execute_result"
    }
   ],
   "source": [
    "rms_centroid"
   ]
  },
  {
   "cell_type": "code",
   "execution_count": 18,
   "metadata": {},
   "outputs": [],
   "source": [
    "index = data.index\n",
    "files = data['path']\n",
    "features = DataFrame()"
   ]
  },
  {
   "cell_type": "code",
   "execution_count": 19,
   "metadata": {
    "scrolled": true
   },
   "outputs": [
    {
     "name": "stderr",
     "output_type": "stream",
     "text": [
      "100%|██████████| 1704/1704 [03:42<00:00,  7.65it/s]\n"
     ]
    }
   ],
   "source": [
    "SR=22050\n",
    "#data = data.sample(frac=0.2)\n",
    "for index, file in tqdm(zip(data.index, data['path']), total=len(data.index), position=0, leave=True):\n",
    "    sound, _ = load(file, sr=SR)\n",
    "    sound = fix_length(sound, 1024*(SR//1024))\n",
    "    \n",
    "    rms = feature.rms(sound)[0]\n",
    "    rms_centroid = (rms * np.arange(len(rms))).sum() / (np.arange(len(rms)).sum())\n",
    "    features.loc[index, 'rms_centroid'] = rms_centroid\n",
    "    \n",
    "    zero_cr = feature.zero_crossing_rate(sound)[0]\n",
    "    columns = ['zero_cr_' + str(x) for x in range(zero_cr.shape[0])]\n",
    "    for col, value in zip(columns, zero_cr):\n",
    "        features.loc[index, col] = value\n",
    "        \n",
    "    spect_cent = feature.spectral_centroid(sound, sr=SR)[0]\n",
    "    columns = ['spect_cent_' + str(x) for x in range(spect_cent.shape[0])]\n",
    "    for col, value in zip(columns, spect_cent):\n",
    "        features.loc[index, col] = value\n",
    "        \n",
    "    spect_ro = feature.spectral_rolloff(sound, sr=SR)[0]\n",
    "    columns = ['spect_ro_' + str(x) for x in range(spect_ro.shape[0])]\n",
    "    for col, value in zip(columns, spect_ro):\n",
    "        features.loc[index, col] = value\n",
    "        \n",
    "    rms = feature.rms(sound)[0]\n",
    "    columns = ['rms_' + str(x) for x in range(rms.shape[0])]\n",
    "    for col, value in zip(columns, rms):\n",
    "        #features.loc[index, col] = value\n",
    "        features.loc[index, 'norm_'+ col] = value/rms[0]\n",
    "    \n",
    "        \n",
    "    spect_cont = feature.spectral_contrast(sound, sr=SR)\n",
    "    for i in range (spect_cont.shape[0]):\n",
    "        for j in range (spect_cont.shape[1]):\n",
    "            col = 'spec_cont_' + str(i) + '_' + str(j)\n",
    "            features.loc[index, col] = spect_cont[i][j]"
   ]
  },
  {
   "cell_type": "code",
   "execution_count": 20,
   "metadata": {},
   "outputs": [],
   "source": [
    "features.to_csv('features.csv')"
   ]
  },
  {
   "cell_type": "code",
   "execution_count": 21,
   "metadata": {},
   "outputs": [],
   "source": [
    "Y = data.loc[features.index,[c for c in data.columns if c.startswith('class_')]]\n",
    "#Y = data.fillna(0)"
   ]
  },
  {
   "cell_type": "code",
   "execution_count": 91,
   "metadata": {},
   "outputs": [],
   "source": [
    "from sklearn.model_selection import train_test_split\n",
    "from sklearn.model_selection import StratifiedShuffleSplit\n",
    "sss = StratifiedShuffleSplit(test_size=0.2)\n",
    "train_index, test_index = next(sss.split(features, Y))\n",
    "train_X = features.iloc[train_index,:]\n",
    "valid_X = features.iloc[test_index,:]\n",
    "train_Y = Y.iloc[train_index,:]\n",
    "valid_Y = Y.iloc[test_index,:]\n",
    "\n",
    "#train_X, valid_X , train_Y, valid_Y = train_test_split(features, data, test_size=0.8)"
   ]
  },
  {
   "cell_type": "code",
   "execution_count": 116,
   "metadata": {},
   "outputs": [],
   "source": [
    "from sklearn.tree import DecisionTreeClassifier\n",
    "from sklearn.ensemble import RandomForestClassifier\n",
    "clf = RandomForestClassifier(criterion='gini', class_weight= 'balanced')\n",
    "#clf = DecisionTreeClassifier()\n",
    "clf = clf.fit(train_X, train_Y)"
   ]
  },
  {
   "cell_type": "code",
   "execution_count": 121,
   "metadata": {},
   "outputs": [],
   "source": [
    "valid_Y_pred =  clf.predict_proba(valid_X)\n",
    "pred= [ valid_Y_pred[i][j][1] for j in range(len(valid_Y_pred[0])) for i in range(Y.shape[1])  ]\n",
    "pred = np.asarray(pred).reshape(-1, Y.shape[1])"
   ]
  },
  {
   "cell_type": "code",
   "execution_count": 122,
   "metadata": {},
   "outputs": [
    {
     "data": {
      "image/png": "[encoded data removed]",
      "text/plain": [
       "<Figure size 936x720 with 2 Axes>"
      ]
     },
     "metadata": {
      "needs_background": "light"
     },
     "output_type": "display_data"
    }
   ],
   "source": [
    "matrix = np.zeros([Y.shape[1],Y.shape[1]], dtype = float)\n",
    "for probas, y in zip(pred, valid_Y.values):\n",
    "    y = y.argmax()\n",
    "    matrix[y] += probas\n",
    "matrix_df = DataFrame(matrix, index=valid_Y.columns, columns='pred_'+valid_Y.columns)\n",
    "plt.figure(figsize = (13,10))\n",
    "sns.heatmap(matrix_df, annot=True);"
   ]
  },
  {
   "cell_type": "code",
   "execution_count": 123,
   "metadata": {},
   "outputs": [
    {
     "data": {
      "image/png": "[encoded data removed]",
      "text/plain": [
       "<Figure size 936x720 with 2 Axes>"
      ]
     },
     "metadata": {
      "needs_background": "light"
     },
     "output_type": "display_data"
    }
   ],
   "source": [
    "valid_Y_class = valid_Y.values.argmax(axis=1)\n",
    "valid_Y_pred_class = pred.argmax(axis=1)\n",
    "matrix = confusion_matrix(valid_Y_class, valid_Y_pred_class)\n",
    "matrix_df = DataFrame(matrix, index=valid_Y.columns, columns='pred_'+valid_Y.columns)\n",
    "plt.figure(figsize = (13,10))\n",
    "sns.heatmap(matrix_df, annot=True);"
   ]
  },
  {
   "cell_type": "code",
   "execution_count": 124,
   "metadata": {},
   "outputs": [
    {
     "name": "stdout",
     "output_type": "stream",
     "text": [
      "              precision    recall  f1-score   support\n",
      "\n",
      "           0       0.81      0.75      0.78        40\n",
      "           1       0.92      0.90      0.91        40\n",
      "           2       0.85      1.00      0.92        40\n",
      "           3       0.84      0.68      0.75        40\n",
      "           4       0.90      0.93      0.91        40\n",
      "           5       0.88      0.75      0.81        20\n",
      "           6       0.90      0.96      0.93        27\n",
      "           7       0.67      0.67      0.67        24\n",
      "           8       0.84      0.95      0.89        40\n",
      "           9       0.80      0.80      0.80        30\n",
      "\n",
      "    accuracy                           0.85       341\n",
      "   macro avg       0.84      0.84      0.84       341\n",
      "weighted avg       0.85      0.85      0.84       341\n",
      "\n"
     ]
    }
   ],
   "source": [
    "print(classification_report(valid_Y_class, valid_Y_pred_class))"
   ]
  },
  {
   "cell_type": "code",
   "execution_count": 125,
   "metadata": {},
   "outputs": [
    {
     "data": {
      "text/plain": [
       "4"
      ]
     },
     "execution_count": 125,
     "metadata": {},
     "output_type": "execute_result"
    }
   ],
   "source": [
    "valid_Y.values[0].argmax()"
   ]
  },
  {
   "cell_type": "code",
   "execution_count": 126,
   "metadata": {},
   "outputs": [
    {
     "data": {
      "text/plain": [
       "[]"
      ]
     },
     "execution_count": 126,
     "metadata": {},
     "output_type": "execute_result"
    },
    {
     "data": {
      "image/png": "[encoded data removed]",
      "text/plain": [
       "<Figure size 1152x360 with 1 Axes>"
      ]
     },
     "metadata": {
      "needs_background": "light"
     },
     "output_type": "display_data"
    }
   ],
   "source": [
    "len(clf.feature_importances_) , len(features.columns)\n",
    "bars = DataFrame(data=[clf.feature_importances_], columns = features.columns, index = ['score'])\n",
    "plt.figure(figsize = (16,5))\n",
    "chart = sns.barplot(data=bars)\n",
    "chart.set_xticklabels(chart.get_xticklabels(), rotation=60, horizontalalignment='right')\n",
    "plt.plot()"
   ]
  },
  {
   "cell_type": "code",
   "execution_count": 127,
   "metadata": {},
   "outputs": [
    {
     "data": {
      "text/plain": [
       "[]"
      ]
     },
     "execution_count": 127,
     "metadata": {},
     "output_type": "execute_result"
    },
    {
     "data": {
      "image/png": "[encoded data removed]",
      "text/plain": [
       "<Figure size 1152x360 with 1 Axes>"
      ]
     },
     "metadata": {
      "needs_background": "light"
     },
     "output_type": "display_data"
    }
   ],
   "source": [
    "bars = DataFrame(data=[clf.feature_importances_], columns = features.columns, index = ['score'])\n",
    "cols = [c for c in features.columns if c.startswith('rms_') or c.startswith('norm_rms_') ]\n",
    "bars = bars[cols]\n",
    "plt.figure(figsize = (16,5))\n",
    "chart = sns.barplot(data=bars)\n",
    "chart.set_xticklabels(chart.get_xticklabels(), rotation=60, horizontalalignment='right')\n",
    "plt.plot()"
   ]
  },
  {
   "cell_type": "code",
   "execution_count": 128,
   "metadata": {},
   "outputs": [],
   "source": [
    "# from sklearn.svm import SVC\n",
    "# svc = SVC(decision_function_shape='ovr')\n",
    "# svc.fit(train_X, train_Y.values.argmax(axis=1))\n",
    "# valid_Y_pred =  svc.predict(valid_X)\n",
    "# matrix = confusion_matrix(valid_Y.values.argmax(axis=1), valid_Y_pred)\n",
    "# matrix_df = DataFrame(matrix,Y.columns index=valid_Y.columns, columns=valid_Y.columns)\n",
    "# plt.figure(figsize = (15,10))\n",
    "# sn.heatmap(matrix_df, annot=True)"
   ]
  },
  {
   "cell_type": "code",
   "execution_count": 129,
   "metadata": {},
   "outputs": [
    {
     "data": {
      "text/html": [
       "<div>\n",
       "<style scoped>\n",
       "    .dataframe tbody tr th:only-of-type {\n",
       "        vertical-align: middle;\n",
       "    }\n",
       "\n",
       "    .dataframe tbody tr th {\n",
       "        vertical-align: top;\n",
       "    }\n",
       "\n",
       "    .dataframe thead th {\n",
       "        text-align: right;\n",
       "    }\n",
       "</style>\n",
       "<table border=\"1\" class=\"dataframe\">\n",
       "  <thead>\n",
       "    <tr style=\"text-align: right;\">\n",
       "      <th></th>\n",
       "      <th>rms_centroid</th>\n",
       "      <th>zero_cr_0</th>\n",
       "      <th>zero_cr_1</th>\n",
       "      <th>zero_cr_2</th>\n",
       "      <th>zero_cr_3</th>\n",
       "      <th>zero_cr_4</th>\n",
       "      <th>zero_cr_5</th>\n",
       "      <th>zero_cr_6</th>\n",
       "      <th>zero_cr_7</th>\n",
       "      <th>zero_cr_8</th>\n",
       "      <th>...</th>\n",
       "      <th>spec_cont_6_33</th>\n",
       "      <th>spec_cont_6_34</th>\n",
       "      <th>spec_cont_6_35</th>\n",
       "      <th>spec_cont_6_36</th>\n",
       "      <th>spec_cont_6_37</th>\n",
       "      <th>spec_cont_6_38</th>\n",
       "      <th>spec_cont_6_39</th>\n",
       "      <th>spec_cont_6_40</th>\n",
       "      <th>spec_cont_6_41</th>\n",
       "      <th>spec_cont_6_42</th>\n",
       "    </tr>\n",
       "  </thead>\n",
       "  <tbody>\n",
       "    <tr>\n",
       "      <th>17422</th>\n",
       "      <td>0.003139</td>\n",
       "      <td>0.076660</td>\n",
       "      <td>0.154297</td>\n",
       "      <td>0.228027</td>\n",
       "      <td>0.288574</td>\n",
       "      <td>0.326660</td>\n",
       "      <td>0.328613</td>\n",
       "      <td>0.332520</td>\n",
       "      <td>0.245117</td>\n",
       "      <td>0.187012</td>\n",
       "      <td>...</td>\n",
       "      <td>12.470812</td>\n",
       "      <td>12.470812</td>\n",
       "      <td>12.470812</td>\n",
       "      <td>12.470812</td>\n",
       "      <td>12.470812</td>\n",
       "      <td>12.470812</td>\n",
       "      <td>12.470812</td>\n",
       "      <td>12.470812</td>\n",
       "      <td>12.470812</td>\n",
       "      <td>12.470812</td>\n",
       "    </tr>\n",
       "    <tr>\n",
       "      <th>871</th>\n",
       "      <td>0.000038</td>\n",
       "      <td>0.109375</td>\n",
       "      <td>0.130859</td>\n",
       "      <td>0.146973</td>\n",
       "      <td>0.079590</td>\n",
       "      <td>0.079590</td>\n",
       "      <td>0.079102</td>\n",
       "      <td>0.089355</td>\n",
       "      <td>0.091309</td>\n",
       "      <td>0.091309</td>\n",
       "      <td>...</td>\n",
       "      <td>19.994826</td>\n",
       "      <td>19.994826</td>\n",
       "      <td>19.994826</td>\n",
       "      <td>19.994826</td>\n",
       "      <td>19.994826</td>\n",
       "      <td>19.994826</td>\n",
       "      <td>19.994826</td>\n",
       "      <td>19.994826</td>\n",
       "      <td>19.994826</td>\n",
       "      <td>19.994826</td>\n",
       "    </tr>\n",
       "    <tr>\n",
       "      <th>3919</th>\n",
       "      <td>0.000686</td>\n",
       "      <td>0.044922</td>\n",
       "      <td>0.061035</td>\n",
       "      <td>0.114746</td>\n",
       "      <td>0.160156</td>\n",
       "      <td>0.203613</td>\n",
       "      <td>0.220215</td>\n",
       "      <td>0.203613</td>\n",
       "      <td>0.162598</td>\n",
       "      <td>0.137695</td>\n",
       "      <td>...</td>\n",
       "      <td>20.874516</td>\n",
       "      <td>18.582983</td>\n",
       "      <td>14.719808</td>\n",
       "      <td>16.931977</td>\n",
       "      <td>16.931977</td>\n",
       "      <td>16.931977</td>\n",
       "      <td>16.931977</td>\n",
       "      <td>16.931977</td>\n",
       "      <td>16.931977</td>\n",
       "      <td>16.931977</td>\n",
       "    </tr>\n",
       "    <tr>\n",
       "      <th>1767</th>\n",
       "      <td>0.000016</td>\n",
       "      <td>0.100098</td>\n",
       "      <td>0.129883</td>\n",
       "      <td>0.148926</td>\n",
       "      <td>0.097168</td>\n",
       "      <td>0.089355</td>\n",
       "      <td>0.081055</td>\n",
       "      <td>0.083008</td>\n",
       "      <td>0.086914</td>\n",
       "      <td>0.088379</td>\n",
       "      <td>...</td>\n",
       "      <td>26.505635</td>\n",
       "      <td>25.796007</td>\n",
       "      <td>27.670089</td>\n",
       "      <td>28.103431</td>\n",
       "      <td>28.008058</td>\n",
       "      <td>27.112993</td>\n",
       "      <td>25.436447</td>\n",
       "      <td>27.942755</td>\n",
       "      <td>20.305885</td>\n",
       "      <td>25.543207</td>\n",
       "    </tr>\n",
       "    <tr>\n",
       "      <th>4734</th>\n",
       "      <td>0.000468</td>\n",
       "      <td>0.075195</td>\n",
       "      <td>0.135254</td>\n",
       "      <td>0.177734</td>\n",
       "      <td>0.182129</td>\n",
       "      <td>0.184570</td>\n",
       "      <td>0.163086</td>\n",
       "      <td>0.152344</td>\n",
       "      <td>0.147461</td>\n",
       "      <td>0.154785</td>\n",
       "      <td>...</td>\n",
       "      <td>28.338587</td>\n",
       "      <td>27.787136</td>\n",
       "      <td>27.633174</td>\n",
       "      <td>22.438654</td>\n",
       "      <td>19.734330</td>\n",
       "      <td>17.572551</td>\n",
       "      <td>9.699721</td>\n",
       "      <td>9.699721</td>\n",
       "      <td>9.699721</td>\n",
       "      <td>9.699721</td>\n",
       "    </tr>\n",
       "    <tr>\n",
       "      <th>...</th>\n",
       "      <td>...</td>\n",
       "      <td>...</td>\n",
       "      <td>...</td>\n",
       "      <td>...</td>\n",
       "      <td>...</td>\n",
       "      <td>...</td>\n",
       "      <td>...</td>\n",
       "      <td>...</td>\n",
       "      <td>...</td>\n",
       "      <td>...</td>\n",
       "      <td>...</td>\n",
       "      <td>...</td>\n",
       "      <td>...</td>\n",
       "      <td>...</td>\n",
       "      <td>...</td>\n",
       "      <td>...</td>\n",
       "      <td>...</td>\n",
       "      <td>...</td>\n",
       "      <td>...</td>\n",
       "      <td>...</td>\n",
       "      <td>...</td>\n",
       "    </tr>\n",
       "    <tr>\n",
       "      <th>20777</th>\n",
       "      <td>0.000870</td>\n",
       "      <td>0.301270</td>\n",
       "      <td>0.437500</td>\n",
       "      <td>0.579102</td>\n",
       "      <td>0.574707</td>\n",
       "      <td>0.522461</td>\n",
       "      <td>0.503418</td>\n",
       "      <td>0.480469</td>\n",
       "      <td>0.416016</td>\n",
       "      <td>0.364258</td>\n",
       "      <td>...</td>\n",
       "      <td>15.597893</td>\n",
       "      <td>15.597893</td>\n",
       "      <td>15.597893</td>\n",
       "      <td>15.597893</td>\n",
       "      <td>15.597893</td>\n",
       "      <td>15.597893</td>\n",
       "      <td>15.597893</td>\n",
       "      <td>15.597893</td>\n",
       "      <td>15.597893</td>\n",
       "      <td>15.597893</td>\n",
       "    </tr>\n",
       "    <tr>\n",
       "      <th>20778</th>\n",
       "      <td>0.002271</td>\n",
       "      <td>0.231445</td>\n",
       "      <td>0.375977</td>\n",
       "      <td>0.526367</td>\n",
       "      <td>0.571777</td>\n",
       "      <td>0.557129</td>\n",
       "      <td>0.535156</td>\n",
       "      <td>0.508301</td>\n",
       "      <td>0.471680</td>\n",
       "      <td>0.457031</td>\n",
       "      <td>...</td>\n",
       "      <td>14.772584</td>\n",
       "      <td>14.772584</td>\n",
       "      <td>14.772584</td>\n",
       "      <td>14.772584</td>\n",
       "      <td>14.772584</td>\n",
       "      <td>14.772584</td>\n",
       "      <td>14.772584</td>\n",
       "      <td>14.772584</td>\n",
       "      <td>14.772584</td>\n",
       "      <td>14.772584</td>\n",
       "    </tr>\n",
       "    <tr>\n",
       "      <th>20779</th>\n",
       "      <td>0.010282</td>\n",
       "      <td>0.219727</td>\n",
       "      <td>0.338379</td>\n",
       "      <td>0.458496</td>\n",
       "      <td>0.472168</td>\n",
       "      <td>0.485352</td>\n",
       "      <td>0.475098</td>\n",
       "      <td>0.469727</td>\n",
       "      <td>0.453613</td>\n",
       "      <td>0.456055</td>\n",
       "      <td>...</td>\n",
       "      <td>15.659705</td>\n",
       "      <td>15.659705</td>\n",
       "      <td>15.659705</td>\n",
       "      <td>15.659705</td>\n",
       "      <td>15.659705</td>\n",
       "      <td>15.659705</td>\n",
       "      <td>15.659705</td>\n",
       "      <td>15.659705</td>\n",
       "      <td>15.659705</td>\n",
       "      <td>15.659705</td>\n",
       "    </tr>\n",
       "    <tr>\n",
       "      <th>20853</th>\n",
       "      <td>0.002322</td>\n",
       "      <td>0.290039</td>\n",
       "      <td>0.438965</td>\n",
       "      <td>0.589355</td>\n",
       "      <td>0.601562</td>\n",
       "      <td>0.604980</td>\n",
       "      <td>0.603516</td>\n",
       "      <td>0.598633</td>\n",
       "      <td>0.591797</td>\n",
       "      <td>0.572266</td>\n",
       "      <td>...</td>\n",
       "      <td>20.528557</td>\n",
       "      <td>20.528557</td>\n",
       "      <td>20.528557</td>\n",
       "      <td>20.528557</td>\n",
       "      <td>20.528557</td>\n",
       "      <td>20.528557</td>\n",
       "      <td>20.528557</td>\n",
       "      <td>20.528557</td>\n",
       "      <td>20.528557</td>\n",
       "      <td>20.528557</td>\n",
       "    </tr>\n",
       "    <tr>\n",
       "      <th>20863</th>\n",
       "      <td>0.000353</td>\n",
       "      <td>0.355469</td>\n",
       "      <td>0.510254</td>\n",
       "      <td>0.670410</td>\n",
       "      <td>0.646484</td>\n",
       "      <td>0.633301</td>\n",
       "      <td>0.644043</td>\n",
       "      <td>0.654785</td>\n",
       "      <td>0.676270</td>\n",
       "      <td>0.672363</td>\n",
       "      <td>...</td>\n",
       "      <td>22.858490</td>\n",
       "      <td>22.858490</td>\n",
       "      <td>22.858490</td>\n",
       "      <td>22.858490</td>\n",
       "      <td>22.858490</td>\n",
       "      <td>22.858490</td>\n",
       "      <td>22.858490</td>\n",
       "      <td>22.858490</td>\n",
       "      <td>22.858490</td>\n",
       "      <td>22.858490</td>\n",
       "    </tr>\n",
       "  </tbody>\n",
       "</table>\n",
       "<p>1704 rows × 474 columns</p>\n",
       "</div>"
      ],
      "text/plain": [
       "       rms_centroid  zero_cr_0  zero_cr_1  zero_cr_2  zero_cr_3  zero_cr_4  \\\n",
       "17422      0.003139   0.076660   0.154297   0.228027   0.288574   0.326660   \n",
       "871        0.000038   0.109375   0.130859   0.146973   0.079590   0.079590   \n",
       "3919       0.000686   0.044922   0.061035   0.114746   0.160156   0.203613   \n",
       "1767       0.000016   0.100098   0.129883   0.148926   0.097168   0.089355   \n",
       "4734       0.000468   0.075195   0.135254   0.177734   0.182129   0.184570   \n",
       "...             ...        ...        ...        ...        ...        ...   \n",
       "20777      0.000870   0.301270   0.437500   0.579102   0.574707   0.522461   \n",
       "20778      0.002271   0.231445   0.375977   0.526367   0.571777   0.557129   \n",
       "20779      0.010282   0.219727   0.338379   0.458496   0.472168   0.485352   \n",
       "20853      0.002322   0.290039   0.438965   0.589355   0.601562   0.604980   \n",
       "20863      0.000353   0.355469   0.510254   0.670410   0.646484   0.633301   \n",
       "\n",
       "       zero_cr_5  zero_cr_6  zero_cr_7  zero_cr_8  ...  spec_cont_6_33  \\\n",
       "17422   0.328613   0.332520   0.245117   0.187012  ...       12.470812   \n",
       "871     0.079102   0.089355   0.091309   0.091309  ...       19.994826   \n",
       "3919    0.220215   0.203613   0.162598   0.137695  ...       20.874516   \n",
       "1767    0.081055   0.083008   0.086914   0.088379  ...       26.505635   \n",
       "4734    0.163086   0.152344   0.147461   0.154785  ...       28.338587   \n",
       "...          ...        ...        ...        ...  ...             ...   \n",
       "20777   0.503418   0.480469   0.416016   0.364258  ...       15.597893   \n",
       "20778   0.535156   0.508301   0.471680   0.457031  ...       14.772584   \n",
       "20779   0.475098   0.469727   0.453613   0.456055  ...       15.659705   \n",
       "20853   0.603516   0.598633   0.591797   0.572266  ...       20.528557   \n",
       "20863   0.644043   0.654785   0.676270   0.672363  ...       22.858490   \n",
       "\n",
       "       spec_cont_6_34  spec_cont_6_35  spec_cont_6_36  spec_cont_6_37  \\\n",
       "17422       12.470812       12.470812       12.470812       12.470812   \n",
       "871         19.994826       19.994826       19.994826       19.994826   \n",
       "3919        18.582983       14.719808       16.931977       16.931977   \n",
       "1767        25.796007       27.670089       28.103431       28.008058   \n",
       "4734        27.787136       27.633174       22.438654       19.734330   \n",
       "...               ...             ...             ...             ...   \n",
       "20777       15.597893       15.597893       15.597893       15.597893   \n",
       "20778       14.772584       14.772584       14.772584       14.772584   \n",
       "20779       15.659705       15.659705       15.659705       15.659705   \n",
       "20853       20.528557       20.528557       20.528557       20.528557   \n",
       "20863       22.858490       22.858490       22.858490       22.858490   \n",
       "\n",
       "       spec_cont_6_38  spec_cont_6_39  spec_cont_6_40  spec_cont_6_41  \\\n",
       "17422       12.470812       12.470812       12.470812       12.470812   \n",
       "871         19.994826       19.994826       19.994826       19.994826   \n",
       "3919        16.931977       16.931977       16.931977       16.931977   \n",
       "1767        27.112993       25.436447       27.942755       20.305885   \n",
       "4734        17.572551        9.699721        9.699721        9.699721   \n",
       "...               ...             ...             ...             ...   \n",
       "20777       15.597893       15.597893       15.597893       15.597893   \n",
       "20778       14.772584       14.772584       14.772584       14.772584   \n",
       "20779       15.659705       15.659705       15.659705       15.659705   \n",
       "20853       20.528557       20.528557       20.528557       20.528557   \n",
       "20863       22.858490       22.858490       22.858490       22.858490   \n",
       "\n",
       "       spec_cont_6_42  \n",
       "17422       12.470812  \n",
       "871         19.994826  \n",
       "3919        16.931977  \n",
       "1767        25.543207  \n",
       "4734         9.699721  \n",
       "...               ...  \n",
       "20777       15.597893  \n",
       "20778       14.772584  \n",
       "20779       15.659705  \n",
       "20853       20.528557  \n",
       "20863       22.858490  \n",
       "\n",
       "[1704 rows x 474 columns]"
      ]
     },
     "execution_count": 129,
     "metadata": {},
     "output_type": "execute_result"
    }
   ],
   "source": [
    "features"
   ]
  },
  {
   "cell_type": "code",
   "execution_count": null,
   "metadata": {},
   "outputs": [],
   "source": []
  }
 ],
 "metadata": {
  "kernelspec": {
   "display_name": "Python 3",
   "language": "python",
   "name": "python3"
  },
  "language_info": {
   "codemirror_mode": {
    "name": "ipython",
    "version": 3
   },
   "file_extension": ".py",
   "mimetype": "text/x-python",
   "name": "python",
   "nbconvert_exporter": "python",
   "pygments_lexer": "ipython3",
   "version": "3.7.6"
  },
  "toc": {
   "base_numbering": 1,
   "nav_menu": {},
   "number_sections": true,
   "sideBar": true,
   "skip_h1_title": false,
   "title_cell": "Table of Contents",
   "title_sidebar": "Contents",
   "toc_cell": true,
   "toc_position": {},
   "toc_section_display": true,
   "toc_window_display": true
  }
 },
 "nbformat": 4,
 "nbformat_minor": 2
}
