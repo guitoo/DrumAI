{
 "cells": [
  {
   "cell_type": "markdown",
   "metadata": {
    "toc": true
   },
   "source": [
    "<h1>Table of Contents<span class=\"tocSkip\"></span></h1>\n",
    "<div class=\"toc\"><ul class=\"toc-item\"></ul></div>"
   ]
  },
  {
   "cell_type": "code",
   "execution_count": 158,
   "metadata": {},
   "outputs": [],
   "source": [
    "import tensorflow as tf\n",
    "import tensorflow_hub as hub\n",
    "from tensorflow.keras.models import Sequential, Model\n",
    "from tensorflow.keras.layers import Dense, Dropout, Input\n",
    "import pandas as pd\n",
    "import numpy as np\n",
    "from librosa.core import resample, load\n",
    "from librosa.util import fix_length\n",
    "from sklearn.model_selection import train_test_split\n",
    "from sklearn.utils import class_weight\n",
    "from sklearn.metrics import (\n",
    "    classification_report, confusion_matrix, accuracy_score, ConfusionMatrixDisplay,\n",
    "    roc_auc_score, roc_curve, auc\n",
    ")\n",
    "from matplotlib import pyplot as plt\n",
    "from tqdm.notebook import tqdm"
   ]
  },
  {
   "cell_type": "code",
   "execution_count": 14,
   "metadata": {},
   "outputs": [],
   "source": [
    "data = pd.read_csv('clean.csv')"
   ]
  },
  {
   "cell_type": "code",
   "execution_count": 21,
   "metadata": {},
   "outputs": [
    {
     "data": {
      "text/plain": [
       "class_Snare        2166\n",
       "class_Kick         1556\n",
       "class_Hat          1289\n",
       "class_Tom          1268\n",
       "class_Cymbal        722\n",
       "class_Clap          307\n",
       "class_Cowbell       152\n",
       "class_Conga         120\n",
       "class_Shaken        104\n",
       "class_Tambourin      75\n",
       "class_Bongo          60\n",
       "class_Agogo          56\n",
       "class_Clave          54\n",
       "class_Timbales       49\n",
       "class_Djembe         20\n",
       "class_Guiro          19\n",
       "class_Cajon          12\n",
       "class_Cuica          10\n",
       "class_Timpani        10\n",
       "class_Tabla           9\n",
       "class_Triangle        8\n",
       "class_Gong            4\n",
       "class_Darbuka         4\n",
       "class_clave           2\n",
       "dtype: int64"
      ]
     },
     "execution_count": 21,
     "metadata": {},
     "output_type": "execute_result"
    }
   ],
   "source": [
    "all_classes = [c for c in data.columns if c.startswith('class')]\n",
    "class_count = data[all_classes].idxmax(axis=1).value_counts()\n",
    "class_count"
   ]
  },
  {
   "cell_type": "code",
   "execution_count": 22,
   "metadata": {},
   "outputs": [],
   "source": [
    "classes_cols = class_count[class_count > 100].index"
   ]
  },
  {
   "cell_type": "code",
   "execution_count": 23,
   "metadata": {},
   "outputs": [],
   "source": [
    "nb_classes = len(classes_cols)\n",
    "data = data[data[classes_cols].sum(axis=1) == 1]"
   ]
  },
  {
   "cell_type": "code",
   "execution_count": 24,
   "metadata": {},
   "outputs": [
    {
     "data": {
      "text/plain": [
       "(7684, 45)"
      ]
     },
     "execution_count": 24,
     "metadata": {},
     "output_type": "execute_result"
    }
   ],
   "source": [
    "data.shape"
   ]
  },
  {
   "cell_type": "code",
   "execution_count": 25,
   "metadata": {},
   "outputs": [
    {
     "data": {
      "text/html": [
       "<div>\n",
       "<style scoped>\n",
       "    .dataframe tbody tr th:only-of-type {\n",
       "        vertical-align: middle;\n",
       "    }\n",
       "\n",
       "    .dataframe tbody tr th {\n",
       "        vertical-align: top;\n",
       "    }\n",
       "\n",
       "    .dataframe thead th {\n",
       "        text-align: right;\n",
       "    }\n",
       "</style>\n",
       "<table border=\"1\" class=\"dataframe\">\n",
       "  <thead>\n",
       "    <tr style=\"text-align: right;\">\n",
       "      <th></th>\n",
       "      <th>path</th>\n",
       "      <th>filename</th>\n",
       "      <th>dir_1</th>\n",
       "      <th>class_Hat</th>\n",
       "      <th>subclass_Hat_Open</th>\n",
       "      <th>subclass_Hat_Close</th>\n",
       "      <th>class_Bongo</th>\n",
       "      <th>class_Cymbal</th>\n",
       "      <th>subclass_Cymbal_Crash</th>\n",
       "      <th>subclass_Cymbal_Ride</th>\n",
       "      <th>...</th>\n",
       "      <th>subclass_Shaken_Maracas</th>\n",
       "      <th>class_Cajon</th>\n",
       "      <th>class_clave</th>\n",
       "      <th>dir_2</th>\n",
       "      <th>subclass_Snare_Off</th>\n",
       "      <th>subclass_Snare_On</th>\n",
       "      <th>subclass_Snare_Side</th>\n",
       "      <th>subclass_Snare_Flam</th>\n",
       "      <th>subclass_Snare_Brush</th>\n",
       "      <th>subclass_Cymbal_Trash</th>\n",
       "    </tr>\n",
       "  </thead>\n",
       "  <tbody>\n",
       "    <tr>\n",
       "      <th>0</th>\n",
       "      <td>./Samples/200-drum-machines/Yamaha RX-11/MaxV ...</td>\n",
       "      <td>MaxV - RX11 OPHAT2.wav</td>\n",
       "      <td>Yamaha RX-11</td>\n",
       "      <td>1.0</td>\n",
       "      <td>1.0</td>\n",
       "      <td>1.0</td>\n",
       "      <td>0.0</td>\n",
       "      <td>0.0</td>\n",
       "      <td>0.0</td>\n",
       "      <td>0.0</td>\n",
       "      <td>...</td>\n",
       "      <td>0.0</td>\n",
       "      <td>0.0</td>\n",
       "      <td>0.0</td>\n",
       "      <td>NaN</td>\n",
       "      <td>0.0</td>\n",
       "      <td>0.0</td>\n",
       "      <td>0.0</td>\n",
       "      <td>0.0</td>\n",
       "      <td>0.0</td>\n",
       "      <td>0.0</td>\n",
       "    </tr>\n",
       "    <tr>\n",
       "      <th>1</th>\n",
       "      <td>./Samples/200-drum-machines/Yamaha RX-11/MaxV ...</td>\n",
       "      <td>MaxV - RX11 BD3.wav</td>\n",
       "      <td>Yamaha RX-11</td>\n",
       "      <td>0.0</td>\n",
       "      <td>0.0</td>\n",
       "      <td>0.0</td>\n",
       "      <td>0.0</td>\n",
       "      <td>0.0</td>\n",
       "      <td>0.0</td>\n",
       "      <td>0.0</td>\n",
       "      <td>...</td>\n",
       "      <td>0.0</td>\n",
       "      <td>0.0</td>\n",
       "      <td>0.0</td>\n",
       "      <td>NaN</td>\n",
       "      <td>0.0</td>\n",
       "      <td>0.0</td>\n",
       "      <td>0.0</td>\n",
       "      <td>0.0</td>\n",
       "      <td>0.0</td>\n",
       "      <td>0.0</td>\n",
       "    </tr>\n",
       "    <tr>\n",
       "      <th>2</th>\n",
       "      <td>./Samples/200-drum-machines/Yamaha RX-11/MaxV ...</td>\n",
       "      <td>MaxV - RX11 BD2.wav</td>\n",
       "      <td>Yamaha RX-11</td>\n",
       "      <td>0.0</td>\n",
       "      <td>0.0</td>\n",
       "      <td>0.0</td>\n",
       "      <td>0.0</td>\n",
       "      <td>0.0</td>\n",
       "      <td>0.0</td>\n",
       "      <td>0.0</td>\n",
       "      <td>...</td>\n",
       "      <td>0.0</td>\n",
       "      <td>0.0</td>\n",
       "      <td>0.0</td>\n",
       "      <td>NaN</td>\n",
       "      <td>0.0</td>\n",
       "      <td>0.0</td>\n",
       "      <td>0.0</td>\n",
       "      <td>0.0</td>\n",
       "      <td>0.0</td>\n",
       "      <td>0.0</td>\n",
       "    </tr>\n",
       "    <tr>\n",
       "      <th>3</th>\n",
       "      <td>./Samples/200-drum-machines/Yamaha RX-11/MaxV ...</td>\n",
       "      <td>MaxV - RX11 CLHAT2.wav</td>\n",
       "      <td>Yamaha RX-11</td>\n",
       "      <td>1.0</td>\n",
       "      <td>0.0</td>\n",
       "      <td>1.0</td>\n",
       "      <td>0.0</td>\n",
       "      <td>0.0</td>\n",
       "      <td>0.0</td>\n",
       "      <td>0.0</td>\n",
       "      <td>...</td>\n",
       "      <td>0.0</td>\n",
       "      <td>0.0</td>\n",
       "      <td>0.0</td>\n",
       "      <td>NaN</td>\n",
       "      <td>0.0</td>\n",
       "      <td>0.0</td>\n",
       "      <td>0.0</td>\n",
       "      <td>0.0</td>\n",
       "      <td>0.0</td>\n",
       "      <td>0.0</td>\n",
       "    </tr>\n",
       "    <tr>\n",
       "      <th>4</th>\n",
       "      <td>./Samples/200-drum-machines/Yamaha RX-11/MaxV ...</td>\n",
       "      <td>MaxV - RX11 RIDE.wav</td>\n",
       "      <td>Yamaha RX-11</td>\n",
       "      <td>0.0</td>\n",
       "      <td>0.0</td>\n",
       "      <td>0.0</td>\n",
       "      <td>0.0</td>\n",
       "      <td>1.0</td>\n",
       "      <td>0.0</td>\n",
       "      <td>1.0</td>\n",
       "      <td>...</td>\n",
       "      <td>0.0</td>\n",
       "      <td>0.0</td>\n",
       "      <td>0.0</td>\n",
       "      <td>NaN</td>\n",
       "      <td>0.0</td>\n",
       "      <td>0.0</td>\n",
       "      <td>0.0</td>\n",
       "      <td>0.0</td>\n",
       "      <td>0.0</td>\n",
       "      <td>0.0</td>\n",
       "    </tr>\n",
       "  </tbody>\n",
       "</table>\n",
       "<p>5 rows × 45 columns</p>\n",
       "</div>"
      ],
      "text/plain": [
       "                                                path                filename  \\\n",
       "0  ./Samples/200-drum-machines/Yamaha RX-11/MaxV ...  MaxV - RX11 OPHAT2.wav   \n",
       "1  ./Samples/200-drum-machines/Yamaha RX-11/MaxV ...     MaxV - RX11 BD3.wav   \n",
       "2  ./Samples/200-drum-machines/Yamaha RX-11/MaxV ...     MaxV - RX11 BD2.wav   \n",
       "3  ./Samples/200-drum-machines/Yamaha RX-11/MaxV ...  MaxV - RX11 CLHAT2.wav   \n",
       "4  ./Samples/200-drum-machines/Yamaha RX-11/MaxV ...    MaxV - RX11 RIDE.wav   \n",
       "\n",
       "          dir_1  class_Hat  subclass_Hat_Open  subclass_Hat_Close  \\\n",
       "0  Yamaha RX-11        1.0                1.0                 1.0   \n",
       "1  Yamaha RX-11        0.0                0.0                 0.0   \n",
       "2  Yamaha RX-11        0.0                0.0                 0.0   \n",
       "3  Yamaha RX-11        1.0                0.0                 1.0   \n",
       "4  Yamaha RX-11        0.0                0.0                 0.0   \n",
       "\n",
       "   class_Bongo  class_Cymbal  subclass_Cymbal_Crash  subclass_Cymbal_Ride  \\\n",
       "0          0.0           0.0                    0.0                   0.0   \n",
       "1          0.0           0.0                    0.0                   0.0   \n",
       "2          0.0           0.0                    0.0                   0.0   \n",
       "3          0.0           0.0                    0.0                   0.0   \n",
       "4          0.0           1.0                    0.0                   1.0   \n",
       "\n",
       "   ...  subclass_Shaken_Maracas  class_Cajon  class_clave  dir_2  \\\n",
       "0  ...                      0.0          0.0          0.0    NaN   \n",
       "1  ...                      0.0          0.0          0.0    NaN   \n",
       "2  ...                      0.0          0.0          0.0    NaN   \n",
       "3  ...                      0.0          0.0          0.0    NaN   \n",
       "4  ...                      0.0          0.0          0.0    NaN   \n",
       "\n",
       "   subclass_Snare_Off  subclass_Snare_On  subclass_Snare_Side  \\\n",
       "0                 0.0                0.0                  0.0   \n",
       "1                 0.0                0.0                  0.0   \n",
       "2                 0.0                0.0                  0.0   \n",
       "3                 0.0                0.0                  0.0   \n",
       "4                 0.0                0.0                  0.0   \n",
       "\n",
       "   subclass_Snare_Flam  subclass_Snare_Brush  subclass_Cymbal_Trash  \n",
       "0                  0.0                   0.0                    0.0  \n",
       "1                  0.0                   0.0                    0.0  \n",
       "2                  0.0                   0.0                    0.0  \n",
       "3                  0.0                   0.0                    0.0  \n",
       "4                  0.0                   0.0                    0.0  \n",
       "\n",
       "[5 rows x 45 columns]"
      ]
     },
     "execution_count": 25,
     "metadata": {},
     "output_type": "execute_result"
    }
   ],
   "source": [
    "data.head()"
   ]
  },
  {
   "cell_type": "code",
   "execution_count": 26,
   "metadata": {},
   "outputs": [],
   "source": [
    "data = data.loc[data['path'] != './Samples/200-drum-machines/Roland JV 1080/MaxV - Guiro.wav']"
   ]
  },
  {
   "cell_type": "code",
   "execution_count": 27,
   "metadata": {},
   "outputs": [],
   "source": [
    "vggish = hub.load('https://tfhub.dev/google/vggish/1')\n",
    "yamnet = hub.load('https://tfhub.dev/google/yamnet/1')"
   ]
  },
  {
   "cell_type": "code",
   "execution_count": 31,
   "metadata": {},
   "outputs": [
    {
     "name": "stderr",
     "output_type": "stream",
     "text": [
      "<ipython-input-31-131a48f41366>:6: TqdmDeprecationWarning: This function will be removed in tqdm==5.0.0\n",
      "Please use `tqdm.notebook.tqdm` instead of `tqdm.tqdm_notebook`\n",
      "  for path in tqdm_notebook(files):\n"
     ]
    },
    {
     "data": {
      "application/vnd.jupyter.widget-view+json": {
       "model_id": "74f5f1b6a545484aba42dd2fe6ca20c9",
       "version_major": 2,
       "version_minor": 0
      },
      "text/plain": [
       "HBox(children=(HTML(value=''), FloatProgress(value=0.0, max=7684.0), HTML(value='')))"
      ]
     },
     "metadata": {},
     "output_type": "display_data"
    },
    {
     "name": "stdout",
     "output_type": "stream",
     "text": [
      "\n"
     ]
    }
   ],
   "source": [
    "SR=16000\n",
    "classes = data[classes_cols]\n",
    "files = data['path']\n",
    "vgg_embeddings = []\n",
    "yam_embeddings = []\n",
    "for path in tqdm(files):\n",
    "    sound, _ = load(path, sr=SR)\n",
    "    sound = fix_length(sound, 1*SR)\n",
    "    vgg_embeddings.append(vggish(sound))\n",
    "    _, yam_emb, _ = yamnet(sound)\n",
    "    yam_embeddings.append(yam_emb[0])\n",
    "\n",
    "vgg_embeddings = np.stack(vgg_embeddings)\n",
    "yam_embeddings = np.stack(yam_embeddings)"
   ]
  },
  {
   "cell_type": "code",
   "execution_count": 32,
   "metadata": {},
   "outputs": [
    {
     "data": {
      "text/plain": [
       "((7684, 1, 128), (7684, 1024))"
      ]
     },
     "execution_count": 32,
     "metadata": {},
     "output_type": "execute_result"
    }
   ],
   "source": [
    "vgg_embeddings.shape, yam_embeddings.shape"
   ]
  },
  {
   "cell_type": "code",
   "execution_count": 33,
   "metadata": {},
   "outputs": [],
   "source": [
    "vgg_embeddings = vgg_embeddings.reshape(-1, 128)\n",
    "yam_embeddings = yam_embeddings.reshape(-1, 1024)"
   ]
  },
  {
   "cell_type": "code",
   "execution_count": null,
   "metadata": {},
   "outputs": [],
   "source": []
  },
  {
   "cell_type": "code",
   "execution_count": 34,
   "metadata": {},
   "outputs": [],
   "source": [
    "# x_train, x_valid, y_train, y_valid = train_test_split(sounds, classes, test_size=0.3, stratify=classes)\n",
    "x_vgg_train, x_vgg_valid, x_yam_train, x_yam_valid, y_train, y_valid = train_test_split(vgg_embeddings, yam_embeddings, classes, test_size=0.3, stratify=classes)"
   ]
  },
  {
   "cell_type": "code",
   "execution_count": 35,
   "metadata": {},
   "outputs": [
    {
     "data": {
      "text/plain": [
       "(5378, 128)"
      ]
     },
     "execution_count": 35,
     "metadata": {},
     "output_type": "execute_result"
    }
   ],
   "source": [
    "x_vgg_train.shape"
   ]
  },
  {
   "cell_type": "code",
   "execution_count": 140,
   "metadata": {},
   "outputs": [
    {
     "name": "stdout",
     "output_type": "stream",
     "text": [
      "Model: \"functional_35\"\n",
      "_________________________________________________________________\n",
      "Layer (type)                 Output Shape              Param #   \n",
      "=================================================================\n",
      "input_11 (InputLayer)        [(None, 128)]             0         \n",
      "_________________________________________________________________\n",
      "dense_46 (Dense)             (None, 100)               12900     \n",
      "_________________________________________________________________\n",
      "dropout_23 (Dropout)         (None, 100)               0         \n",
      "_________________________________________________________________\n",
      "dense_47 (Dense)             (None, 50)                5050      \n",
      "_________________________________________________________________\n",
      "dropout_24 (Dropout)         (None, 50)                0         \n",
      "_________________________________________________________________\n",
      "dense_48 (Dense)             (None, 9)                 459       \n",
      "=================================================================\n",
      "Total params: 18,409\n",
      "Trainable params: 18,409\n",
      "Non-trainable params: 0\n",
      "_________________________________________________________________\n"
     ]
    }
   ],
   "source": [
    "inputs = Input(shape=(128))\n",
    "x = Dense(100, activation='relu')(inputs)\n",
    "x = Dropout(0.3)(x)\n",
    "x = Dense(50, activation='relu')(x)\n",
    "x = Dropout(0.3)(x)\n",
    "outputs = Dense(nb_classes, activation='softmax')(x)\n",
    "\n",
    "model = Model(inputs, outputs)\n",
    "model.summary()"
   ]
  },
  {
   "cell_type": "code",
   "execution_count": 141,
   "metadata": {},
   "outputs": [],
   "source": [
    "model.compile(optimizer='adam', loss='categorical_crossentropy', metrics=['accuracy'])"
   ]
  },
  {
   "cell_type": "code",
   "execution_count": 142,
   "metadata": {},
   "outputs": [
    {
     "data": {
      "text/plain": [
       "{0: 0.3941659337437702,\n",
       " 1: 0.5487195184164881,\n",
       " 2: 0.6624784429662478,\n",
       " 3: 0.6729229229229229,\n",
       " 4: 1.1832783278327832,\n",
       " 5: 2.779328165374677,\n",
       " 6: 5.637316561844863,\n",
       " 7: 7.113756613756614,\n",
       " 8: 8.185692541856925}"
      ]
     },
     "execution_count": 142,
     "metadata": {},
     "output_type": "execute_result"
    }
   ],
   "source": [
    "class_weights = class_weight.compute_class_weight(\n",
    "    class_weight='balanced',\n",
    "    classes=classes_cols,\n",
    "    y=y_train.idxmax(axis=1))\n",
    "\n",
    "class_weights = dict(zip(range(nb_classes), class_weights))\n",
    "class_weights"
   ]
  },
  {
   "cell_type": "code",
   "execution_count": 143,
   "metadata": {},
   "outputs": [
    {
     "name": "stdout",
     "output_type": "stream",
     "text": [
      "Epoch 1/100\n",
      "169/169 [==============================] - 0s 2ms/step - loss: 1.7506 - accuracy: 0.3611 - val_loss: 1.2969 - val_accuracy: 0.5299\n",
      "Epoch 2/100\n",
      "169/169 [==============================] - 0s 1ms/step - loss: 1.1010 - accuracy: 0.5009 - val_loss: 0.9574 - val_accuracy: 0.6422\n",
      "Epoch 3/100\n",
      "169/169 [==============================] - 0s 1ms/step - loss: 0.9027 - accuracy: 0.5762 - val_loss: 0.9372 - val_accuracy: 0.6401\n",
      "Epoch 4/100\n",
      "169/169 [==============================] - 0s 1ms/step - loss: 0.8386 - accuracy: 0.5976 - val_loss: 0.8452 - val_accuracy: 0.6791\n",
      "Epoch 5/100\n",
      "169/169 [==============================] - 0s 1ms/step - loss: 0.7826 - accuracy: 0.6277 - val_loss: 0.8001 - val_accuracy: 0.7029\n",
      "Epoch 6/100\n",
      "169/169 [==============================] - 0s 1ms/step - loss: 0.7406 - accuracy: 0.6512 - val_loss: 0.7661 - val_accuracy: 0.7138\n",
      "Epoch 7/100\n",
      "169/169 [==============================] - 0s 1ms/step - loss: 0.7091 - accuracy: 0.6657 - val_loss: 0.7511 - val_accuracy: 0.7160\n",
      "Epoch 8/100\n",
      "169/169 [==============================] - 0s 1ms/step - loss: 0.7011 - accuracy: 0.6668 - val_loss: 0.7073 - val_accuracy: 0.7424\n",
      "Epoch 9/100\n",
      "169/169 [==============================] - 0s 1ms/step - loss: 0.6607 - accuracy: 0.6809 - val_loss: 0.6961 - val_accuracy: 0.7459\n",
      "Epoch 10/100\n",
      "169/169 [==============================] - 0s 1ms/step - loss: 0.6523 - accuracy: 0.6910 - val_loss: 0.6921 - val_accuracy: 0.7368\n",
      "Epoch 11/100\n",
      "169/169 [==============================] - 0s 1ms/step - loss: 0.6499 - accuracy: 0.6952 - val_loss: 0.6936 - val_accuracy: 0.7420\n",
      "Epoch 12/100\n",
      "169/169 [==============================] - 0s 1ms/step - loss: 0.6142 - accuracy: 0.6971 - val_loss: 0.6827 - val_accuracy: 0.7507\n",
      "Epoch 13/100\n",
      "169/169 [==============================] - 0s 1ms/step - loss: 0.6067 - accuracy: 0.7122 - val_loss: 0.6878 - val_accuracy: 0.7467\n",
      "Epoch 14/100\n",
      "169/169 [==============================] - 0s 1ms/step - loss: 0.5905 - accuracy: 0.7185 - val_loss: 0.6669 - val_accuracy: 0.7563\n",
      "Epoch 15/100\n",
      "169/169 [==============================] - 0s 1ms/step - loss: 0.5844 - accuracy: 0.7131 - val_loss: 0.6491 - val_accuracy: 0.7598\n",
      "Epoch 16/100\n",
      "169/169 [==============================] - 0s 1ms/step - loss: 0.5670 - accuracy: 0.7192 - val_loss: 0.7098 - val_accuracy: 0.7238\n",
      "Epoch 17/100\n",
      "169/169 [==============================] - 0s 1ms/step - loss: 0.5723 - accuracy: 0.7291 - val_loss: 0.6897 - val_accuracy: 0.7459\n",
      "Epoch 18/100\n",
      "169/169 [==============================] - 0s 1ms/step - loss: 0.5481 - accuracy: 0.7215 - val_loss: 0.6916 - val_accuracy: 0.7441\n",
      "Epoch 19/100\n",
      "169/169 [==============================] - 0s 1ms/step - loss: 0.5360 - accuracy: 0.7360 - val_loss: 0.6342 - val_accuracy: 0.7619\n",
      "Epoch 20/100\n",
      "169/169 [==============================] - 0s 2ms/step - loss: 0.5193 - accuracy: 0.7391 - val_loss: 0.6812 - val_accuracy: 0.7398\n",
      "Epoch 21/100\n",
      "169/169 [==============================] - 0s 1ms/step - loss: 0.5168 - accuracy: 0.7415 - val_loss: 0.6306 - val_accuracy: 0.7650\n",
      "Epoch 22/100\n",
      "169/169 [==============================] - 0s 1ms/step - loss: 0.5223 - accuracy: 0.7475 - val_loss: 0.6546 - val_accuracy: 0.7550\n",
      "Epoch 23/100\n",
      "169/169 [==============================] - 0s 2ms/step - loss: 0.5106 - accuracy: 0.7464 - val_loss: 0.6637 - val_accuracy: 0.7493\n",
      "Epoch 24/100\n",
      "169/169 [==============================] - 0s 1ms/step - loss: 0.4817 - accuracy: 0.7512 - val_loss: 0.6628 - val_accuracy: 0.7576\n",
      "Epoch 25/100\n",
      "169/169 [==============================] - 0s 1ms/step - loss: 0.4912 - accuracy: 0.7540 - val_loss: 0.6217 - val_accuracy: 0.7736\n",
      "Epoch 26/100\n",
      "169/169 [==============================] - 0s 1ms/step - loss: 0.4825 - accuracy: 0.7553 - val_loss: 0.6215 - val_accuracy: 0.7710\n",
      "Epoch 27/100\n",
      "169/169 [==============================] - 0s 2ms/step - loss: 0.4843 - accuracy: 0.7493 - val_loss: 0.5850 - val_accuracy: 0.7836\n",
      "Epoch 28/100\n",
      "169/169 [==============================] - 0s 2ms/step - loss: 0.4734 - accuracy: 0.7538 - val_loss: 0.5937 - val_accuracy: 0.7797\n",
      "Epoch 29/100\n",
      "169/169 [==============================] - 0s 1ms/step - loss: 0.4478 - accuracy: 0.7731 - val_loss: 0.6115 - val_accuracy: 0.7641\n",
      "Epoch 30/100\n",
      "169/169 [==============================] - 0s 1ms/step - loss: 0.4604 - accuracy: 0.7652 - val_loss: 0.6291 - val_accuracy: 0.7637\n",
      "Epoch 31/100\n",
      "169/169 [==============================] - 0s 1ms/step - loss: 0.4708 - accuracy: 0.7678 - val_loss: 0.6219 - val_accuracy: 0.7676\n",
      "Epoch 32/100\n",
      "169/169 [==============================] - 0s 1ms/step - loss: 0.4591 - accuracy: 0.7694 - val_loss: 0.6448 - val_accuracy: 0.7667\n",
      "Epoch 33/100\n",
      "169/169 [==============================] - 0s 1ms/step - loss: 0.4356 - accuracy: 0.7683 - val_loss: 0.5699 - val_accuracy: 0.7918\n",
      "Epoch 34/100\n",
      "169/169 [==============================] - 0s 1ms/step - loss: 0.4527 - accuracy: 0.7700 - val_loss: 0.5851 - val_accuracy: 0.7836\n",
      "Epoch 35/100\n",
      "169/169 [==============================] - 0s 2ms/step - loss: 0.4224 - accuracy: 0.7754 - val_loss: 0.6267 - val_accuracy: 0.7684\n",
      "Epoch 36/100\n",
      "169/169 [==============================] - 0s 1ms/step - loss: 0.4492 - accuracy: 0.7665 - val_loss: 0.5737 - val_accuracy: 0.7914\n",
      "Epoch 37/100\n",
      "169/169 [==============================] - 0s 1ms/step - loss: 0.4398 - accuracy: 0.7737 - val_loss: 0.5906 - val_accuracy: 0.7797\n",
      "Epoch 38/100\n",
      "169/169 [==============================] - 0s 1ms/step - loss: 0.4285 - accuracy: 0.7806 - val_loss: 0.5847 - val_accuracy: 0.7918\n",
      "Epoch 39/100\n",
      "169/169 [==============================] - 0s 1ms/step - loss: 0.4592 - accuracy: 0.7696 - val_loss: 0.5878 - val_accuracy: 0.7875\n",
      "Epoch 40/100\n",
      "169/169 [==============================] - 0s 1ms/step - loss: 0.4314 - accuracy: 0.7776 - val_loss: 0.6050 - val_accuracy: 0.7758\n",
      "Epoch 41/100\n",
      "169/169 [==============================] - 0s 1ms/step - loss: 0.4099 - accuracy: 0.7858 - val_loss: 0.5395 - val_accuracy: 0.8001\n",
      "Epoch 42/100\n",
      "169/169 [==============================] - 0s 1ms/step - loss: 0.4133 - accuracy: 0.7893 - val_loss: 0.5719 - val_accuracy: 0.7905\n",
      "Epoch 43/100\n",
      "169/169 [==============================] - 0s 2ms/step - loss: 0.3959 - accuracy: 0.7895 - val_loss: 0.5888 - val_accuracy: 0.7849\n",
      "Epoch 44/100\n",
      "169/169 [==============================] - 0s 1ms/step - loss: 0.3879 - accuracy: 0.7912 - val_loss: 0.5667 - val_accuracy: 0.7918\n",
      "Epoch 45/100\n",
      "169/169 [==============================] - 0s 1ms/step - loss: 0.3906 - accuracy: 0.7973 - val_loss: 0.5400 - val_accuracy: 0.7988\n",
      "Epoch 46/100\n",
      "169/169 [==============================] - 0s 1ms/step - loss: 0.3871 - accuracy: 0.8012 - val_loss: 0.5532 - val_accuracy: 0.8014\n",
      "Epoch 47/100\n",
      "169/169 [==============================] - 0s 2ms/step - loss: 0.3835 - accuracy: 0.7890 - val_loss: 0.5553 - val_accuracy: 0.8027\n",
      "Epoch 48/100\n",
      "169/169 [==============================] - 0s 2ms/step - loss: 0.3893 - accuracy: 0.8007 - val_loss: 0.5712 - val_accuracy: 0.7997\n",
      "Epoch 49/100\n",
      "169/169 [==============================] - 0s 1ms/step - loss: 0.3557 - accuracy: 0.8137 - val_loss: 0.5694 - val_accuracy: 0.7962\n",
      "Epoch 50/100\n",
      "169/169 [==============================] - 0s 1ms/step - loss: 0.3643 - accuracy: 0.8072 - val_loss: 0.5820 - val_accuracy: 0.7897\n",
      "Epoch 51/100\n",
      "169/169 [==============================] - 0s 1ms/step - loss: 0.3615 - accuracy: 0.8061 - val_loss: 0.5852 - val_accuracy: 0.7871\n",
      "Epoch 52/100\n",
      "169/169 [==============================] - 0s 1ms/step - loss: 0.3616 - accuracy: 0.8115 - val_loss: 0.5381 - val_accuracy: 0.8070\n",
      "Epoch 53/100\n",
      "169/169 [==============================] - 0s 1ms/step - loss: 0.3463 - accuracy: 0.8077 - val_loss: 0.5434 - val_accuracy: 0.8070\n",
      "Epoch 54/100\n",
      "169/169 [==============================] - 0s 1ms/step - loss: 0.3632 - accuracy: 0.8070 - val_loss: 0.5675 - val_accuracy: 0.7971\n",
      "Epoch 55/100\n",
      "169/169 [==============================] - 0s 1ms/step - loss: 0.3499 - accuracy: 0.8109 - val_loss: 0.5230 - val_accuracy: 0.8096\n",
      "Epoch 56/100\n",
      "169/169 [==============================] - 0s 2ms/step - loss: 0.3747 - accuracy: 0.8090 - val_loss: 0.5617 - val_accuracy: 0.8018\n",
      "Epoch 57/100\n",
      "169/169 [==============================] - 0s 2ms/step - loss: 0.3733 - accuracy: 0.7953 - val_loss: 0.5650 - val_accuracy: 0.7910\n"
     ]
    },
    {
     "name": "stdout",
     "output_type": "stream",
     "text": [
      "Epoch 58/100\n",
      "169/169 [==============================] - 0s 1ms/step - loss: 0.3418 - accuracy: 0.8141 - val_loss: 0.5469 - val_accuracy: 0.8044\n",
      "Epoch 59/100\n",
      "169/169 [==============================] - 0s 1ms/step - loss: 0.3471 - accuracy: 0.8152 - val_loss: 0.5353 - val_accuracy: 0.8096\n",
      "Epoch 60/100\n",
      "169/169 [==============================] - 0s 1ms/step - loss: 0.3374 - accuracy: 0.8135 - val_loss: 0.5282 - val_accuracy: 0.8092\n",
      "Epoch 61/100\n",
      "169/169 [==============================] - 0s 2ms/step - loss: 0.3450 - accuracy: 0.8148 - val_loss: 0.5586 - val_accuracy: 0.8010\n",
      "Epoch 62/100\n",
      "169/169 [==============================] - 0s 1ms/step - loss: 0.3481 - accuracy: 0.8144 - val_loss: 0.5555 - val_accuracy: 0.7984\n",
      "Epoch 63/100\n",
      "169/169 [==============================] - 0s 1ms/step - loss: 0.3382 - accuracy: 0.8174 - val_loss: 0.5526 - val_accuracy: 0.8096\n",
      "Epoch 64/100\n",
      "169/169 [==============================] - 0s 1ms/step - loss: 0.3219 - accuracy: 0.8243 - val_loss: 0.5277 - val_accuracy: 0.8161\n",
      "Epoch 65/100\n",
      "169/169 [==============================] - 0s 1ms/step - loss: 0.3338 - accuracy: 0.8144 - val_loss: 0.5449 - val_accuracy: 0.8105\n",
      "Epoch 66/100\n",
      "169/169 [==============================] - 0s 1ms/step - loss: 0.3466 - accuracy: 0.8096 - val_loss: 0.5252 - val_accuracy: 0.8144\n",
      "Epoch 67/100\n",
      "169/169 [==============================] - 0s 1ms/step - loss: 0.3240 - accuracy: 0.8243 - val_loss: 0.5973 - val_accuracy: 0.7901\n",
      "Epoch 68/100\n",
      "169/169 [==============================] - 0s 1ms/step - loss: 0.3495 - accuracy: 0.8139 - val_loss: 0.5113 - val_accuracy: 0.8187\n",
      "Epoch 69/100\n",
      "169/169 [==============================] - 0s 2ms/step - loss: 0.3336 - accuracy: 0.8250 - val_loss: 0.5838 - val_accuracy: 0.7940\n",
      "Epoch 70/100\n",
      "169/169 [==============================] - 0s 1ms/step - loss: 0.3382 - accuracy: 0.8141 - val_loss: 0.5384 - val_accuracy: 0.8105\n",
      "Epoch 71/100\n",
      "169/169 [==============================] - 0s 1ms/step - loss: 0.3230 - accuracy: 0.8230 - val_loss: 0.5087 - val_accuracy: 0.8218\n",
      "Epoch 72/100\n",
      "169/169 [==============================] - 0s 1ms/step - loss: 0.3054 - accuracy: 0.8306 - val_loss: 0.5255 - val_accuracy: 0.8127\n",
      "Epoch 73/100\n",
      "169/169 [==============================] - 0s 2ms/step - loss: 0.3113 - accuracy: 0.8319 - val_loss: 0.5341 - val_accuracy: 0.8109\n",
      "Epoch 74/100\n",
      "169/169 [==============================] - 0s 1ms/step - loss: 0.3114 - accuracy: 0.8327 - val_loss: 0.5350 - val_accuracy: 0.8053\n",
      "Epoch 75/100\n",
      "169/169 [==============================] - 0s 1ms/step - loss: 0.3296 - accuracy: 0.8191 - val_loss: 0.5591 - val_accuracy: 0.8001\n",
      "Epoch 76/100\n",
      "169/169 [==============================] - 0s 1ms/step - loss: 0.3126 - accuracy: 0.8258 - val_loss: 0.5348 - val_accuracy: 0.8088\n",
      "Epoch 77/100\n",
      "169/169 [==============================] - 0s 2ms/step - loss: 0.3211 - accuracy: 0.8258 - val_loss: 0.5324 - val_accuracy: 0.8101\n",
      "Epoch 78/100\n",
      "169/169 [==============================] - 0s 1ms/step - loss: 0.2997 - accuracy: 0.8351 - val_loss: 0.5251 - val_accuracy: 0.8161\n",
      "Epoch 79/100\n",
      "169/169 [==============================] - 0s 1ms/step - loss: 0.2922 - accuracy: 0.8364 - val_loss: 0.6153 - val_accuracy: 0.7788\n",
      "Epoch 80/100\n",
      "169/169 [==============================] - 0s 1ms/step - loss: 0.3098 - accuracy: 0.8254 - val_loss: 0.5211 - val_accuracy: 0.8153\n",
      "Epoch 81/100\n",
      "169/169 [==============================] - 0s 2ms/step - loss: 0.3150 - accuracy: 0.8293 - val_loss: 0.5134 - val_accuracy: 0.8213\n",
      "Epoch 82/100\n",
      "169/169 [==============================] - 0s 1ms/step - loss: 0.3096 - accuracy: 0.8282 - val_loss: 0.5274 - val_accuracy: 0.8231\n",
      "Epoch 83/100\n",
      "169/169 [==============================] - 0s 1ms/step - loss: 0.3070 - accuracy: 0.8340 - val_loss: 0.5054 - val_accuracy: 0.8226\n",
      "Epoch 84/100\n",
      "169/169 [==============================] - 0s 1ms/step - loss: 0.2980 - accuracy: 0.8332 - val_loss: 0.5259 - val_accuracy: 0.8231\n",
      "Epoch 85/100\n",
      "169/169 [==============================] - 0s 2ms/step - loss: 0.2780 - accuracy: 0.8466 - val_loss: 0.5305 - val_accuracy: 0.8252\n",
      "Epoch 86/100\n",
      "169/169 [==============================] - 0s 2ms/step - loss: 0.2750 - accuracy: 0.8477 - val_loss: 0.5155 - val_accuracy: 0.8244\n",
      "Epoch 87/100\n",
      "169/169 [==============================] - 0s 1ms/step - loss: 0.2821 - accuracy: 0.8459 - val_loss: 0.5368 - val_accuracy: 0.8187\n",
      "Epoch 88/100\n",
      "169/169 [==============================] - 0s 1ms/step - loss: 0.2681 - accuracy: 0.8464 - val_loss: 0.5153 - val_accuracy: 0.8322\n",
      "Epoch 89/100\n",
      "169/169 [==============================] - 0s 2ms/step - loss: 0.2813 - accuracy: 0.8418 - val_loss: 0.5399 - val_accuracy: 0.8192\n",
      "Epoch 90/100\n",
      "169/169 [==============================] - 0s 1ms/step - loss: 0.2848 - accuracy: 0.8393 - val_loss: 0.5319 - val_accuracy: 0.8296\n",
      "Epoch 91/100\n",
      "169/169 [==============================] - 0s 1ms/step - loss: 0.2803 - accuracy: 0.8440 - val_loss: 0.5377 - val_accuracy: 0.8296\n",
      "Epoch 92/100\n",
      "169/169 [==============================] - 0s 1ms/step - loss: 0.2808 - accuracy: 0.8416 - val_loss: 0.5313 - val_accuracy: 0.8261\n",
      "Epoch 93/100\n",
      "169/169 [==============================] - 0s 2ms/step - loss: 0.3069 - accuracy: 0.8367 - val_loss: 0.5490 - val_accuracy: 0.8096\n",
      "Epoch 94/100\n",
      "169/169 [==============================] - 0s 1ms/step - loss: 0.2957 - accuracy: 0.8451 - val_loss: 0.5238 - val_accuracy: 0.8239\n",
      "Epoch 95/100\n",
      "169/169 [==============================] - 0s 1ms/step - loss: 0.2894 - accuracy: 0.8354 - val_loss: 0.5137 - val_accuracy: 0.8348\n",
      "Epoch 96/100\n",
      "169/169 [==============================] - 0s 1ms/step - loss: 0.2832 - accuracy: 0.8442 - val_loss: 0.5354 - val_accuracy: 0.8196\n",
      "Epoch 97/100\n",
      "169/169 [==============================] - 0s 2ms/step - loss: 0.2720 - accuracy: 0.8466 - val_loss: 0.5171 - val_accuracy: 0.8304\n",
      "Epoch 98/100\n",
      "169/169 [==============================] - 0s 2ms/step - loss: 0.2521 - accuracy: 0.8540 - val_loss: 0.5118 - val_accuracy: 0.8387\n",
      "Epoch 99/100\n",
      "169/169 [==============================] - 0s 1ms/step - loss: 0.2712 - accuracy: 0.8520 - val_loss: 0.5234 - val_accuracy: 0.8187\n",
      "Epoch 100/100\n",
      "169/169 [==============================] - 0s 1ms/step - loss: 0.2915 - accuracy: 0.8419 - val_loss: 0.5157 - val_accuracy: 0.8235\n"
     ]
    }
   ],
   "source": [
    "history = model.fit(x_vgg_train, y_train, epochs=100, class_weight=class_weights, validation_data=(x_vgg_valid, y_valid))"
   ]
  },
  {
   "cell_type": "code",
   "execution_count": 144,
   "metadata": {},
   "outputs": [
    {
     "data": {
      "image/png": "[encoded data removed]",
      "text/plain": [
       "<Figure size 432x288 with 1 Axes>"
      ]
     },
     "metadata": {
      "needs_background": "light"
     },
     "output_type": "display_data"
    }
   ],
   "source": [
    "loss = history.history['loss']\n",
    "epochs = range(1, len(loss) + 1)\n",
    "val_loss = history.history['val_loss']\n",
    "plt.plot(epochs, loss, '.--', label='Training loss')\n",
    "plt.plot(epochs, val_loss, 'o-', label='Validation loss')\n",
    "plt.show()"
   ]
  },
  {
   "cell_type": "code",
   "execution_count": 145,
   "metadata": {},
   "outputs": [],
   "source": [
    "y_pred = model.predict(x_vgg_valid)\n",
    "y_pred = np.argmax(y_pred,axis=1).astype(int)\n",
    "y_valid_index = np.argmax(y_valid.values,axis=1).astype(int)"
   ]
  },
  {
   "cell_type": "code",
   "execution_count": 146,
   "metadata": {},
   "outputs": [
    {
     "data": {
      "image/png": "[encoded data removed]",
      "text/plain": [
       "<Figure size 432x288 with 2 Axes>"
      ]
     },
     "metadata": {
      "needs_background": "light"
     },
     "output_type": "display_data"
    }
   ],
   "source": [
    "conf_matrix = ConfusionMatrixDisplay(\n",
    "    confusion_matrix(y_valid_index, y_pred),\n",
    "    display_labels=classes_cols,\n",
    ")\n",
    "conf_matrix.plot(xticks_rotation=90);"
   ]
  },
  {
   "cell_type": "code",
   "execution_count": 147,
   "metadata": {},
   "outputs": [
    {
     "name": "stdout",
     "output_type": "stream",
     "text": [
      "               precision    recall  f1-score   support\n",
      "\n",
      "  class_Snare       0.93      0.73      0.82       650\n",
      "   class_Kick       0.83      0.94      0.88       467\n",
      "    class_Hat       0.84      0.80      0.82       387\n",
      "    class_Tom       0.80      0.82      0.81       380\n",
      " class_Cymbal       0.81      0.88      0.84       217\n",
      "   class_Clap       0.83      0.91      0.87        92\n",
      "class_Cowbell       0.80      0.93      0.86        46\n",
      "  class_Conga       0.43      0.75      0.55        36\n",
      " class_Shaken       0.35      0.61      0.45        31\n",
      "\n",
      "     accuracy                           0.82      2306\n",
      "    macro avg       0.74      0.82      0.77      2306\n",
      " weighted avg       0.84      0.82      0.83      2306\n",
      "\n"
     ]
    }
   ],
   "source": [
    "print(classification_report(y_valid_index, y_pred, target_names=classes_cols))"
   ]
  },
  {
   "cell_type": "code",
   "execution_count": 176,
   "metadata": {},
   "outputs": [
    {
     "data": {
      "text/plain": [
       "0.9804428135728175"
      ]
     },
     "execution_count": 176,
     "metadata": {},
     "output_type": "execute_result"
    }
   ],
   "source": [
    "roc_auc_score(y_valid_index, model.predict(x_vgg_valid), average='weighted', multi_class='ovr')"
   ]
  },
  {
   "cell_type": "code",
   "execution_count": 181,
   "metadata": {},
   "outputs": [
    {
     "data": {
      "text/plain": [
       "3473       class_Tom\n",
       "3803    class_Cymbal\n",
       "6181       class_Hat\n",
       "1976     class_Snare\n",
       "3952       class_Hat\n",
       "            ...     \n",
       "1112     class_Conga\n",
       "5789      class_Kick\n",
       "3736       class_Hat\n",
       "100      class_Snare\n",
       "1441     class_Snare\n",
       "Length: 2306, dtype: object"
      ]
     },
     "execution_count": 181,
     "metadata": {},
     "output_type": "execute_result"
    }
   ],
   "source": [
    "y_pred = model.predict(x_vgg_valid)\n",
    "(y_pred-y_valid).idxmax(axis=1)"
   ]
  },
  {
   "cell_type": "code",
   "execution_count": 148,
   "metadata": {},
   "outputs": [
    {
     "name": "stdout",
     "output_type": "stream",
     "text": [
      "Model: \"functional_37\"\n",
      "_________________________________________________________________\n",
      "Layer (type)                 Output Shape              Param #   \n",
      "=================================================================\n",
      "input_12 (InputLayer)        [(None, 1024)]            0         \n",
      "_________________________________________________________________\n",
      "dropout_27 (Dropout)         (None, 1024)              0         \n",
      "_________________________________________________________________\n",
      "dense_51 (Dense)             (None, 9)                 9225      \n",
      "=================================================================\n",
      "Total params: 9,225\n",
      "Trainable params: 9,225\n",
      "Non-trainable params: 0\n",
      "_________________________________________________________________\n"
     ]
    }
   ],
   "source": [
    "inputs = Input(shape=(1024))\n",
    "x = Dropout(0.3)(inputs)\n",
    "x = Dense(100, activation='relu')(x)\n",
    "x = Dropout(0.3)(inputs)\n",
    "x = Dense(50, activation='relu')(x)\n",
    "x = Dropout(0.3)(inputs)\n",
    "outputs = Dense(nb_classes, activation='softmax')(x)\n",
    "\n",
    "model2 = Model(inputs, outputs)\n",
    "model2.summary()"
   ]
  },
  {
   "cell_type": "code",
   "execution_count": 149,
   "metadata": {},
   "outputs": [],
   "source": [
    "model2.compile(optimizer='adam', loss='categorical_crossentropy', metrics=['accuracy'])"
   ]
  },
  {
   "cell_type": "code",
   "execution_count": 150,
   "metadata": {
    "scrolled": true
   },
   "outputs": [
    {
     "name": "stdout",
     "output_type": "stream",
     "text": [
      "Epoch 1/100\n",
      "169/169 [==============================] - 0s 2ms/step - loss: 1.4630 - accuracy: 0.4769 - val_loss: 1.1567 - val_accuracy: 0.5794\n",
      "Epoch 2/100\n",
      "169/169 [==============================] - 0s 2ms/step - loss: 1.0745 - accuracy: 0.6162 - val_loss: 0.9779 - val_accuracy: 0.6479\n",
      "Epoch 3/100\n",
      "169/169 [==============================] - 0s 2ms/step - loss: 0.9505 - accuracy: 0.6616 - val_loss: 0.8887 - val_accuracy: 0.6899\n",
      "Epoch 4/100\n",
      "169/169 [==============================] - 0s 1ms/step - loss: 0.8922 - accuracy: 0.6761 - val_loss: 0.8388 - val_accuracy: 0.7056\n",
      "Epoch 5/100\n",
      "169/169 [==============================] - 0s 1ms/step - loss: 0.8482 - accuracy: 0.6997 - val_loss: 0.8021 - val_accuracy: 0.7164\n",
      "Epoch 6/100\n",
      "169/169 [==============================] - 0s 1ms/step - loss: 0.8130 - accuracy: 0.7122 - val_loss: 0.7766 - val_accuracy: 0.7277\n",
      "Epoch 7/100\n",
      "169/169 [==============================] - 0s 1ms/step - loss: 0.7918 - accuracy: 0.7148 - val_loss: 0.7556 - val_accuracy: 0.7333\n",
      "Epoch 8/100\n",
      "169/169 [==============================] - 0s 1ms/step - loss: 0.7782 - accuracy: 0.7179 - val_loss: 0.7452 - val_accuracy: 0.7285\n",
      "Epoch 9/100\n",
      "169/169 [==============================] - 0s 1ms/step - loss: 0.7593 - accuracy: 0.7213 - val_loss: 0.7275 - val_accuracy: 0.7420\n",
      "Epoch 10/100\n",
      "169/169 [==============================] - 0s 1ms/step - loss: 0.7499 - accuracy: 0.7291 - val_loss: 0.7166 - val_accuracy: 0.7459\n",
      "Epoch 11/100\n",
      "169/169 [==============================] - 0s 2ms/step - loss: 0.7282 - accuracy: 0.7378 - val_loss: 0.7078 - val_accuracy: 0.7467\n",
      "Epoch 12/100\n",
      "169/169 [==============================] - 0s 1ms/step - loss: 0.7211 - accuracy: 0.7456 - val_loss: 0.7028 - val_accuracy: 0.7480\n",
      "Epoch 13/100\n",
      "169/169 [==============================] - 0s 2ms/step - loss: 0.7158 - accuracy: 0.7397 - val_loss: 0.6905 - val_accuracy: 0.7576\n",
      "Epoch 14/100\n",
      "169/169 [==============================] - 0s 2ms/step - loss: 0.7001 - accuracy: 0.7471 - val_loss: 0.6834 - val_accuracy: 0.7585\n",
      "Epoch 15/100\n",
      "169/169 [==============================] - 0s 1ms/step - loss: 0.7007 - accuracy: 0.7415 - val_loss: 0.6761 - val_accuracy: 0.7650\n",
      "Epoch 16/100\n",
      "169/169 [==============================] - 0s 1ms/step - loss: 0.6930 - accuracy: 0.7449 - val_loss: 0.6739 - val_accuracy: 0.7650\n",
      "Epoch 17/100\n",
      "169/169 [==============================] - 0s 2ms/step - loss: 0.6829 - accuracy: 0.7479 - val_loss: 0.6673 - val_accuracy: 0.7667\n",
      "Epoch 18/100\n",
      "169/169 [==============================] - 0s 2ms/step - loss: 0.6836 - accuracy: 0.7516 - val_loss: 0.6679 - val_accuracy: 0.7619\n",
      "Epoch 19/100\n",
      "169/169 [==============================] - 0s 2ms/step - loss: 0.6786 - accuracy: 0.7568 - val_loss: 0.6620 - val_accuracy: 0.7706\n",
      "Epoch 20/100\n",
      "169/169 [==============================] - 0s 1ms/step - loss: 0.6673 - accuracy: 0.7612 - val_loss: 0.6595 - val_accuracy: 0.7654\n",
      "Epoch 21/100\n",
      "169/169 [==============================] - 0s 2ms/step - loss: 0.6649 - accuracy: 0.7637 - val_loss: 0.6539 - val_accuracy: 0.7693\n",
      "Epoch 22/100\n",
      "169/169 [==============================] - 0s 1ms/step - loss: 0.6702 - accuracy: 0.7559 - val_loss: 0.6491 - val_accuracy: 0.7745\n",
      "Epoch 23/100\n",
      "169/169 [==============================] - 0s 2ms/step - loss: 0.6621 - accuracy: 0.7622 - val_loss: 0.6482 - val_accuracy: 0.7684\n",
      "Epoch 24/100\n",
      "169/169 [==============================] - 0s 2ms/step - loss: 0.6617 - accuracy: 0.7609 - val_loss: 0.6428 - val_accuracy: 0.7797\n",
      "Epoch 25/100\n",
      "169/169 [==============================] - 0s 2ms/step - loss: 0.6562 - accuracy: 0.7607 - val_loss: 0.6434 - val_accuracy: 0.7715\n",
      "Epoch 26/100\n",
      "169/169 [==============================] - 0s 2ms/step - loss: 0.6493 - accuracy: 0.7635 - val_loss: 0.6429 - val_accuracy: 0.7745\n",
      "Epoch 27/100\n",
      "169/169 [==============================] - 0s 2ms/step - loss: 0.6451 - accuracy: 0.7618 - val_loss: 0.6367 - val_accuracy: 0.7741\n",
      "Epoch 28/100\n",
      "169/169 [==============================] - 0s 2ms/step - loss: 0.6415 - accuracy: 0.7674 - val_loss: 0.6391 - val_accuracy: 0.7736\n",
      "Epoch 29/100\n",
      "169/169 [==============================] - 0s 1ms/step - loss: 0.6421 - accuracy: 0.7707 - val_loss: 0.6340 - val_accuracy: 0.7775\n",
      "Epoch 30/100\n",
      "169/169 [==============================] - 0s 2ms/step - loss: 0.6356 - accuracy: 0.7653 - val_loss: 0.6329 - val_accuracy: 0.7767\n",
      "Epoch 31/100\n",
      "169/169 [==============================] - 0s 1ms/step - loss: 0.6335 - accuracy: 0.7715 - val_loss: 0.6309 - val_accuracy: 0.7767\n",
      "Epoch 32/100\n",
      "169/169 [==============================] - 0s 1ms/step - loss: 0.6269 - accuracy: 0.7724 - val_loss: 0.6271 - val_accuracy: 0.7853\n",
      "Epoch 33/100\n",
      "169/169 [==============================] - 0s 2ms/step - loss: 0.6279 - accuracy: 0.7676 - val_loss: 0.6245 - val_accuracy: 0.7827\n",
      "Epoch 34/100\n",
      "169/169 [==============================] - 0s 2ms/step - loss: 0.6229 - accuracy: 0.7700 - val_loss: 0.6229 - val_accuracy: 0.7788\n",
      "Epoch 35/100\n",
      "169/169 [==============================] - 0s 2ms/step - loss: 0.6321 - accuracy: 0.7681 - val_loss: 0.6229 - val_accuracy: 0.7780\n",
      "Epoch 36/100\n",
      "169/169 [==============================] - 0s 2ms/step - loss: 0.6238 - accuracy: 0.7713 - val_loss: 0.6201 - val_accuracy: 0.7797\n",
      "Epoch 37/100\n",
      "169/169 [==============================] - 0s 2ms/step - loss: 0.6171 - accuracy: 0.7752 - val_loss: 0.6167 - val_accuracy: 0.7836\n",
      "Epoch 38/100\n",
      "169/169 [==============================] - 0s 2ms/step - loss: 0.6216 - accuracy: 0.7769 - val_loss: 0.6183 - val_accuracy: 0.7823\n",
      "Epoch 39/100\n",
      "169/169 [==============================] - 0s 1ms/step - loss: 0.6118 - accuracy: 0.7739 - val_loss: 0.6192 - val_accuracy: 0.7832\n",
      "Epoch 40/100\n",
      "169/169 [==============================] - 0s 1ms/step - loss: 0.6159 - accuracy: 0.7785 - val_loss: 0.6198 - val_accuracy: 0.7836\n",
      "Epoch 41/100\n",
      "169/169 [==============================] - 0s 1ms/step - loss: 0.6156 - accuracy: 0.7774 - val_loss: 0.6175 - val_accuracy: 0.7875\n",
      "Epoch 42/100\n",
      "169/169 [==============================] - 0s 2ms/step - loss: 0.6097 - accuracy: 0.7839 - val_loss: 0.6145 - val_accuracy: 0.7858\n",
      "Epoch 43/100\n",
      "169/169 [==============================] - 0s 2ms/step - loss: 0.6136 - accuracy: 0.7800 - val_loss: 0.6148 - val_accuracy: 0.7849\n",
      "Epoch 44/100\n",
      "169/169 [==============================] - 0s 1ms/step - loss: 0.6124 - accuracy: 0.7821 - val_loss: 0.6116 - val_accuracy: 0.7853\n",
      "Epoch 45/100\n",
      "169/169 [==============================] - 0s 1ms/step - loss: 0.6128 - accuracy: 0.7748 - val_loss: 0.6099 - val_accuracy: 0.7884\n",
      "Epoch 46/100\n",
      "169/169 [==============================] - 0s 1ms/step - loss: 0.6096 - accuracy: 0.7780 - val_loss: 0.6175 - val_accuracy: 0.7845\n",
      "Epoch 47/100\n",
      "169/169 [==============================] - 0s 1ms/step - loss: 0.6098 - accuracy: 0.7722 - val_loss: 0.6112 - val_accuracy: 0.7927\n",
      "Epoch 48/100\n",
      "169/169 [==============================] - 0s 2ms/step - loss: 0.6137 - accuracy: 0.7752 - val_loss: 0.6084 - val_accuracy: 0.7918\n",
      "Epoch 49/100\n",
      "169/169 [==============================] - 0s 1ms/step - loss: 0.6099 - accuracy: 0.7758 - val_loss: 0.6108 - val_accuracy: 0.7853\n",
      "Epoch 50/100\n",
      "169/169 [==============================] - 0s 1ms/step - loss: 0.6028 - accuracy: 0.7797 - val_loss: 0.6102 - val_accuracy: 0.7892\n",
      "Epoch 51/100\n",
      "169/169 [==============================] - 0s 1ms/step - loss: 0.5983 - accuracy: 0.7864 - val_loss: 0.6045 - val_accuracy: 0.7897\n",
      "Epoch 52/100\n",
      "169/169 [==============================] - 0s 2ms/step - loss: 0.6078 - accuracy: 0.7767 - val_loss: 0.6065 - val_accuracy: 0.7897\n",
      "Epoch 53/100\n",
      "169/169 [==============================] - 0s 2ms/step - loss: 0.5985 - accuracy: 0.7772 - val_loss: 0.6049 - val_accuracy: 0.7892\n",
      "Epoch 54/100\n",
      "169/169 [==============================] - 0s 2ms/step - loss: 0.5963 - accuracy: 0.7806 - val_loss: 0.6039 - val_accuracy: 0.7914\n",
      "Epoch 55/100\n",
      "169/169 [==============================] - 0s 2ms/step - loss: 0.5952 - accuracy: 0.7849 - val_loss: 0.6044 - val_accuracy: 0.7914\n",
      "Epoch 56/100\n",
      "169/169 [==============================] - 0s 1ms/step - loss: 0.5886 - accuracy: 0.7884 - val_loss: 0.6026 - val_accuracy: 0.7910\n",
      "Epoch 57/100\n",
      "169/169 [==============================] - 0s 2ms/step - loss: 0.5925 - accuracy: 0.7856 - val_loss: 0.6027 - val_accuracy: 0.7892\n"
     ]
    },
    {
     "name": "stdout",
     "output_type": "stream",
     "text": [
      "Epoch 58/100\n",
      "169/169 [==============================] - 0s 1ms/step - loss: 0.5863 - accuracy: 0.7960 - val_loss: 0.6057 - val_accuracy: 0.7975\n",
      "Epoch 59/100\n",
      "169/169 [==============================] - 0s 2ms/step - loss: 0.5806 - accuracy: 0.7841 - val_loss: 0.6021 - val_accuracy: 0.7910\n",
      "Epoch 60/100\n",
      "169/169 [==============================] - 0s 2ms/step - loss: 0.5853 - accuracy: 0.7858 - val_loss: 0.6024 - val_accuracy: 0.7845\n",
      "Epoch 61/100\n",
      "169/169 [==============================] - 0s 2ms/step - loss: 0.5880 - accuracy: 0.7854 - val_loss: 0.6033 - val_accuracy: 0.7879\n",
      "Epoch 62/100\n",
      "169/169 [==============================] - 0s 2ms/step - loss: 0.5821 - accuracy: 0.7906 - val_loss: 0.6009 - val_accuracy: 0.7931\n",
      "Epoch 63/100\n",
      "169/169 [==============================] - 0s 2ms/step - loss: 0.5887 - accuracy: 0.7877 - val_loss: 0.5969 - val_accuracy: 0.7979\n",
      "Epoch 64/100\n",
      "169/169 [==============================] - 0s 2ms/step - loss: 0.5728 - accuracy: 0.7945 - val_loss: 0.5986 - val_accuracy: 0.7936\n",
      "Epoch 65/100\n",
      "169/169 [==============================] - 0s 2ms/step - loss: 0.5845 - accuracy: 0.7880 - val_loss: 0.6008 - val_accuracy: 0.7905\n",
      "Epoch 66/100\n",
      "169/169 [==============================] - 0s 2ms/step - loss: 0.5789 - accuracy: 0.7888 - val_loss: 0.5964 - val_accuracy: 0.7949\n",
      "Epoch 67/100\n",
      "169/169 [==============================] - 0s 2ms/step - loss: 0.5761 - accuracy: 0.7891 - val_loss: 0.5984 - val_accuracy: 0.7971\n",
      "Epoch 68/100\n",
      "169/169 [==============================] - 0s 2ms/step - loss: 0.5801 - accuracy: 0.7858 - val_loss: 0.5965 - val_accuracy: 0.7953\n",
      "Epoch 69/100\n",
      "169/169 [==============================] - 0s 2ms/step - loss: 0.5758 - accuracy: 0.7947 - val_loss: 0.6000 - val_accuracy: 0.7923\n",
      "Epoch 70/100\n",
      "169/169 [==============================] - 0s 2ms/step - loss: 0.5854 - accuracy: 0.7865 - val_loss: 0.5983 - val_accuracy: 0.7949\n",
      "Epoch 71/100\n",
      "169/169 [==============================] - 0s 2ms/step - loss: 0.5737 - accuracy: 0.7942 - val_loss: 0.5966 - val_accuracy: 0.7962\n",
      "Epoch 72/100\n",
      "169/169 [==============================] - 0s 2ms/step - loss: 0.5765 - accuracy: 0.7845 - val_loss: 0.5982 - val_accuracy: 0.7949\n",
      "Epoch 73/100\n",
      "169/169 [==============================] - 0s 1ms/step - loss: 0.5799 - accuracy: 0.7862 - val_loss: 0.5945 - val_accuracy: 0.7971\n",
      "Epoch 74/100\n",
      "169/169 [==============================] - 0s 2ms/step - loss: 0.5676 - accuracy: 0.7925 - val_loss: 0.5940 - val_accuracy: 0.7958\n",
      "Epoch 75/100\n",
      "169/169 [==============================] - 0s 1ms/step - loss: 0.5794 - accuracy: 0.7904 - val_loss: 0.5960 - val_accuracy: 0.7936\n",
      "Epoch 76/100\n",
      "169/169 [==============================] - 0s 2ms/step - loss: 0.5769 - accuracy: 0.7854 - val_loss: 0.5970 - val_accuracy: 0.7914\n",
      "Epoch 77/100\n",
      "169/169 [==============================] - 0s 1ms/step - loss: 0.5735 - accuracy: 0.7873 - val_loss: 0.5979 - val_accuracy: 0.7949\n",
      "Epoch 78/100\n",
      "169/169 [==============================] - 0s 2ms/step - loss: 0.5729 - accuracy: 0.7875 - val_loss: 0.5986 - val_accuracy: 0.7901\n",
      "Epoch 79/100\n",
      "169/169 [==============================] - 0s 2ms/step - loss: 0.5785 - accuracy: 0.7860 - val_loss: 0.5930 - val_accuracy: 0.7923\n",
      "Epoch 80/100\n",
      "169/169 [==============================] - 0s 1ms/step - loss: 0.5614 - accuracy: 0.8033 - val_loss: 0.5937 - val_accuracy: 0.8001\n",
      "Epoch 81/100\n",
      "169/169 [==============================] - 0s 2ms/step - loss: 0.5669 - accuracy: 0.7884 - val_loss: 0.5907 - val_accuracy: 0.8018\n",
      "Epoch 82/100\n",
      "169/169 [==============================] - 0s 1ms/step - loss: 0.5689 - accuracy: 0.7938 - val_loss: 0.5938 - val_accuracy: 0.7988\n",
      "Epoch 83/100\n",
      "169/169 [==============================] - 0s 2ms/step - loss: 0.5757 - accuracy: 0.7886 - val_loss: 0.5937 - val_accuracy: 0.7958\n",
      "Epoch 84/100\n",
      "169/169 [==============================] - 0s 1ms/step - loss: 0.5669 - accuracy: 0.7927 - val_loss: 0.5923 - val_accuracy: 0.7958\n",
      "Epoch 85/100\n",
      "169/169 [==============================] - 0s 2ms/step - loss: 0.5667 - accuracy: 0.7940 - val_loss: 0.5926 - val_accuracy: 0.7997\n",
      "Epoch 86/100\n",
      "169/169 [==============================] - 0s 2ms/step - loss: 0.5633 - accuracy: 0.7934 - val_loss: 0.5945 - val_accuracy: 0.8001\n",
      "Epoch 87/100\n",
      "169/169 [==============================] - 0s 2ms/step - loss: 0.5541 - accuracy: 0.7936 - val_loss: 0.5944 - val_accuracy: 0.8010\n",
      "Epoch 88/100\n",
      "169/169 [==============================] - 0s 1ms/step - loss: 0.5764 - accuracy: 0.7865 - val_loss: 0.5966 - val_accuracy: 0.7966\n",
      "Epoch 89/100\n",
      "169/169 [==============================] - 0s 2ms/step - loss: 0.5620 - accuracy: 0.7988 - val_loss: 0.5954 - val_accuracy: 0.7997\n",
      "Epoch 90/100\n",
      "169/169 [==============================] - 0s 2ms/step - loss: 0.5682 - accuracy: 0.7929 - val_loss: 0.5953 - val_accuracy: 0.7979\n",
      "Epoch 91/100\n",
      "169/169 [==============================] - 0s 2ms/step - loss: 0.5670 - accuracy: 0.7962 - val_loss: 0.5949 - val_accuracy: 0.7997\n",
      "Epoch 92/100\n",
      "169/169 [==============================] - 0s 2ms/step - loss: 0.5651 - accuracy: 0.7932 - val_loss: 0.5936 - val_accuracy: 0.7988\n",
      "Epoch 93/100\n",
      "169/169 [==============================] - 0s 1ms/step - loss: 0.5617 - accuracy: 0.7971 - val_loss: 0.5928 - val_accuracy: 0.8018\n",
      "Epoch 94/100\n",
      "169/169 [==============================] - 0s 1ms/step - loss: 0.5610 - accuracy: 0.7958 - val_loss: 0.5962 - val_accuracy: 0.8018\n",
      "Epoch 95/100\n",
      "169/169 [==============================] - 0s 1ms/step - loss: 0.5630 - accuracy: 0.7888 - val_loss: 0.5927 - val_accuracy: 0.8031\n",
      "Epoch 96/100\n",
      "169/169 [==============================] - 0s 1ms/step - loss: 0.5588 - accuracy: 0.7955 - val_loss: 0.5929 - val_accuracy: 0.7975\n",
      "Epoch 97/100\n",
      "169/169 [==============================] - 0s 2ms/step - loss: 0.5591 - accuracy: 0.7916 - val_loss: 0.5925 - val_accuracy: 0.8027\n",
      "Epoch 98/100\n",
      "169/169 [==============================] - 0s 1ms/step - loss: 0.5538 - accuracy: 0.8012 - val_loss: 0.5955 - val_accuracy: 0.7997\n",
      "Epoch 99/100\n",
      "169/169 [==============================] - 0s 1ms/step - loss: 0.5722 - accuracy: 0.7910 - val_loss: 0.5904 - val_accuracy: 0.8023\n",
      "Epoch 100/100\n",
      "169/169 [==============================] - 0s 2ms/step - loss: 0.5597 - accuracy: 0.7988 - val_loss: 0.5930 - val_accuracy: 0.7962\n"
     ]
    }
   ],
   "source": [
    "history = model2.fit(x_yam_train, y_train, epochs=100, validation_data=(x_yam_valid, y_valid))"
   ]
  },
  {
   "cell_type": "code",
   "execution_count": 151,
   "metadata": {},
   "outputs": [
    {
     "data": {
      "image/png": "[encoded data removed]",
      "text/plain": [
       "<Figure size 432x288 with 1 Axes>"
      ]
     },
     "metadata": {
      "needs_background": "light"
     },
     "output_type": "display_data"
    }
   ],
   "source": [
    "loss = history.history['loss']\n",
    "epochs = range(1, len(loss) + 1)\n",
    "val_loss = history.history['val_loss']\n",
    "plt.plot(epochs, loss, '.--', label='Training loss')\n",
    "plt.plot(epochs, val_loss, 'o-', label='Validation loss')\n",
    "plt.show()"
   ]
  },
  {
   "cell_type": "code",
   "execution_count": 152,
   "metadata": {},
   "outputs": [],
   "source": [
    "y_pred = model2.predict(x_yam_valid)\n",
    "y_pred = np.argmax(y_pred,axis=1).astype(int)"
   ]
  },
  {
   "cell_type": "code",
   "execution_count": 153,
   "metadata": {},
   "outputs": [
    {
     "data": {
      "image/png": "[encoded data removed]",
      "text/plain": [
       "<Figure size 432x288 with 2 Axes>"
      ]
     },
     "metadata": {
      "needs_background": "light"
     },
     "output_type": "display_data"
    }
   ],
   "source": [
    "conf_matrix = ConfusionMatrixDisplay(\n",
    "    confusion_matrix(y_valid_index, y_pred),\n",
    "    display_labels=classes_cols,\n",
    ")\n",
    "conf_matrix.plot(xticks_rotation=90);"
   ]
  },
  {
   "cell_type": "code",
   "execution_count": 154,
   "metadata": {},
   "outputs": [
    {
     "name": "stdout",
     "output_type": "stream",
     "text": [
      "               precision    recall  f1-score   support\n",
      "\n",
      "  class_Snare       0.75      0.80      0.78       650\n",
      "   class_Kick       0.82      0.88      0.85       467\n",
      "    class_Hat       0.78      0.80      0.79       387\n",
      "    class_Tom       0.83      0.71      0.77       380\n",
      " class_Cymbal       0.85      0.79      0.82       217\n",
      "   class_Clap       0.83      0.83      0.83        92\n",
      "class_Cowbell       0.92      0.96      0.94        46\n",
      "  class_Conga       0.68      0.42      0.52        36\n",
      " class_Shaken       0.68      0.48      0.57        31\n",
      "\n",
      "     accuracy                           0.80      2306\n",
      "    macro avg       0.79      0.74      0.76      2306\n",
      " weighted avg       0.80      0.80      0.79      2306\n",
      "\n"
     ]
    }
   ],
   "source": [
    "print(classification_report(y_valid_index, y_pred, target_names=classes_cols))"
   ]
  },
  {
   "cell_type": "code",
   "execution_count": 177,
   "metadata": {},
   "outputs": [
    {
     "data": {
      "text/plain": [
       "0.9603069132403973"
      ]
     },
     "execution_count": 177,
     "metadata": {},
     "output_type": "execute_result"
    }
   ],
   "source": [
    "roc_auc_score(y_valid_index, model2.predict(x_yam_valid), average='weighted', multi_class='ovr')"
   ]
  },
  {
   "cell_type": "code",
   "execution_count": 155,
   "metadata": {
    "scrolled": true
   },
   "outputs": [
    {
     "name": "stdout",
     "output_type": "stream",
     "text": [
      "Model: \"functional_39\"\n",
      "_________________________________________________________________\n",
      "Layer (type)                 Output Shape              Param #   \n",
      "=================================================================\n",
      "input_11 (InputLayer)        [(None, 128)]             0         \n",
      "_________________________________________________________________\n",
      "dense_46 (Dense)             (None, 100)               12900     \n",
      "_________________________________________________________________\n",
      "dropout_23 (Dropout)         (None, 100)               0         \n",
      "_________________________________________________________________\n",
      "dense_47 (Dense)             (None, 50)                5050      \n",
      "_________________________________________________________________\n",
      "dense_52 (Dense)             (None, 1)                 51        \n",
      "=================================================================\n",
      "Total params: 18,001\n",
      "Trainable params: 51\n",
      "Non-trainable params: 17,950\n",
      "_________________________________________________________________\n",
      "Epoch 1/100\n",
      "169/169 [==============================] - 0s 2ms/step - loss: 0.3592 - accuracy: 0.7793 - val_loss: 0.2372 - val_accuracy: 0.9189\n",
      "Epoch 2/100\n",
      "169/169 [==============================] - 0s 1ms/step - loss: 0.1942 - accuracy: 0.9310 - val_loss: 0.1613 - val_accuracy: 0.9415\n",
      "Epoch 3/100\n",
      "169/169 [==============================] - 0s 1ms/step - loss: 0.1501 - accuracy: 0.9435 - val_loss: 0.1382 - val_accuracy: 0.9449\n",
      "Epoch 4/100\n",
      "169/169 [==============================] - 0s 1ms/step - loss: 0.1215 - accuracy: 0.9474 - val_loss: 0.1199 - val_accuracy: 0.9488\n",
      "Epoch 5/100\n",
      "169/169 [==============================] - 0s 1ms/step - loss: 0.1064 - accuracy: 0.9498 - val_loss: 0.1110 - val_accuracy: 0.9497\n",
      "Epoch 6/100\n",
      "169/169 [==============================] - 0s 1ms/step - loss: 0.1029 - accuracy: 0.9550 - val_loss: 0.1074 - val_accuracy: 0.9514\n",
      "Epoch 7/100\n",
      "169/169 [==============================] - 0s 1ms/step - loss: 0.0852 - accuracy: 0.9589 - val_loss: 0.1000 - val_accuracy: 0.9532\n",
      "Epoch 8/100\n",
      "169/169 [==============================] - 0s 1ms/step - loss: 0.0832 - accuracy: 0.9583 - val_loss: 0.0953 - val_accuracy: 0.9566\n",
      "Epoch 9/100\n",
      "169/169 [==============================] - 0s 2ms/step - loss: 0.0775 - accuracy: 0.9608 - val_loss: 0.0954 - val_accuracy: 0.9575\n",
      "Epoch 10/100\n",
      "169/169 [==============================] - 0s 1ms/step - loss: 0.0697 - accuracy: 0.9621 - val_loss: 0.0903 - val_accuracy: 0.9597\n",
      "Epoch 11/100\n",
      "169/169 [==============================] - 0s 1ms/step - loss: 0.0656 - accuracy: 0.9643 - val_loss: 0.0867 - val_accuracy: 0.9636\n",
      "Epoch 12/100\n",
      "169/169 [==============================] - 0s 1ms/step - loss: 0.0652 - accuracy: 0.9652 - val_loss: 0.0845 - val_accuracy: 0.9653\n",
      "Epoch 13/100\n",
      "169/169 [==============================] - 0s 1ms/step - loss: 0.0605 - accuracy: 0.9686 - val_loss: 0.0811 - val_accuracy: 0.9670\n",
      "Epoch 14/100\n",
      "169/169 [==============================] - 0s 1ms/step - loss: 0.0591 - accuracy: 0.9710 - val_loss: 0.0853 - val_accuracy: 0.9653\n",
      "Epoch 15/100\n",
      "169/169 [==============================] - 0s 978us/step - loss: 0.0557 - accuracy: 0.9708 - val_loss: 0.0849 - val_accuracy: 0.9653\n",
      "Epoch 16/100\n",
      "169/169 [==============================] - 0s 1ms/step - loss: 0.0512 - accuracy: 0.9701 - val_loss: 0.0789 - val_accuracy: 0.9688\n",
      "Epoch 17/100\n",
      "169/169 [==============================] - 0s 1ms/step - loss: 0.0532 - accuracy: 0.9727 - val_loss: 0.0785 - val_accuracy: 0.9692\n",
      "Epoch 18/100\n",
      "169/169 [==============================] - 0s 1ms/step - loss: 0.0517 - accuracy: 0.9736 - val_loss: 0.0802 - val_accuracy: 0.9688\n",
      "Epoch 19/100\n",
      "169/169 [==============================] - 0s 1ms/step - loss: 0.0584 - accuracy: 0.9710 - val_loss: 0.0844 - val_accuracy: 0.9675\n",
      "Epoch 20/100\n",
      "169/169 [==============================] - 0s 1ms/step - loss: 0.0526 - accuracy: 0.9719 - val_loss: 0.0794 - val_accuracy: 0.9692\n",
      "Epoch 21/100\n",
      "169/169 [==============================] - 0s 2ms/step - loss: 0.0442 - accuracy: 0.9749 - val_loss: 0.0765 - val_accuracy: 0.9701\n",
      "Epoch 22/100\n",
      "169/169 [==============================] - 0s 1ms/step - loss: 0.0525 - accuracy: 0.9745 - val_loss: 0.0808 - val_accuracy: 0.9692\n",
      "Epoch 23/100\n",
      "169/169 [==============================] - 0s 1ms/step - loss: 0.0539 - accuracy: 0.9734 - val_loss: 0.0816 - val_accuracy: 0.9696\n",
      "Epoch 24/100\n",
      "169/169 [==============================] - 0s 1ms/step - loss: 0.0520 - accuracy: 0.9732 - val_loss: 0.0804 - val_accuracy: 0.9696\n",
      "Epoch 25/100\n",
      "169/169 [==============================] - 0s 1ms/step - loss: 0.0464 - accuracy: 0.9725 - val_loss: 0.0779 - val_accuracy: 0.9705\n",
      "Epoch 26/100\n",
      "169/169 [==============================] - 0s 1ms/step - loss: 0.0436 - accuracy: 0.9743 - val_loss: 0.0786 - val_accuracy: 0.9705\n",
      "Epoch 27/100\n",
      "169/169 [==============================] - 0s 1ms/step - loss: 0.0423 - accuracy: 0.9773 - val_loss: 0.0758 - val_accuracy: 0.9718\n",
      "Epoch 28/100\n",
      "169/169 [==============================] - 0s 1ms/step - loss: 0.0461 - accuracy: 0.9768 - val_loss: 0.0813 - val_accuracy: 0.9709\n",
      "Epoch 29/100\n",
      "169/169 [==============================] - 0s 1ms/step - loss: 0.0469 - accuracy: 0.9751 - val_loss: 0.0772 - val_accuracy: 0.9718\n",
      "Epoch 30/100\n",
      "169/169 [==============================] - 0s 1ms/step - loss: 0.0416 - accuracy: 0.9749 - val_loss: 0.0761 - val_accuracy: 0.9735\n",
      "Epoch 31/100\n",
      "169/169 [==============================] - 0s 1ms/step - loss: 0.0415 - accuracy: 0.9764 - val_loss: 0.0746 - val_accuracy: 0.9744\n",
      "Epoch 32/100\n",
      "169/169 [==============================] - 0s 1ms/step - loss: 0.0458 - accuracy: 0.9807 - val_loss: 0.0786 - val_accuracy: 0.9731\n",
      "Epoch 33/100\n",
      "169/169 [==============================] - 0s 2ms/step - loss: 0.0412 - accuracy: 0.9781 - val_loss: 0.0783 - val_accuracy: 0.9735\n",
      "Epoch 34/100\n",
      "169/169 [==============================] - 0s 1ms/step - loss: 0.0446 - accuracy: 0.9762 - val_loss: 0.0764 - val_accuracy: 0.9744\n",
      "Epoch 35/100\n",
      "169/169 [==============================] - 0s 1ms/step - loss: 0.0446 - accuracy: 0.9792 - val_loss: 0.0807 - val_accuracy: 0.9735\n",
      "Epoch 36/100\n",
      "169/169 [==============================] - 0s 1ms/step - loss: 0.0490 - accuracy: 0.9740 - val_loss: 0.0813 - val_accuracy: 0.9735\n",
      "Epoch 37/100\n",
      "169/169 [==============================] - 0s 2ms/step - loss: 0.0364 - accuracy: 0.9775 - val_loss: 0.0758 - val_accuracy: 0.9744\n",
      "Epoch 38/100\n",
      "169/169 [==============================] - 0s 1ms/step - loss: 0.0451 - accuracy: 0.9821 - val_loss: 0.0789 - val_accuracy: 0.9735\n",
      "Epoch 39/100\n",
      "169/169 [==============================] - 0s 1ms/step - loss: 0.0484 - accuracy: 0.9773 - val_loss: 0.0832 - val_accuracy: 0.9735\n",
      "Epoch 40/100\n",
      "169/169 [==============================] - 0s 1ms/step - loss: 0.0402 - accuracy: 0.9764 - val_loss: 0.0793 - val_accuracy: 0.9735\n",
      "Epoch 41/100\n",
      "169/169 [==============================] - 0s 2ms/step - loss: 0.0375 - accuracy: 0.9814 - val_loss: 0.0777 - val_accuracy: 0.9744\n",
      "Epoch 42/100\n",
      "169/169 [==============================] - 0s 1ms/step - loss: 0.0431 - accuracy: 0.9782 - val_loss: 0.0777 - val_accuracy: 0.9748\n",
      "Epoch 43/100\n",
      "169/169 [==============================] - 0s 1ms/step - loss: 0.0352 - accuracy: 0.9810 - val_loss: 0.0756 - val_accuracy: 0.9753\n",
      "Epoch 44/100\n",
      "169/169 [==============================] - 0s 1ms/step - loss: 0.0382 - accuracy: 0.9799 - val_loss: 0.0761 - val_accuracy: 0.9757\n",
      "Epoch 45/100\n",
      "169/169 [==============================] - 0s 1ms/step - loss: 0.0396 - accuracy: 0.9799 - val_loss: 0.0758 - val_accuracy: 0.9761\n",
      "Epoch 46/100\n",
      "169/169 [==============================] - 0s 2ms/step - loss: 0.0394 - accuracy: 0.9807 - val_loss: 0.0781 - val_accuracy: 0.9753\n",
      "Epoch 47/100\n",
      "169/169 [==============================] - 0s 1ms/step - loss: 0.0399 - accuracy: 0.9799 - val_loss: 0.0804 - val_accuracy: 0.9748\n",
      "Epoch 48/100\n",
      "169/169 [==============================] - 0s 1ms/step - loss: 0.0418 - accuracy: 0.9801 - val_loss: 0.0834 - val_accuracy: 0.9735\n",
      "Epoch 49/100\n",
      "169/169 [==============================] - 0s 1ms/step - loss: 0.0377 - accuracy: 0.9799 - val_loss: 0.0806 - val_accuracy: 0.9748\n",
      "Epoch 50/100\n",
      "169/169 [==============================] - 0s 2ms/step - loss: 0.0367 - accuracy: 0.9801 - val_loss: 0.0758 - val_accuracy: 0.9766\n"
     ]
    },
    {
     "name": "stdout",
     "output_type": "stream",
     "text": [
      "Epoch 51/100\n",
      "169/169 [==============================] - 0s 1ms/step - loss: 0.0380 - accuracy: 0.9797 - val_loss: 0.0766 - val_accuracy: 0.9766\n",
      "Epoch 52/100\n",
      "169/169 [==============================] - 0s 1ms/step - loss: 0.0405 - accuracy: 0.9801 - val_loss: 0.0811 - val_accuracy: 0.9753\n",
      "Epoch 53/100\n",
      "169/169 [==============================] - 0s 1ms/step - loss: 0.0378 - accuracy: 0.9814 - val_loss: 0.0814 - val_accuracy: 0.9748\n",
      "Epoch 54/100\n",
      "169/169 [==============================] - 0s 1ms/step - loss: 0.0302 - accuracy: 0.9814 - val_loss: 0.0754 - val_accuracy: 0.9775\n",
      "Epoch 55/100\n",
      "169/169 [==============================] - 0s 1ms/step - loss: 0.0471 - accuracy: 0.9807 - val_loss: 0.0808 - val_accuracy: 0.9757\n",
      "Epoch 56/100\n",
      "169/169 [==============================] - 0s 1ms/step - loss: 0.0463 - accuracy: 0.9801 - val_loss: 0.0823 - val_accuracy: 0.9748\n",
      "Epoch 57/100\n",
      "169/169 [==============================] - 0s 1ms/step - loss: 0.0426 - accuracy: 0.9807 - val_loss: 0.0833 - val_accuracy: 0.9744\n",
      "Epoch 58/100\n",
      "169/169 [==============================] - 0s 1ms/step - loss: 0.0341 - accuracy: 0.9807 - val_loss: 0.0804 - val_accuracy: 0.9761\n",
      "Epoch 59/100\n",
      "169/169 [==============================] - 0s 1ms/step - loss: 0.0349 - accuracy: 0.9827 - val_loss: 0.0812 - val_accuracy: 0.9757\n",
      "Epoch 60/100\n",
      "169/169 [==============================] - 0s 1ms/step - loss: 0.0339 - accuracy: 0.9831 - val_loss: 0.0791 - val_accuracy: 0.9766\n",
      "Epoch 61/100\n",
      "169/169 [==============================] - 0s 1ms/step - loss: 0.0386 - accuracy: 0.9807 - val_loss: 0.0784 - val_accuracy: 0.9766\n",
      "Epoch 62/100\n",
      "169/169 [==============================] - 0s 1ms/step - loss: 0.0323 - accuracy: 0.9823 - val_loss: 0.0761 - val_accuracy: 0.9783\n",
      "Epoch 63/100\n",
      "169/169 [==============================] - 0s 1ms/step - loss: 0.0380 - accuracy: 0.9821 - val_loss: 0.0779 - val_accuracy: 0.9770\n",
      "Epoch 64/100\n",
      "169/169 [==============================] - 0s 1ms/step - loss: 0.0385 - accuracy: 0.9814 - val_loss: 0.0833 - val_accuracy: 0.9753\n",
      "Epoch 65/100\n",
      "169/169 [==============================] - 0s 1ms/step - loss: 0.0346 - accuracy: 0.9810 - val_loss: 0.0795 - val_accuracy: 0.9766\n",
      "Epoch 66/100\n",
      "169/169 [==============================] - 0s 1ms/step - loss: 0.0377 - accuracy: 0.9807 - val_loss: 0.0806 - val_accuracy: 0.9761\n",
      "Epoch 67/100\n",
      "169/169 [==============================] - 0s 1ms/step - loss: 0.0363 - accuracy: 0.9814 - val_loss: 0.0823 - val_accuracy: 0.9761\n",
      "Epoch 68/100\n",
      "169/169 [==============================] - 0s 1ms/step - loss: 0.0430 - accuracy: 0.9794 - val_loss: 0.0836 - val_accuracy: 0.9757\n",
      "Epoch 69/100\n",
      "169/169 [==============================] - 0s 1ms/step - loss: 0.0348 - accuracy: 0.9818 - val_loss: 0.0814 - val_accuracy: 0.9766\n",
      "Epoch 70/100\n",
      "169/169 [==============================] - 0s 1ms/step - loss: 0.0357 - accuracy: 0.9840 - val_loss: 0.0817 - val_accuracy: 0.9761\n",
      "Epoch 71/100\n",
      "169/169 [==============================] - 0s 1ms/step - loss: 0.0283 - accuracy: 0.9844 - val_loss: 0.0789 - val_accuracy: 0.9775\n",
      "Epoch 72/100\n",
      "169/169 [==============================] - 0s 1ms/step - loss: 0.0478 - accuracy: 0.9808 - val_loss: 0.0857 - val_accuracy: 0.9753\n",
      "Epoch 73/100\n",
      "169/169 [==============================] - 0s 1ms/step - loss: 0.0396 - accuracy: 0.9794 - val_loss: 0.0839 - val_accuracy: 0.9757\n",
      "Epoch 74/100\n",
      "169/169 [==============================] - 0s 1ms/step - loss: 0.0348 - accuracy: 0.9797 - val_loss: 0.0799 - val_accuracy: 0.9766\n",
      "Epoch 75/100\n",
      "169/169 [==============================] - 0s 1ms/step - loss: 0.0288 - accuracy: 0.9846 - val_loss: 0.0798 - val_accuracy: 0.9770\n",
      "Epoch 76/100\n",
      "169/169 [==============================] - 0s 1ms/step - loss: 0.0341 - accuracy: 0.9814 - val_loss: 0.0796 - val_accuracy: 0.9775\n",
      "Epoch 77/100\n",
      "169/169 [==============================] - 0s 1ms/step - loss: 0.0357 - accuracy: 0.9831 - val_loss: 0.0822 - val_accuracy: 0.9766\n",
      "Epoch 78/100\n",
      "169/169 [==============================] - 0s 2ms/step - loss: 0.0312 - accuracy: 0.9836 - val_loss: 0.0815 - val_accuracy: 0.9766\n",
      "Epoch 79/100\n",
      "169/169 [==============================] - 0s 1ms/step - loss: 0.0296 - accuracy: 0.9840 - val_loss: 0.0785 - val_accuracy: 0.9783\n",
      "Epoch 80/100\n",
      "169/169 [==============================] - 0s 1ms/step - loss: 0.0393 - accuracy: 0.9831 - val_loss: 0.0826 - val_accuracy: 0.9766\n",
      "Epoch 81/100\n",
      "169/169 [==============================] - 0s 1ms/step - loss: 0.0286 - accuracy: 0.9836 - val_loss: 0.0802 - val_accuracy: 0.9775\n",
      "Epoch 82/100\n",
      "169/169 [==============================] - 0s 1ms/step - loss: 0.0384 - accuracy: 0.9840 - val_loss: 0.0834 - val_accuracy: 0.9766\n",
      "Epoch 83/100\n",
      "169/169 [==============================] - 0s 1ms/step - loss: 0.0313 - accuracy: 0.9807 - val_loss: 0.0820 - val_accuracy: 0.9770\n",
      "Epoch 84/100\n",
      "169/169 [==============================] - 0s 1ms/step - loss: 0.0330 - accuracy: 0.9833 - val_loss: 0.0811 - val_accuracy: 0.9775\n",
      "Epoch 85/100\n",
      "169/169 [==============================] - 0s 1ms/step - loss: 0.0339 - accuracy: 0.9821 - val_loss: 0.0787 - val_accuracy: 0.9788\n",
      "Epoch 86/100\n",
      "169/169 [==============================] - 0s 998us/step - loss: 0.0280 - accuracy: 0.9855 - val_loss: 0.0779 - val_accuracy: 0.9792\n",
      "Epoch 87/100\n",
      "169/169 [==============================] - 0s 1ms/step - loss: 0.0299 - accuracy: 0.9846 - val_loss: 0.0788 - val_accuracy: 0.9792\n",
      "Epoch 88/100\n",
      "169/169 [==============================] - 0s 1ms/step - loss: 0.0338 - accuracy: 0.9838 - val_loss: 0.0789 - val_accuracy: 0.9792\n",
      "Epoch 89/100\n",
      "169/169 [==============================] - 0s 2ms/step - loss: 0.0345 - accuracy: 0.9848 - val_loss: 0.0800 - val_accuracy: 0.9792\n",
      "Epoch 90/100\n",
      "169/169 [==============================] - 0s 1ms/step - loss: 0.0279 - accuracy: 0.9855 - val_loss: 0.0790 - val_accuracy: 0.9792\n",
      "Epoch 91/100\n",
      "169/169 [==============================] - 0s 2ms/step - loss: 0.0340 - accuracy: 0.9857 - val_loss: 0.0817 - val_accuracy: 0.9783\n",
      "Epoch 92/100\n",
      "169/169 [==============================] - 0s 1ms/step - loss: 0.0379 - accuracy: 0.9836 - val_loss: 0.0857 - val_accuracy: 0.9766\n",
      "Epoch 93/100\n",
      "169/169 [==============================] - 0s 2ms/step - loss: 0.0321 - accuracy: 0.9814 - val_loss: 0.0825 - val_accuracy: 0.9783\n",
      "Epoch 94/100\n",
      "169/169 [==============================] - 0s 1ms/step - loss: 0.0308 - accuracy: 0.9842 - val_loss: 0.0824 - val_accuracy: 0.9783\n",
      "Epoch 95/100\n",
      "169/169 [==============================] - 0s 1ms/step - loss: 0.0311 - accuracy: 0.9840 - val_loss: 0.0814 - val_accuracy: 0.9783\n",
      "Epoch 96/100\n",
      "169/169 [==============================] - 0s 1ms/step - loss: 0.0353 - accuracy: 0.9844 - val_loss: 0.0839 - val_accuracy: 0.9779\n",
      "Epoch 97/100\n",
      "169/169 [==============================] - 0s 1ms/step - loss: 0.0347 - accuracy: 0.9859 - val_loss: 0.0865 - val_accuracy: 0.9770\n",
      "Epoch 98/100\n",
      "169/169 [==============================] - 0s 2ms/step - loss: 0.0288 - accuracy: 0.9821 - val_loss: 0.0827 - val_accuracy: 0.9783\n",
      "Epoch 99/100\n",
      "169/169 [==============================] - 0s 1ms/step - loss: 0.0370 - accuracy: 0.9827 - val_loss: 0.0875 - val_accuracy: 0.9766\n",
      "Epoch 100/100\n",
      "169/169 [==============================] - 0s 1ms/step - loss: 0.0372 - accuracy: 0.9821 - val_loss: 0.0872 - val_accuracy: 0.9766\n"
     ]
    }
   ],
   "source": [
    "model.trainable = False\n",
    "inputs = model.inputs\n",
    "x = model.get_layer(index=-3).output\n",
    "outputs = Dense(1, activation='sigmoid')(x)\n",
    "model3 = Model(inputs, outputs)\n",
    "model3.summary()\n",
    "model3.compile(optimizer='adam', loss='binary_crossentropy', metrics=['accuracy'])\n",
    "total = len(y_train['class_Shaken'])\n",
    "positive = (y_train['class_Shaken'] == 1).sum()\n",
    "negative = (y_train['class_Shaken'] == 0).sum()\n",
    "weights = {0:(1 / negative)*(total)/2.0 ,1:(1 / positive)*(total)/2.0}\n",
    "history = model3.fit(x_vgg_train, y_train['class_Shaken'], epochs=100, class_weight=weights, validation_data=(x_vgg_valid, y_valid['class_Shaken']))"
   ]
  },
  {
   "cell_type": "code",
   "execution_count": 156,
   "metadata": {},
   "outputs": [
    {
     "data": {
      "image/png": "[encoded data removed]",
      "text/plain": [
       "<Figure size 432x288 with 2 Axes>"
      ]
     },
     "metadata": {
      "needs_background": "light"
     },
     "output_type": "display_data"
    }
   ],
   "source": [
    "y_pred = model3.predict(x_vgg_valid)\n",
    "y_pred = (y_pred > 0.5).astype(int)\n",
    "conf_matrix = ConfusionMatrixDisplay(\n",
    "    confusion_matrix(y_valid['class_Shaken'], y_pred),\n",
    ")\n",
    "conf_matrix.plot(xticks_rotation=90);"
   ]
  },
  {
   "cell_type": "code",
   "execution_count": 157,
   "metadata": {},
   "outputs": [
    {
     "name": "stdout",
     "output_type": "stream",
     "text": [
      "              precision    recall  f1-score   support\n",
      "\n",
      "         0.0       1.00      0.98      0.99      2275\n",
      "         1.0       0.33      0.71      0.45        31\n",
      "\n",
      "    accuracy                           0.98      2306\n",
      "   macro avg       0.66      0.84      0.72      2306\n",
      "weighted avg       0.99      0.98      0.98      2306\n",
      "\n"
     ]
    }
   ],
   "source": [
    "print(classification_report(y_valid['class_Shaken'], y_pred))"
   ]
  },
  {
   "cell_type": "code",
   "execution_count": 161,
   "metadata": {},
   "outputs": [
    {
     "name": "stdout",
     "output_type": "stream",
     "text": [
      "0.977298830202056\n"
     ]
    },
    {
     "data": {
      "image/png": "[encoded data removed]",
      "text/plain": [
       "<Figure size 432x288 with 1 Axes>"
      ]
     },
     "metadata": {
      "needs_background": "light"
     },
     "output_type": "display_data"
    }
   ],
   "source": [
    "fpr, tpr, _ = roc_curve(y_valid['class_Shaken'], model3.predict(x_vgg_valid))\n",
    "roc_auc = auc(fpr, tpr)\n",
    "print(roc_auc)\n",
    "plt.figure()\n",
    "lw = 2\n",
    "plt.plot(fpr, tpr, color='darkorange',\n",
    "         lw=lw, label='ROC curve (area = %0.2f)' % roc_auc)\n",
    "plt.plot([0, 1], [0, 1], color='navy', lw=lw, linestyle='--')\n",
    "plt.xlim([0.0, 1.0])\n",
    "plt.ylim([0.0, 1.05])\n",
    "plt.xlabel('False Positive Rate')\n",
    "plt.ylabel('True Positive Rate')\n",
    "plt.title('Receiver operating characteristic example')\n",
    "plt.legend(loc=\"lower right\")\n",
    "plt.show()"
   ]
  },
  {
   "cell_type": "code",
   "execution_count": null,
   "metadata": {},
   "outputs": [],
   "source": []
  }
 ],
 "metadata": {
  "kernelspec": {
   "display_name": "Python 3",
   "language": "python",
   "name": "python3"
  },
  "language_info": {
   "codemirror_mode": {
    "name": "ipython",
    "version": 3
   },
   "file_extension": ".py",
   "mimetype": "text/x-python",
   "name": "python",
   "nbconvert_exporter": "python",
   "pygments_lexer": "ipython3",
   "version": "3.8.5"
  },
  "toc": {
   "base_numbering": 1,
   "nav_menu": {},
   "number_sections": true,
   "sideBar": true,
   "skip_h1_title": false,
   "title_cell": "Table of Contents",
   "title_sidebar": "Contents",
   "toc_cell": true,
   "toc_position": {},
   "toc_section_display": true,
   "toc_window_display": true
  }
 },
 "nbformat": 4,
 "nbformat_minor": 4
}
