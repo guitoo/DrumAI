{
 "cells": [
  {
   "cell_type": "markdown",
   "metadata": {
    "toc": true
   },
   "source": [
    "<h1>Table of Contents<span class=\"tocSkip\"></span></h1>\n",
    "<div class=\"toc\"><ul class=\"toc-item\"></ul></div>"
   ]
  },
  {
   "cell_type": "code",
   "execution_count": 122,
   "metadata": {},
   "outputs": [],
   "source": [
    "import tensorflow as tf\n",
    "import tensorflow_hub as hub\n",
    "from tensorflow.keras.models import Sequential, Model\n",
    "from tensorflow.keras.layers import Dense, Dropout, Input\n",
    "import pandas as pd\n",
    "import numpy as np\n",
    "from librosa.core import resample, load\n",
    "from librosa.util import fix_length\n",
    "from sklearn.model_selection import train_test_split\n",
    "from sklearn.utils import class_weight\n",
    "from sklearn.metrics import (\n",
    "    classification_report, confusion_matrix, accuracy_score, ConfusionMatrixDisplay\n",
    ")\n",
    "from matplotlib import pyplot as plt"
   ]
  },
  {
   "cell_type": "code",
   "execution_count": 39,
   "metadata": {},
   "outputs": [],
   "source": [
    "data = pd.read_csv('clean.csv')\n",
    "classes_cols = [\n",
    "    'class_Djembe',\n",
    "    'class_Timbales',\n",
    "    'class_Clave',\n",
    "    'class_Agogo',\n",
    "    'class_Bongo',\n",
    "    'class_Tambourin',\n",
    "    'class_Shaken',\n",
    "    'class_Conga',\n",
    "    'class_Cowbell',\n",
    "    'class_Clap',\n",
    "    'class_Cymbal',\n",
    "    'class_Tom',\n",
    "    'class_Hat',\n",
    "    'class_Kick',\n",
    "    'class_Snare'\n",
    "]\n",
    "nb_classes = len(classes_cols)\n",
    "data = data[data[classes_cols].sum(axis=1) == 1]"
   ]
  },
  {
   "cell_type": "code",
   "execution_count": 40,
   "metadata": {},
   "outputs": [
    {
     "data": {
      "text/plain": [
       "(7998, 45)"
      ]
     },
     "execution_count": 40,
     "metadata": {},
     "output_type": "execute_result"
    }
   ],
   "source": [
    "data.shape"
   ]
  },
  {
   "cell_type": "code",
   "execution_count": 41,
   "metadata": {},
   "outputs": [
    {
     "data": {
      "text/html": [
       "<div>\n",
       "<style scoped>\n",
       "    .dataframe tbody tr th:only-of-type {\n",
       "        vertical-align: middle;\n",
       "    }\n",
       "\n",
       "    .dataframe tbody tr th {\n",
       "        vertical-align: top;\n",
       "    }\n",
       "\n",
       "    .dataframe thead th {\n",
       "        text-align: right;\n",
       "    }\n",
       "</style>\n",
       "<table border=\"1\" class=\"dataframe\">\n",
       "  <thead>\n",
       "    <tr style=\"text-align: right;\">\n",
       "      <th></th>\n",
       "      <th>path</th>\n",
       "      <th>filename</th>\n",
       "      <th>dir_1</th>\n",
       "      <th>class_Hat</th>\n",
       "      <th>subclass_Hat_Open</th>\n",
       "      <th>subclass_Hat_Close</th>\n",
       "      <th>class_Bongo</th>\n",
       "      <th>class_Cymbal</th>\n",
       "      <th>subclass_Cymbal_Crash</th>\n",
       "      <th>subclass_Cymbal_Ride</th>\n",
       "      <th>...</th>\n",
       "      <th>subclass_Shaken_Maracas</th>\n",
       "      <th>class_Cajon</th>\n",
       "      <th>class_clave</th>\n",
       "      <th>dir_2</th>\n",
       "      <th>subclass_Snare_Off</th>\n",
       "      <th>subclass_Snare_On</th>\n",
       "      <th>subclass_Snare_Side</th>\n",
       "      <th>subclass_Snare_Flam</th>\n",
       "      <th>subclass_Snare_Brush</th>\n",
       "      <th>subclass_Cymbal_Trash</th>\n",
       "    </tr>\n",
       "  </thead>\n",
       "  <tbody>\n",
       "    <tr>\n",
       "      <th>0</th>\n",
       "      <td>./Samples/200-drum-machines/Yamaha RX-11/MaxV ...</td>\n",
       "      <td>MaxV - RX11 OPHAT2.wav</td>\n",
       "      <td>Yamaha RX-11</td>\n",
       "      <td>1.0</td>\n",
       "      <td>1.0</td>\n",
       "      <td>1.0</td>\n",
       "      <td>0.0</td>\n",
       "      <td>0.0</td>\n",
       "      <td>0.0</td>\n",
       "      <td>0.0</td>\n",
       "      <td>...</td>\n",
       "      <td>0.0</td>\n",
       "      <td>0.0</td>\n",
       "      <td>0.0</td>\n",
       "      <td>NaN</td>\n",
       "      <td>0.0</td>\n",
       "      <td>0.0</td>\n",
       "      <td>0.0</td>\n",
       "      <td>0.0</td>\n",
       "      <td>0.0</td>\n",
       "      <td>0.0</td>\n",
       "    </tr>\n",
       "    <tr>\n",
       "      <th>1</th>\n",
       "      <td>./Samples/200-drum-machines/Yamaha RX-11/MaxV ...</td>\n",
       "      <td>MaxV - RX11 BD3.wav</td>\n",
       "      <td>Yamaha RX-11</td>\n",
       "      <td>0.0</td>\n",
       "      <td>0.0</td>\n",
       "      <td>0.0</td>\n",
       "      <td>0.0</td>\n",
       "      <td>0.0</td>\n",
       "      <td>0.0</td>\n",
       "      <td>0.0</td>\n",
       "      <td>...</td>\n",
       "      <td>0.0</td>\n",
       "      <td>0.0</td>\n",
       "      <td>0.0</td>\n",
       "      <td>NaN</td>\n",
       "      <td>0.0</td>\n",
       "      <td>0.0</td>\n",
       "      <td>0.0</td>\n",
       "      <td>0.0</td>\n",
       "      <td>0.0</td>\n",
       "      <td>0.0</td>\n",
       "    </tr>\n",
       "    <tr>\n",
       "      <th>2</th>\n",
       "      <td>./Samples/200-drum-machines/Yamaha RX-11/MaxV ...</td>\n",
       "      <td>MaxV - RX11 BD2.wav</td>\n",
       "      <td>Yamaha RX-11</td>\n",
       "      <td>0.0</td>\n",
       "      <td>0.0</td>\n",
       "      <td>0.0</td>\n",
       "      <td>0.0</td>\n",
       "      <td>0.0</td>\n",
       "      <td>0.0</td>\n",
       "      <td>0.0</td>\n",
       "      <td>...</td>\n",
       "      <td>0.0</td>\n",
       "      <td>0.0</td>\n",
       "      <td>0.0</td>\n",
       "      <td>NaN</td>\n",
       "      <td>0.0</td>\n",
       "      <td>0.0</td>\n",
       "      <td>0.0</td>\n",
       "      <td>0.0</td>\n",
       "      <td>0.0</td>\n",
       "      <td>0.0</td>\n",
       "    </tr>\n",
       "    <tr>\n",
       "      <th>3</th>\n",
       "      <td>./Samples/200-drum-machines/Yamaha RX-11/MaxV ...</td>\n",
       "      <td>MaxV - RX11 CLHAT2.wav</td>\n",
       "      <td>Yamaha RX-11</td>\n",
       "      <td>1.0</td>\n",
       "      <td>0.0</td>\n",
       "      <td>1.0</td>\n",
       "      <td>0.0</td>\n",
       "      <td>0.0</td>\n",
       "      <td>0.0</td>\n",
       "      <td>0.0</td>\n",
       "      <td>...</td>\n",
       "      <td>0.0</td>\n",
       "      <td>0.0</td>\n",
       "      <td>0.0</td>\n",
       "      <td>NaN</td>\n",
       "      <td>0.0</td>\n",
       "      <td>0.0</td>\n",
       "      <td>0.0</td>\n",
       "      <td>0.0</td>\n",
       "      <td>0.0</td>\n",
       "      <td>0.0</td>\n",
       "    </tr>\n",
       "    <tr>\n",
       "      <th>4</th>\n",
       "      <td>./Samples/200-drum-machines/Yamaha RX-11/MaxV ...</td>\n",
       "      <td>MaxV - RX11 RIDE.wav</td>\n",
       "      <td>Yamaha RX-11</td>\n",
       "      <td>0.0</td>\n",
       "      <td>0.0</td>\n",
       "      <td>0.0</td>\n",
       "      <td>0.0</td>\n",
       "      <td>1.0</td>\n",
       "      <td>0.0</td>\n",
       "      <td>1.0</td>\n",
       "      <td>...</td>\n",
       "      <td>0.0</td>\n",
       "      <td>0.0</td>\n",
       "      <td>0.0</td>\n",
       "      <td>NaN</td>\n",
       "      <td>0.0</td>\n",
       "      <td>0.0</td>\n",
       "      <td>0.0</td>\n",
       "      <td>0.0</td>\n",
       "      <td>0.0</td>\n",
       "      <td>0.0</td>\n",
       "    </tr>\n",
       "  </tbody>\n",
       "</table>\n",
       "<p>5 rows × 45 columns</p>\n",
       "</div>"
      ],
      "text/plain": [
       "                                                path                filename  \\\n",
       "0  ./Samples/200-drum-machines/Yamaha RX-11/MaxV ...  MaxV - RX11 OPHAT2.wav   \n",
       "1  ./Samples/200-drum-machines/Yamaha RX-11/MaxV ...     MaxV - RX11 BD3.wav   \n",
       "2  ./Samples/200-drum-machines/Yamaha RX-11/MaxV ...     MaxV - RX11 BD2.wav   \n",
       "3  ./Samples/200-drum-machines/Yamaha RX-11/MaxV ...  MaxV - RX11 CLHAT2.wav   \n",
       "4  ./Samples/200-drum-machines/Yamaha RX-11/MaxV ...    MaxV - RX11 RIDE.wav   \n",
       "\n",
       "          dir_1  class_Hat  subclass_Hat_Open  subclass_Hat_Close  \\\n",
       "0  Yamaha RX-11        1.0                1.0                 1.0   \n",
       "1  Yamaha RX-11        0.0                0.0                 0.0   \n",
       "2  Yamaha RX-11        0.0                0.0                 0.0   \n",
       "3  Yamaha RX-11        1.0                0.0                 1.0   \n",
       "4  Yamaha RX-11        0.0                0.0                 0.0   \n",
       "\n",
       "   class_Bongo  class_Cymbal  subclass_Cymbal_Crash  subclass_Cymbal_Ride  \\\n",
       "0          0.0           0.0                    0.0                   0.0   \n",
       "1          0.0           0.0                    0.0                   0.0   \n",
       "2          0.0           0.0                    0.0                   0.0   \n",
       "3          0.0           0.0                    0.0                   0.0   \n",
       "4          0.0           1.0                    0.0                   1.0   \n",
       "\n",
       "   ...  subclass_Shaken_Maracas  class_Cajon  class_clave  dir_2  \\\n",
       "0  ...                      0.0          0.0          0.0    NaN   \n",
       "1  ...                      0.0          0.0          0.0    NaN   \n",
       "2  ...                      0.0          0.0          0.0    NaN   \n",
       "3  ...                      0.0          0.0          0.0    NaN   \n",
       "4  ...                      0.0          0.0          0.0    NaN   \n",
       "\n",
       "   subclass_Snare_Off  subclass_Snare_On  subclass_Snare_Side  \\\n",
       "0                 0.0                0.0                  0.0   \n",
       "1                 0.0                0.0                  0.0   \n",
       "2                 0.0                0.0                  0.0   \n",
       "3                 0.0                0.0                  0.0   \n",
       "4                 0.0                0.0                  0.0   \n",
       "\n",
       "   subclass_Snare_Flam  subclass_Snare_Brush  subclass_Cymbal_Trash  \n",
       "0                  0.0                   0.0                    0.0  \n",
       "1                  0.0                   0.0                    0.0  \n",
       "2                  0.0                   0.0                    0.0  \n",
       "3                  0.0                   0.0                    0.0  \n",
       "4                  0.0                   0.0                    0.0  \n",
       "\n",
       "[5 rows x 45 columns]"
      ]
     },
     "execution_count": 41,
     "metadata": {},
     "output_type": "execute_result"
    }
   ],
   "source": [
    "data.head()"
   ]
  },
  {
   "cell_type": "code",
   "execution_count": 42,
   "metadata": {},
   "outputs": [],
   "source": [
    "data = data.loc[data['path'] != './Samples/200-drum-machines/Roland JV 1080/MaxV - Guiro.wav']"
   ]
  },
  {
   "cell_type": "code",
   "execution_count": 43,
   "metadata": {},
   "outputs": [],
   "source": [
    "vggish = hub.load('https://tfhub.dev/google/vggish/1')\n",
    "yamnet = hub.load('https://tfhub.dev/google/yamnet/1')"
   ]
  },
  {
   "cell_type": "code",
   "execution_count": 44,
   "metadata": {},
   "outputs": [],
   "source": [
    "SR=16000\n",
    "classes = data[classes_cols]\n",
    "files = data['path']\n",
    "vgg_embeddings = []\n",
    "yam_embeddings = []\n",
    "for path in files:\n",
    "    sound, _ = load(path, sr=SR)\n",
    "    sound = fix_length(sound, 1*SR)\n",
    "    vgg_embeddings.append(vggish(sound))\n",
    "    _, yam_emb, _ = yamnet(sound)\n",
    "    yam_embeddings.append(yam_emb)\n",
    "\n",
    "vgg_embeddings = np.stack(vgg_embeddings)\n",
    "yam_embeddings = np.stack(yam_embeddings)"
   ]
  },
  {
   "cell_type": "code",
   "execution_count": 45,
   "metadata": {},
   "outputs": [
    {
     "data": {
      "text/plain": [
       "((7998, 1, 128), (7998, 2, 1024))"
      ]
     },
     "execution_count": 45,
     "metadata": {},
     "output_type": "execute_result"
    }
   ],
   "source": [
    "vgg_embeddings.shape, yam_embeddings.shape"
   ]
  },
  {
   "cell_type": "code",
   "execution_count": 46,
   "metadata": {},
   "outputs": [],
   "source": [
    "vgg_embeddings = vgg_embeddings.reshape(-1, 128)\n",
    "yam_embeddings = yam_embeddings.reshape(-1, 2*1024)"
   ]
  },
  {
   "cell_type": "code",
   "execution_count": 94,
   "metadata": {},
   "outputs": [
    {
     "data": {
      "text/plain": [
       "array([12, 13, 13, ..., 11, 14, 11])"
      ]
     },
     "execution_count": 94,
     "metadata": {},
     "output_type": "execute_result"
    }
   ],
   "source": []
  },
  {
   "cell_type": "code",
   "execution_count": 113,
   "metadata": {},
   "outputs": [],
   "source": [
    "# x_train, x_valid, y_train, y_valid = train_test_split(sounds, classes, test_size=0.3, stratify=classes)\n",
    "x_vgg_train, x_vgg_valid, x_yam_train, x_yam_valid, y_train, y_valid = train_test_split(vgg_embeddings, yam_embeddings, classes, test_size=0.3, stratify=classes)"
   ]
  },
  {
   "cell_type": "code",
   "execution_count": 114,
   "metadata": {},
   "outputs": [
    {
     "data": {
      "text/plain": [
       "(5598, 128)"
      ]
     },
     "execution_count": 114,
     "metadata": {},
     "output_type": "execute_result"
    }
   ],
   "source": [
    "x_vgg_train.shape"
   ]
  },
  {
   "cell_type": "code",
   "execution_count": 197,
   "metadata": {},
   "outputs": [
    {
     "name": "stdout",
     "output_type": "stream",
     "text": [
      "Model: \"functional_35\"\n",
      "_________________________________________________________________\n",
      "Layer (type)                 Output Shape              Param #   \n",
      "=================================================================\n",
      "input_20 (InputLayer)        [(None, 128)]             0         \n",
      "_________________________________________________________________\n",
      "dense_31 (Dense)             (None, 100)               12900     \n",
      "_________________________________________________________________\n",
      "dropout_8 (Dropout)          (None, 100)               0         \n",
      "_________________________________________________________________\n",
      "dense_32 (Dense)             (None, 50)                5050      \n",
      "_________________________________________________________________\n",
      "dropout_9 (Dropout)          (None, 50)                0         \n",
      "_________________________________________________________________\n",
      "dense_33 (Dense)             (None, 15)                765       \n",
      "=================================================================\n",
      "Total params: 18,715\n",
      "Trainable params: 18,715\n",
      "Non-trainable params: 0\n",
      "_________________________________________________________________\n"
     ]
    }
   ],
   "source": [
    "inputs = Input(shape=(128))\n",
    "x = Dense(100, activation='relu')(inputs)\n",
    "x = Dropout(0.3)(x)\n",
    "x = Dense(50, activation='relu')(x)\n",
    "x = Dropout(0.3)(x)\n",
    "outputs = Dense(nb_classes, activation='softmax')(x)\n",
    "\n",
    "model = Model(inputs, outputs)\n",
    "model.summary()"
   ]
  },
  {
   "cell_type": "code",
   "execution_count": 198,
   "metadata": {},
   "outputs": [],
   "source": [
    "model.compile(optimizer='adam', loss='categorical_crossentropy', metrics=['accuracy'])"
   ]
  },
  {
   "cell_type": "code",
   "execution_count": 199,
   "metadata": {},
   "outputs": [
    {
     "name": "stdout",
     "output_type": "stream",
     "text": [
      "Epoch 1/100\n",
      "175/175 [==============================] - 0s 2ms/step - loss: 1.7492 - accuracy: 0.3837 - val_loss: 1.1846 - val_accuracy: 0.6442\n",
      "Epoch 2/100\n",
      "175/175 [==============================] - 0s 1ms/step - loss: 1.1717 - accuracy: 0.6031 - val_loss: 0.9231 - val_accuracy: 0.7121\n",
      "Epoch 3/100\n",
      "175/175 [==============================] - 0s 1ms/step - loss: 0.9915 - accuracy: 0.6758 - val_loss: 0.8107 - val_accuracy: 0.7433\n",
      "Epoch 4/100\n",
      "175/175 [==============================] - 0s 1ms/step - loss: 0.9076 - accuracy: 0.6954 - val_loss: 0.7601 - val_accuracy: 0.7442\n",
      "Epoch 5/100\n",
      "175/175 [==============================] - 0s 1ms/step - loss: 0.8588 - accuracy: 0.7106 - val_loss: 0.7389 - val_accuracy: 0.7496\n",
      "Epoch 6/100\n",
      "175/175 [==============================] - 0s 1ms/step - loss: 0.8189 - accuracy: 0.7281 - val_loss: 0.7049 - val_accuracy: 0.7667\n",
      "Epoch 7/100\n",
      "175/175 [==============================] - 0s 1ms/step - loss: 0.7885 - accuracy: 0.7362 - val_loss: 0.6974 - val_accuracy: 0.7696\n",
      "Epoch 8/100\n",
      "175/175 [==============================] - 0s 1ms/step - loss: 0.7658 - accuracy: 0.7421 - val_loss: 0.6829 - val_accuracy: 0.7717\n",
      "Epoch 9/100\n",
      "175/175 [==============================] - 0s 1ms/step - loss: 0.7409 - accuracy: 0.7513 - val_loss: 0.6567 - val_accuracy: 0.7804\n",
      "Epoch 10/100\n",
      "175/175 [==============================] - 0s 1ms/step - loss: 0.7274 - accuracy: 0.7581 - val_loss: 0.6487 - val_accuracy: 0.7775\n",
      "Epoch 11/100\n",
      "175/175 [==============================] - 0s 1ms/step - loss: 0.7060 - accuracy: 0.7592 - val_loss: 0.6371 - val_accuracy: 0.7867\n",
      "Epoch 12/100\n",
      "175/175 [==============================] - 0s 1ms/step - loss: 0.6885 - accuracy: 0.7705 - val_loss: 0.6442 - val_accuracy: 0.7754\n",
      "Epoch 13/100\n",
      "175/175 [==============================] - 0s 1ms/step - loss: 0.6801 - accuracy: 0.7712 - val_loss: 0.6122 - val_accuracy: 0.7896\n",
      "Epoch 14/100\n",
      "175/175 [==============================] - 0s 1ms/step - loss: 0.6632 - accuracy: 0.7758 - val_loss: 0.6100 - val_accuracy: 0.7904\n",
      "Epoch 15/100\n",
      "175/175 [==============================] - 0s 1ms/step - loss: 0.6509 - accuracy: 0.7788 - val_loss: 0.6037 - val_accuracy: 0.7954\n",
      "Epoch 16/100\n",
      "175/175 [==============================] - 0s 1ms/step - loss: 0.6452 - accuracy: 0.7867 - val_loss: 0.5988 - val_accuracy: 0.7937\n",
      "Epoch 17/100\n",
      "175/175 [==============================] - 0s 1ms/step - loss: 0.6389 - accuracy: 0.7797 - val_loss: 0.5980 - val_accuracy: 0.7979\n",
      "Epoch 18/100\n",
      "175/175 [==============================] - 0s 1ms/step - loss: 0.6231 - accuracy: 0.7905 - val_loss: 0.6027 - val_accuracy: 0.7954\n",
      "Epoch 19/100\n",
      "175/175 [==============================] - 0s 1ms/step - loss: 0.6185 - accuracy: 0.7940 - val_loss: 0.5749 - val_accuracy: 0.8067\n",
      "Epoch 20/100\n",
      "175/175 [==============================] - 0s 1ms/step - loss: 0.6093 - accuracy: 0.7939 - val_loss: 0.5789 - val_accuracy: 0.8071\n",
      "Epoch 21/100\n",
      "175/175 [==============================] - 0s 1ms/step - loss: 0.6006 - accuracy: 0.8006 - val_loss: 0.5782 - val_accuracy: 0.8075\n",
      "Epoch 22/100\n",
      "175/175 [==============================] - 0s 1ms/step - loss: 0.5989 - accuracy: 0.7960 - val_loss: 0.5663 - val_accuracy: 0.8133\n",
      "Epoch 23/100\n",
      "175/175 [==============================] - 0s 1ms/step - loss: 0.5799 - accuracy: 0.8071 - val_loss: 0.5686 - val_accuracy: 0.8125\n",
      "Epoch 24/100\n",
      "175/175 [==============================] - 0s 1ms/step - loss: 0.5682 - accuracy: 0.8110 - val_loss: 0.5588 - val_accuracy: 0.8154\n",
      "Epoch 25/100\n",
      "175/175 [==============================] - 0s 1ms/step - loss: 0.5694 - accuracy: 0.8121 - val_loss: 0.5520 - val_accuracy: 0.8200\n",
      "Epoch 26/100\n",
      "175/175 [==============================] - 0s 1ms/step - loss: 0.5606 - accuracy: 0.8064 - val_loss: 0.5484 - val_accuracy: 0.8154\n",
      "Epoch 27/100\n",
      "175/175 [==============================] - 0s 1ms/step - loss: 0.5628 - accuracy: 0.8092 - val_loss: 0.5507 - val_accuracy: 0.8138\n",
      "Epoch 28/100\n",
      "175/175 [==============================] - 0s 1ms/step - loss: 0.5431 - accuracy: 0.8199 - val_loss: 0.5504 - val_accuracy: 0.8133\n",
      "Epoch 29/100\n",
      "175/175 [==============================] - 0s 1ms/step - loss: 0.5496 - accuracy: 0.8110 - val_loss: 0.5495 - val_accuracy: 0.8167\n",
      "Epoch 30/100\n",
      "175/175 [==============================] - 0s 1ms/step - loss: 0.5419 - accuracy: 0.8146 - val_loss: 0.5428 - val_accuracy: 0.8221\n",
      "Epoch 31/100\n",
      "175/175 [==============================] - 0s 1ms/step - loss: 0.5413 - accuracy: 0.8130 - val_loss: 0.5412 - val_accuracy: 0.8192\n",
      "Epoch 32/100\n",
      "175/175 [==============================] - 0s 1ms/step - loss: 0.5253 - accuracy: 0.8214 - val_loss: 0.5295 - val_accuracy: 0.8283\n",
      "Epoch 33/100\n",
      "175/175 [==============================] - 0s 1ms/step - loss: 0.5231 - accuracy: 0.8244 - val_loss: 0.5399 - val_accuracy: 0.8229\n",
      "Epoch 34/100\n",
      "175/175 [==============================] - 0s 1ms/step - loss: 0.5253 - accuracy: 0.8212 - val_loss: 0.5389 - val_accuracy: 0.8208\n",
      "Epoch 35/100\n",
      "175/175 [==============================] - 0s 1ms/step - loss: 0.5030 - accuracy: 0.8273 - val_loss: 0.5353 - val_accuracy: 0.8233\n",
      "Epoch 36/100\n",
      "175/175 [==============================] - 0s 1ms/step - loss: 0.5062 - accuracy: 0.8330 - val_loss: 0.5260 - val_accuracy: 0.8308\n",
      "Epoch 37/100\n",
      "175/175 [==============================] - 0s 1ms/step - loss: 0.5056 - accuracy: 0.8289 - val_loss: 0.5274 - val_accuracy: 0.8325\n",
      "Epoch 38/100\n",
      "175/175 [==============================] - 0s 1ms/step - loss: 0.5005 - accuracy: 0.8289 - val_loss: 0.5206 - val_accuracy: 0.8279\n",
      "Epoch 39/100\n",
      "175/175 [==============================] - 0s 1ms/step - loss: 0.4938 - accuracy: 0.8290 - val_loss: 0.5148 - val_accuracy: 0.8321\n",
      "Epoch 40/100\n",
      "175/175 [==============================] - 0s 1ms/step - loss: 0.4843 - accuracy: 0.8339 - val_loss: 0.5145 - val_accuracy: 0.8413\n",
      "Epoch 41/100\n",
      "175/175 [==============================] - 0s 1ms/step - loss: 0.4826 - accuracy: 0.8374 - val_loss: 0.5271 - val_accuracy: 0.8321\n",
      "Epoch 42/100\n",
      "175/175 [==============================] - 0s 1ms/step - loss: 0.4751 - accuracy: 0.8399 - val_loss: 0.5131 - val_accuracy: 0.8379\n",
      "Epoch 43/100\n",
      "175/175 [==============================] - 0s 1ms/step - loss: 0.4753 - accuracy: 0.8405 - val_loss: 0.5223 - val_accuracy: 0.8358\n",
      "Epoch 44/100\n",
      "175/175 [==============================] - 0s 1ms/step - loss: 0.4748 - accuracy: 0.8417 - val_loss: 0.5177 - val_accuracy: 0.8379\n",
      "Epoch 45/100\n",
      "175/175 [==============================] - 0s 1ms/step - loss: 0.4749 - accuracy: 0.8390 - val_loss: 0.5127 - val_accuracy: 0.8363\n",
      "Epoch 46/100\n",
      "175/175 [==============================] - 0s 1ms/step - loss: 0.4584 - accuracy: 0.8421 - val_loss: 0.5152 - val_accuracy: 0.8350\n",
      "Epoch 47/100\n",
      "175/175 [==============================] - 0s 1ms/step - loss: 0.4661 - accuracy: 0.8412 - val_loss: 0.5192 - val_accuracy: 0.8329\n",
      "Epoch 48/100\n",
      "175/175 [==============================] - 0s 1ms/step - loss: 0.4576 - accuracy: 0.8412 - val_loss: 0.5085 - val_accuracy: 0.8429\n",
      "Epoch 49/100\n",
      "175/175 [==============================] - 0s 1ms/step - loss: 0.4484 - accuracy: 0.8528 - val_loss: 0.5315 - val_accuracy: 0.8338\n",
      "Epoch 50/100\n",
      "175/175 [==============================] - 0s 1ms/step - loss: 0.4432 - accuracy: 0.8507 - val_loss: 0.5220 - val_accuracy: 0.8333\n",
      "Epoch 51/100\n",
      "175/175 [==============================] - 0s 1ms/step - loss: 0.4532 - accuracy: 0.8499 - val_loss: 0.5192 - val_accuracy: 0.8367\n",
      "Epoch 52/100\n",
      "175/175 [==============================] - 0s 1ms/step - loss: 0.4333 - accuracy: 0.8548 - val_loss: 0.4946 - val_accuracy: 0.8500\n",
      "Epoch 53/100\n",
      "175/175 [==============================] - 0s 1ms/step - loss: 0.4427 - accuracy: 0.8473 - val_loss: 0.5196 - val_accuracy: 0.8408\n",
      "Epoch 54/100\n",
      "175/175 [==============================] - 0s 1ms/step - loss: 0.4295 - accuracy: 0.8523 - val_loss: 0.5088 - val_accuracy: 0.8438\n",
      "Epoch 55/100\n",
      "175/175 [==============================] - 0s 1ms/step - loss: 0.4259 - accuracy: 0.8616 - val_loss: 0.5025 - val_accuracy: 0.8462\n",
      "Epoch 56/100\n",
      "175/175 [==============================] - 0s 1ms/step - loss: 0.4363 - accuracy: 0.8596 - val_loss: 0.5083 - val_accuracy: 0.8479\n",
      "Epoch 57/100\n",
      "175/175 [==============================] - 0s 1ms/step - loss: 0.4052 - accuracy: 0.8630 - val_loss: 0.5119 - val_accuracy: 0.8462\n"
     ]
    },
    {
     "name": "stdout",
     "output_type": "stream",
     "text": [
      "Epoch 58/100\n",
      "175/175 [==============================] - 0s 1ms/step - loss: 0.4191 - accuracy: 0.8600 - val_loss: 0.4941 - val_accuracy: 0.8487\n",
      "Epoch 59/100\n",
      "175/175 [==============================] - 0s 1ms/step - loss: 0.4193 - accuracy: 0.8574 - val_loss: 0.4973 - val_accuracy: 0.8462\n",
      "Epoch 60/100\n",
      "175/175 [==============================] - 0s 1ms/step - loss: 0.4154 - accuracy: 0.8608 - val_loss: 0.4963 - val_accuracy: 0.8500\n",
      "Epoch 61/100\n",
      "175/175 [==============================] - 0s 1ms/step - loss: 0.4155 - accuracy: 0.8587 - val_loss: 0.4973 - val_accuracy: 0.8521\n",
      "Epoch 62/100\n",
      "175/175 [==============================] - 0s 1ms/step - loss: 0.4149 - accuracy: 0.8635 - val_loss: 0.4947 - val_accuracy: 0.8533\n",
      "Epoch 63/100\n",
      "175/175 [==============================] - 0s 1ms/step - loss: 0.3986 - accuracy: 0.8637 - val_loss: 0.4931 - val_accuracy: 0.8471\n",
      "Epoch 64/100\n",
      "175/175 [==============================] - 0s 1ms/step - loss: 0.4065 - accuracy: 0.8641 - val_loss: 0.4971 - val_accuracy: 0.8504\n",
      "Epoch 65/100\n",
      "175/175 [==============================] - 0s 1ms/step - loss: 0.3891 - accuracy: 0.8678 - val_loss: 0.4954 - val_accuracy: 0.8500\n",
      "Epoch 66/100\n",
      "175/175 [==============================] - 0s 1ms/step - loss: 0.4059 - accuracy: 0.8589 - val_loss: 0.4832 - val_accuracy: 0.8575\n",
      "Epoch 67/100\n",
      "175/175 [==============================] - 0s 1ms/step - loss: 0.4012 - accuracy: 0.8625 - val_loss: 0.4983 - val_accuracy: 0.8492\n",
      "Epoch 68/100\n",
      "175/175 [==============================] - 0s 1ms/step - loss: 0.3950 - accuracy: 0.8655 - val_loss: 0.4863 - val_accuracy: 0.8562\n",
      "Epoch 69/100\n",
      "175/175 [==============================] - 0s 1ms/step - loss: 0.3888 - accuracy: 0.8667 - val_loss: 0.5005 - val_accuracy: 0.8542\n",
      "Epoch 70/100\n",
      "175/175 [==============================] - 0s 1ms/step - loss: 0.3875 - accuracy: 0.8725 - val_loss: 0.4954 - val_accuracy: 0.8567\n",
      "Epoch 71/100\n",
      "175/175 [==============================] - 0s 1ms/step - loss: 0.3875 - accuracy: 0.8662 - val_loss: 0.4834 - val_accuracy: 0.8521\n",
      "Epoch 72/100\n",
      "175/175 [==============================] - 0s 1ms/step - loss: 0.3777 - accuracy: 0.8719 - val_loss: 0.4960 - val_accuracy: 0.8542\n",
      "Epoch 73/100\n",
      "175/175 [==============================] - 0s 1ms/step - loss: 0.3781 - accuracy: 0.8682 - val_loss: 0.4998 - val_accuracy: 0.8575\n",
      "Epoch 74/100\n",
      "175/175 [==============================] - 0s 1ms/step - loss: 0.3895 - accuracy: 0.8664 - val_loss: 0.4965 - val_accuracy: 0.8600\n",
      "Epoch 75/100\n",
      "175/175 [==============================] - 0s 1ms/step - loss: 0.3774 - accuracy: 0.8733 - val_loss: 0.4837 - val_accuracy: 0.8592\n",
      "Epoch 76/100\n",
      "175/175 [==============================] - 0s 1ms/step - loss: 0.3649 - accuracy: 0.8758 - val_loss: 0.4886 - val_accuracy: 0.8604\n",
      "Epoch 77/100\n",
      "175/175 [==============================] - 0s 1ms/step - loss: 0.3572 - accuracy: 0.8837 - val_loss: 0.5079 - val_accuracy: 0.8467\n",
      "Epoch 78/100\n",
      "175/175 [==============================] - 0s 1ms/step - loss: 0.3749 - accuracy: 0.8717 - val_loss: 0.4971 - val_accuracy: 0.8542\n",
      "Epoch 79/100\n",
      "175/175 [==============================] - 0s 1ms/step - loss: 0.3721 - accuracy: 0.8735 - val_loss: 0.4974 - val_accuracy: 0.8537\n",
      "Epoch 80/100\n",
      "175/175 [==============================] - 0s 1ms/step - loss: 0.3634 - accuracy: 0.8771 - val_loss: 0.4995 - val_accuracy: 0.8600\n",
      "Epoch 81/100\n",
      "175/175 [==============================] - 0s 1ms/step - loss: 0.3673 - accuracy: 0.8730 - val_loss: 0.4891 - val_accuracy: 0.8629\n",
      "Epoch 82/100\n",
      "175/175 [==============================] - 0s 1ms/step - loss: 0.3570 - accuracy: 0.8782 - val_loss: 0.5070 - val_accuracy: 0.8592\n",
      "Epoch 83/100\n",
      "175/175 [==============================] - 0s 1ms/step - loss: 0.3452 - accuracy: 0.8776 - val_loss: 0.5289 - val_accuracy: 0.8542\n",
      "Epoch 84/100\n",
      "175/175 [==============================] - 0s 1ms/step - loss: 0.3551 - accuracy: 0.8817 - val_loss: 0.5020 - val_accuracy: 0.8621\n",
      "Epoch 85/100\n",
      "175/175 [==============================] - 0s 1ms/step - loss: 0.3587 - accuracy: 0.8769 - val_loss: 0.4857 - val_accuracy: 0.8575\n",
      "Epoch 86/100\n",
      "175/175 [==============================] - 0s 1ms/step - loss: 0.3535 - accuracy: 0.8739 - val_loss: 0.4994 - val_accuracy: 0.8579\n",
      "Epoch 87/100\n",
      "175/175 [==============================] - 0s 1ms/step - loss: 0.3525 - accuracy: 0.8764 - val_loss: 0.4869 - val_accuracy: 0.8637\n",
      "Epoch 88/100\n",
      "175/175 [==============================] - 0s 1ms/step - loss: 0.3488 - accuracy: 0.8812 - val_loss: 0.4905 - val_accuracy: 0.8596\n",
      "Epoch 89/100\n",
      "175/175 [==============================] - 0s 1ms/step - loss: 0.3361 - accuracy: 0.8889 - val_loss: 0.4912 - val_accuracy: 0.8675\n",
      "Epoch 90/100\n",
      "175/175 [==============================] - 0s 1ms/step - loss: 0.3405 - accuracy: 0.8853 - val_loss: 0.4971 - val_accuracy: 0.8592\n",
      "Epoch 91/100\n",
      "175/175 [==============================] - 0s 1ms/step - loss: 0.3372 - accuracy: 0.8862 - val_loss: 0.4953 - val_accuracy: 0.8696\n",
      "Epoch 92/100\n",
      "175/175 [==============================] - 0s 1ms/step - loss: 0.3277 - accuracy: 0.8885 - val_loss: 0.5008 - val_accuracy: 0.8650\n",
      "Epoch 93/100\n",
      "175/175 [==============================] - 0s 1ms/step - loss: 0.3416 - accuracy: 0.8835 - val_loss: 0.4907 - val_accuracy: 0.8654\n",
      "Epoch 94/100\n",
      "175/175 [==============================] - 0s 1ms/step - loss: 0.3271 - accuracy: 0.8921 - val_loss: 0.4959 - val_accuracy: 0.8646\n",
      "Epoch 95/100\n",
      "175/175 [==============================] - 0s 1ms/step - loss: 0.3397 - accuracy: 0.8826 - val_loss: 0.4761 - val_accuracy: 0.8700\n",
      "Epoch 96/100\n",
      "175/175 [==============================] - 0s 1ms/step - loss: 0.3500 - accuracy: 0.8796 - val_loss: 0.4917 - val_accuracy: 0.8629\n",
      "Epoch 97/100\n",
      "175/175 [==============================] - 0s 1ms/step - loss: 0.3191 - accuracy: 0.8926 - val_loss: 0.5112 - val_accuracy: 0.8646\n",
      "Epoch 98/100\n",
      "175/175 [==============================] - 0s 1ms/step - loss: 0.3195 - accuracy: 0.8971 - val_loss: 0.5084 - val_accuracy: 0.8629\n",
      "Epoch 99/100\n",
      "175/175 [==============================] - 0s 1ms/step - loss: 0.3223 - accuracy: 0.8912 - val_loss: 0.5116 - val_accuracy: 0.8604\n",
      "Epoch 100/100\n",
      "175/175 [==============================] - 0s 1ms/step - loss: 0.3263 - accuracy: 0.8825 - val_loss: 0.5147 - val_accuracy: 0.8662\n"
     ]
    }
   ],
   "source": [
    "class_weights = class_weight.compute_class_weight(\n",
    "    class_weight='balanced',\n",
    "    classes=classes_cols,\n",
    "    y=y_train.idxmax(axis=1))\n",
    "history = model.fit(x_vgg_train, y_train, epochs=100, validation_data=(x_vgg_valid, y_valid))"
   ]
  },
  {
   "cell_type": "code",
   "execution_count": 200,
   "metadata": {},
   "outputs": [
    {
     "data": {
      "image/png": "[encoded data removed]",
      "text/plain": [
       "<Figure size 432x288 with 1 Axes>"
      ]
     },
     "metadata": {
      "needs_background": "light"
     },
     "output_type": "display_data"
    }
   ],
   "source": [
    "loss = history.history['loss']\n",
    "epochs = range(1, len(loss) + 1)\n",
    "val_loss = history.history['val_loss']\n",
    "plt.plot(epochs, loss, '.--', label='Training loss')\n",
    "plt.plot(epochs, val_loss, 'o-', label='Validation loss')\n",
    "plt.show()"
   ]
  },
  {
   "cell_type": "code",
   "execution_count": 201,
   "metadata": {},
   "outputs": [],
   "source": [
    "y_pred = model.predict(x_vgg_valid)\n",
    "y_pred = np.argmax(y_pred,axis=1).astype(int)\n",
    "y_valid_index = np.argmax(y_valid.values,axis=1).astype(int)"
   ]
  },
  {
   "cell_type": "code",
   "execution_count": 202,
   "metadata": {},
   "outputs": [
    {
     "data": {
      "image/png": "[encoded data removed]",
      "text/plain": [
       "<Figure size 432x288 with 2 Axes>"
      ]
     },
     "metadata": {
      "needs_background": "light"
     },
     "output_type": "display_data"
    }
   ],
   "source": [
    "conf_matrix = ConfusionMatrixDisplay(\n",
    "    confusion_matrix(y_pred, y_valid_index),\n",
    "    display_labels=classes_cols,\n",
    ")\n",
    "conf_matrix.plot(xticks_rotation=90);"
   ]
  },
  {
   "cell_type": "code",
   "execution_count": 203,
   "metadata": {},
   "outputs": [
    {
     "name": "stdout",
     "output_type": "stream",
     "text": [
      "                 precision    recall  f1-score   support\n",
      "\n",
      "   class_Djembe       0.00      0.00      0.00         2\n",
      " class_Timbales       0.40      0.67      0.50         9\n",
      "    class_Clave       0.62      0.83      0.71        12\n",
      "    class_Agogo       0.94      0.80      0.86        20\n",
      "    class_Bongo       0.33      0.46      0.39        13\n",
      "class_Tambourin       0.55      0.57      0.56        21\n",
      "   class_Shaken       0.48      0.71      0.58        21\n",
      "    class_Conga       0.36      0.65      0.46        20\n",
      "  class_Cowbell       0.91      0.88      0.89        48\n",
      "     class_Clap       0.89      0.91      0.90        90\n",
      "   class_Cymbal       0.94      0.85      0.89       239\n",
      "      class_Tom       0.88      0.82      0.85       410\n",
      "      class_Hat       0.85      0.89      0.87       369\n",
      "     class_Kick       0.95      0.92      0.93       484\n",
      "    class_Snare       0.87      0.88      0.88       642\n",
      "\n",
      "       accuracy                           0.87      2400\n",
      "      macro avg       0.67      0.72      0.69      2400\n",
      "   weighted avg       0.88      0.87      0.87      2400\n",
      "\n"
     ]
    }
   ],
   "source": [
    "print(classification_report(y_pred, y_valid_index, target_names=classes_cols))"
   ]
  },
  {
   "cell_type": "code",
   "execution_count": 204,
   "metadata": {},
   "outputs": [
    {
     "name": "stdout",
     "output_type": "stream",
     "text": [
      "Model: \"functional_37\"\n",
      "_________________________________________________________________\n",
      "Layer (type)                 Output Shape              Param #   \n",
      "=================================================================\n",
      "input_21 (InputLayer)        [(None, 2048)]            0         \n",
      "_________________________________________________________________\n",
      "dropout_12 (Dropout)         (None, 2048)              0         \n",
      "_________________________________________________________________\n",
      "dense_36 (Dense)             (None, 15)                30735     \n",
      "=================================================================\n",
      "Total params: 30,735\n",
      "Trainable params: 30,735\n",
      "Non-trainable params: 0\n",
      "_________________________________________________________________\n"
     ]
    }
   ],
   "source": [
    "inputs = Input(shape=(2048))\n",
    "x = Dropout(0.5)(inputs)\n",
    "x = Dense(100, activation='relu')(x)\n",
    "x = Dropout(0.3)(inputs)\n",
    "x = Dense(50, activation='relu')(x)\n",
    "x = Dropout(0.3)(inputs)\n",
    "outputs = Dense(nb_classes, activation='softmax')(x)\n",
    "\n",
    "model2 = Model(inputs, outputs)\n",
    "model2.summary()"
   ]
  },
  {
   "cell_type": "code",
   "execution_count": 205,
   "metadata": {},
   "outputs": [],
   "source": [
    "model2.compile(optimizer='adam', loss='categorical_crossentropy', metrics=['accuracy'])"
   ]
  },
  {
   "cell_type": "code",
   "execution_count": 206,
   "metadata": {},
   "outputs": [
    {
     "name": "stdout",
     "output_type": "stream",
     "text": [
      "Epoch 1/100\n",
      "175/175 [==============================] - 0s 2ms/step - loss: 2.1084 - accuracy: 0.3783 - val_loss: 1.4879 - val_accuracy: 0.5733\n",
      "Epoch 2/100\n",
      "175/175 [==============================] - 0s 2ms/step - loss: 1.5281 - accuracy: 0.4971 - val_loss: 1.2495 - val_accuracy: 0.5983\n",
      "Epoch 3/100\n",
      "175/175 [==============================] - 0s 2ms/step - loss: 1.3043 - accuracy: 0.5545 - val_loss: 1.0561 - val_accuracy: 0.6283\n",
      "Epoch 4/100\n",
      "175/175 [==============================] - 0s 2ms/step - loss: 1.1893 - accuracy: 0.5931 - val_loss: 1.0889 - val_accuracy: 0.6308\n",
      "Epoch 5/100\n",
      "175/175 [==============================] - 0s 2ms/step - loss: 1.0875 - accuracy: 0.6193 - val_loss: 0.9423 - val_accuracy: 0.6733\n",
      "Epoch 6/100\n",
      "175/175 [==============================] - 0s 2ms/step - loss: 1.0752 - accuracy: 0.6267 - val_loss: 1.0206 - val_accuracy: 0.6233\n",
      "Epoch 7/100\n",
      "175/175 [==============================] - 0s 2ms/step - loss: 0.9869 - accuracy: 0.6543 - val_loss: 0.9058 - val_accuracy: 0.7117\n",
      "Epoch 8/100\n",
      "175/175 [==============================] - 0s 2ms/step - loss: 0.9693 - accuracy: 0.6652 - val_loss: 0.9042 - val_accuracy: 0.6996\n",
      "Epoch 9/100\n",
      "175/175 [==============================] - 0s 2ms/step - loss: 0.9463 - accuracy: 0.6633 - val_loss: 0.8640 - val_accuracy: 0.6862\n",
      "Epoch 10/100\n",
      "175/175 [==============================] - 0s 2ms/step - loss: 0.9316 - accuracy: 0.6695 - val_loss: 0.9478 - val_accuracy: 0.6721\n",
      "Epoch 11/100\n",
      "175/175 [==============================] - 0s 2ms/step - loss: 0.8943 - accuracy: 0.6863 - val_loss: 0.8179 - val_accuracy: 0.7158\n",
      "Epoch 12/100\n",
      "175/175 [==============================] - 0s 2ms/step - loss: 0.9046 - accuracy: 0.6849 - val_loss: 0.8465 - val_accuracy: 0.6762\n",
      "Epoch 13/100\n",
      "175/175 [==============================] - 0s 2ms/step - loss: 0.8968 - accuracy: 0.6776 - val_loss: 0.8254 - val_accuracy: 0.7092\n",
      "Epoch 14/100\n",
      "175/175 [==============================] - 0s 2ms/step - loss: 0.8584 - accuracy: 0.6927 - val_loss: 0.8552 - val_accuracy: 0.6679\n",
      "Epoch 15/100\n",
      "175/175 [==============================] - 0s 2ms/step - loss: 0.8641 - accuracy: 0.6917 - val_loss: 0.8075 - val_accuracy: 0.7258\n",
      "Epoch 16/100\n",
      "175/175 [==============================] - 0s 2ms/step - loss: 0.8611 - accuracy: 0.6942 - val_loss: 0.7908 - val_accuracy: 0.7233\n",
      "Epoch 17/100\n",
      "175/175 [==============================] - 0s 2ms/step - loss: 0.8301 - accuracy: 0.7008 - val_loss: 0.8447 - val_accuracy: 0.6825\n",
      "Epoch 18/100\n",
      "175/175 [==============================] - 0s 2ms/step - loss: 0.8346 - accuracy: 0.7060 - val_loss: 0.7553 - val_accuracy: 0.7479\n",
      "Epoch 19/100\n",
      "175/175 [==============================] - 0s 2ms/step - loss: 0.8177 - accuracy: 0.7088 - val_loss: 0.7556 - val_accuracy: 0.7421\n",
      "Epoch 20/100\n",
      "175/175 [==============================] - 0s 2ms/step - loss: 0.8061 - accuracy: 0.7124 - val_loss: 0.8036 - val_accuracy: 0.7129\n",
      "Epoch 21/100\n",
      "175/175 [==============================] - 0s 2ms/step - loss: 0.7935 - accuracy: 0.7131 - val_loss: 0.7863 - val_accuracy: 0.7342\n",
      "Epoch 22/100\n",
      "175/175 [==============================] - 0s 2ms/step - loss: 0.8060 - accuracy: 0.7081 - val_loss: 0.8114 - val_accuracy: 0.7075\n",
      "Epoch 23/100\n",
      "175/175 [==============================] - 0s 2ms/step - loss: 0.8112 - accuracy: 0.7063 - val_loss: 0.7253 - val_accuracy: 0.7588\n",
      "Epoch 24/100\n",
      "175/175 [==============================] - 0s 2ms/step - loss: 0.7832 - accuracy: 0.7213 - val_loss: 0.7347 - val_accuracy: 0.7500\n",
      "Epoch 25/100\n",
      "175/175 [==============================] - 0s 2ms/step - loss: 0.8009 - accuracy: 0.7101 - val_loss: 0.8063 - val_accuracy: 0.7050\n",
      "Epoch 26/100\n",
      "175/175 [==============================] - 0s 2ms/step - loss: 0.7907 - accuracy: 0.7179 - val_loss: 0.7246 - val_accuracy: 0.7508\n",
      "Epoch 27/100\n",
      "175/175 [==============================] - 0s 2ms/step - loss: 0.7862 - accuracy: 0.7203 - val_loss: 0.8716 - val_accuracy: 0.7071\n",
      "Epoch 28/100\n",
      "175/175 [==============================] - 0s 2ms/step - loss: 0.7733 - accuracy: 0.7228 - val_loss: 0.7893 - val_accuracy: 0.7450\n",
      "Epoch 29/100\n",
      "175/175 [==============================] - 0s 2ms/step - loss: 0.7625 - accuracy: 0.7288 - val_loss: 0.7683 - val_accuracy: 0.7408\n",
      "Epoch 30/100\n",
      "175/175 [==============================] - 0s 2ms/step - loss: 0.7647 - accuracy: 0.7328 - val_loss: 0.7744 - val_accuracy: 0.7342\n",
      "Epoch 31/100\n",
      "175/175 [==============================] - 0s 2ms/step - loss: 0.7678 - accuracy: 0.7267 - val_loss: 0.8146 - val_accuracy: 0.7325\n",
      "Epoch 32/100\n",
      "175/175 [==============================] - 0s 2ms/step - loss: 0.7797 - accuracy: 0.7204 - val_loss: 0.7866 - val_accuracy: 0.7487\n",
      "Epoch 33/100\n",
      "175/175 [==============================] - 0s 2ms/step - loss: 0.7930 - accuracy: 0.7190 - val_loss: 0.7198 - val_accuracy: 0.7583\n",
      "Epoch 34/100\n",
      "175/175 [==============================] - 0s 2ms/step - loss: 0.7410 - accuracy: 0.7340 - val_loss: 0.7406 - val_accuracy: 0.7487\n",
      "Epoch 35/100\n",
      "175/175 [==============================] - 0s 2ms/step - loss: 0.7413 - accuracy: 0.7319 - val_loss: 0.7547 - val_accuracy: 0.7454\n",
      "Epoch 36/100\n",
      "175/175 [==============================] - 0s 2ms/step - loss: 0.7702 - accuracy: 0.7238 - val_loss: 0.7223 - val_accuracy: 0.7579\n",
      "Epoch 37/100\n",
      "175/175 [==============================] - 0s 2ms/step - loss: 0.7316 - accuracy: 0.7351 - val_loss: 0.6980 - val_accuracy: 0.7567\n",
      "Epoch 38/100\n",
      "175/175 [==============================] - 0s 2ms/step - loss: 0.7385 - accuracy: 0.7338 - val_loss: 0.7563 - val_accuracy: 0.7496\n",
      "Epoch 39/100\n",
      "175/175 [==============================] - 0s 2ms/step - loss: 0.7313 - accuracy: 0.7322 - val_loss: 0.7347 - val_accuracy: 0.7513\n",
      "Epoch 40/100\n",
      "175/175 [==============================] - 0s 2ms/step - loss: 0.7252 - accuracy: 0.7388 - val_loss: 0.7588 - val_accuracy: 0.7417\n",
      "Epoch 41/100\n",
      "175/175 [==============================] - 0s 2ms/step - loss: 0.7446 - accuracy: 0.7279 - val_loss: 0.7399 - val_accuracy: 0.7558\n",
      "Epoch 42/100\n",
      "175/175 [==============================] - 0s 2ms/step - loss: 0.7706 - accuracy: 0.7212 - val_loss: 0.8078 - val_accuracy: 0.6983\n",
      "Epoch 43/100\n",
      "175/175 [==============================] - 0s 2ms/step - loss: 0.7324 - accuracy: 0.7365 - val_loss: 0.7247 - val_accuracy: 0.7613\n",
      "Epoch 44/100\n",
      "175/175 [==============================] - 0s 2ms/step - loss: 0.7570 - accuracy: 0.7283 - val_loss: 0.7730 - val_accuracy: 0.7563\n",
      "Epoch 45/100\n",
      "175/175 [==============================] - 0s 2ms/step - loss: 0.7214 - accuracy: 0.7426 - val_loss: 0.7548 - val_accuracy: 0.7233\n",
      "Epoch 46/100\n",
      "175/175 [==============================] - 0s 2ms/step - loss: 0.7058 - accuracy: 0.7469 - val_loss: 0.6792 - val_accuracy: 0.7775\n",
      "Epoch 47/100\n",
      "175/175 [==============================] - 0s 2ms/step - loss: 0.7524 - accuracy: 0.7262 - val_loss: 0.7191 - val_accuracy: 0.7663\n",
      "Epoch 48/100\n",
      "175/175 [==============================] - 0s 2ms/step - loss: 0.7292 - accuracy: 0.7378 - val_loss: 1.1107 - val_accuracy: 0.6258\n",
      "Epoch 49/100\n",
      "175/175 [==============================] - 0s 2ms/step - loss: 0.7414 - accuracy: 0.7331 - val_loss: 0.7449 - val_accuracy: 0.7621\n",
      "Epoch 50/100\n",
      "175/175 [==============================] - 0s 2ms/step - loss: 0.7094 - accuracy: 0.7422 - val_loss: 0.8789 - val_accuracy: 0.7117\n",
      "Epoch 51/100\n",
      "175/175 [==============================] - 0s 2ms/step - loss: 0.7177 - accuracy: 0.7444 - val_loss: 0.7999 - val_accuracy: 0.7254\n",
      "Epoch 52/100\n",
      "175/175 [==============================] - 0s 2ms/step - loss: 0.7124 - accuracy: 0.7453 - val_loss: 0.8294 - val_accuracy: 0.7346\n",
      "Epoch 53/100\n",
      "175/175 [==============================] - 0s 2ms/step - loss: 0.7155 - accuracy: 0.7363 - val_loss: 0.7305 - val_accuracy: 0.7650\n",
      "Epoch 54/100\n",
      "175/175 [==============================] - 0s 2ms/step - loss: 0.7035 - accuracy: 0.7485 - val_loss: 0.7116 - val_accuracy: 0.7767\n",
      "Epoch 55/100\n",
      "175/175 [==============================] - 0s 2ms/step - loss: 0.7021 - accuracy: 0.7506 - val_loss: 0.7650 - val_accuracy: 0.7400\n",
      "Epoch 56/100\n",
      "175/175 [==============================] - 0s 2ms/step - loss: 0.7167 - accuracy: 0.7460 - val_loss: 0.7221 - val_accuracy: 0.7854\n",
      "Epoch 57/100\n",
      "175/175 [==============================] - 0s 2ms/step - loss: 0.6974 - accuracy: 0.7419 - val_loss: 0.7288 - val_accuracy: 0.7625\n"
     ]
    },
    {
     "name": "stdout",
     "output_type": "stream",
     "text": [
      "Epoch 58/100\n",
      "175/175 [==============================] - 0s 2ms/step - loss: 0.6829 - accuracy: 0.7546 - val_loss: 0.7435 - val_accuracy: 0.7754\n",
      "Epoch 59/100\n",
      "175/175 [==============================] - 0s 2ms/step - loss: 0.6954 - accuracy: 0.7488 - val_loss: 0.7050 - val_accuracy: 0.7708\n",
      "Epoch 60/100\n",
      "175/175 [==============================] - 0s 2ms/step - loss: 0.6941 - accuracy: 0.7524 - val_loss: 0.7534 - val_accuracy: 0.7542\n",
      "Epoch 61/100\n",
      "175/175 [==============================] - 0s 2ms/step - loss: 0.6868 - accuracy: 0.7553 - val_loss: 0.6749 - val_accuracy: 0.7854\n",
      "Epoch 62/100\n",
      "175/175 [==============================] - 0s 2ms/step - loss: 0.7000 - accuracy: 0.7460 - val_loss: 0.8136 - val_accuracy: 0.7271\n",
      "Epoch 63/100\n",
      "175/175 [==============================] - 0s 2ms/step - loss: 0.7142 - accuracy: 0.7413 - val_loss: 0.7231 - val_accuracy: 0.7688\n",
      "Epoch 64/100\n",
      "175/175 [==============================] - 0s 2ms/step - loss: 0.7209 - accuracy: 0.7387 - val_loss: 0.7926 - val_accuracy: 0.7054\n",
      "Epoch 65/100\n",
      "175/175 [==============================] - 0s 2ms/step - loss: 0.6970 - accuracy: 0.7563 - val_loss: 0.8098 - val_accuracy: 0.7383\n",
      "Epoch 66/100\n",
      "175/175 [==============================] - 0s 2ms/step - loss: 0.7052 - accuracy: 0.7453 - val_loss: 0.7749 - val_accuracy: 0.7358\n",
      "Epoch 67/100\n",
      "175/175 [==============================] - 0s 2ms/step - loss: 0.7112 - accuracy: 0.7472 - val_loss: 0.7087 - val_accuracy: 0.7725\n",
      "Epoch 68/100\n",
      "175/175 [==============================] - 0s 2ms/step - loss: 0.6872 - accuracy: 0.7512 - val_loss: 0.7344 - val_accuracy: 0.7675\n",
      "Epoch 69/100\n",
      "175/175 [==============================] - 0s 2ms/step - loss: 0.7052 - accuracy: 0.7476 - val_loss: 0.7286 - val_accuracy: 0.7550\n",
      "Epoch 70/100\n",
      "175/175 [==============================] - 0s 2ms/step - loss: 0.6778 - accuracy: 0.7542 - val_loss: 0.7751 - val_accuracy: 0.7496\n",
      "Epoch 71/100\n",
      "175/175 [==============================] - 0s 2ms/step - loss: 0.6885 - accuracy: 0.7535 - val_loss: 0.7176 - val_accuracy: 0.7629\n",
      "Epoch 72/100\n",
      "175/175 [==============================] - 0s 2ms/step - loss: 0.6963 - accuracy: 0.7503 - val_loss: 0.7049 - val_accuracy: 0.7750\n",
      "Epoch 73/100\n",
      "175/175 [==============================] - 0s 2ms/step - loss: 0.6851 - accuracy: 0.7535 - val_loss: 0.7662 - val_accuracy: 0.7200\n",
      "Epoch 74/100\n",
      "175/175 [==============================] - 0s 2ms/step - loss: 0.6520 - accuracy: 0.7663 - val_loss: 0.7180 - val_accuracy: 0.7625\n",
      "Epoch 75/100\n",
      "175/175 [==============================] - 0s 2ms/step - loss: 0.6890 - accuracy: 0.7563 - val_loss: 0.7138 - val_accuracy: 0.7783\n",
      "Epoch 76/100\n",
      "175/175 [==============================] - 0s 2ms/step - loss: 0.6801 - accuracy: 0.7551 - val_loss: 0.7363 - val_accuracy: 0.7658\n",
      "Epoch 77/100\n",
      "175/175 [==============================] - 0s 2ms/step - loss: 0.6430 - accuracy: 0.7653 - val_loss: 0.7827 - val_accuracy: 0.7408\n",
      "Epoch 78/100\n",
      "175/175 [==============================] - 0s 2ms/step - loss: 0.6601 - accuracy: 0.7599 - val_loss: 0.7311 - val_accuracy: 0.7588\n",
      "Epoch 79/100\n",
      "175/175 [==============================] - 0s 2ms/step - loss: 0.6798 - accuracy: 0.7546 - val_loss: 0.7802 - val_accuracy: 0.7592\n",
      "Epoch 80/100\n",
      "175/175 [==============================] - 0s 2ms/step - loss: 0.6990 - accuracy: 0.7526 - val_loss: 0.7342 - val_accuracy: 0.7588\n",
      "Epoch 81/100\n",
      "175/175 [==============================] - 0s 2ms/step - loss: 0.6862 - accuracy: 0.7497 - val_loss: 0.7314 - val_accuracy: 0.7663\n",
      "Epoch 82/100\n",
      "175/175 [==============================] - 0s 2ms/step - loss: 0.6594 - accuracy: 0.7655 - val_loss: 0.7580 - val_accuracy: 0.7433\n",
      "Epoch 83/100\n",
      "175/175 [==============================] - 0s 2ms/step - loss: 0.7056 - accuracy: 0.7472 - val_loss: 0.7245 - val_accuracy: 0.7608\n",
      "Epoch 84/100\n",
      "175/175 [==============================] - 0s 2ms/step - loss: 0.6753 - accuracy: 0.7533 - val_loss: 0.6930 - val_accuracy: 0.7788\n",
      "Epoch 85/100\n",
      "175/175 [==============================] - 0s 2ms/step - loss: 0.6751 - accuracy: 0.7576 - val_loss: 0.8110 - val_accuracy: 0.7446\n",
      "Epoch 86/100\n",
      "175/175 [==============================] - 0s 2ms/step - loss: 0.6699 - accuracy: 0.7608 - val_loss: 0.6908 - val_accuracy: 0.7804\n",
      "Epoch 87/100\n",
      "175/175 [==============================] - 0s 2ms/step - loss: 0.6497 - accuracy: 0.7651 - val_loss: 0.7384 - val_accuracy: 0.7763\n",
      "Epoch 88/100\n",
      "175/175 [==============================] - 0s 2ms/step - loss: 0.6596 - accuracy: 0.7644 - val_loss: 0.6867 - val_accuracy: 0.7875\n",
      "Epoch 89/100\n",
      "175/175 [==============================] - 0s 2ms/step - loss: 0.6687 - accuracy: 0.7583 - val_loss: 0.7625 - val_accuracy: 0.7408\n",
      "Epoch 90/100\n",
      "175/175 [==============================] - 0s 2ms/step - loss: 0.6603 - accuracy: 0.7656 - val_loss: 0.6863 - val_accuracy: 0.7854\n",
      "Epoch 91/100\n",
      "175/175 [==============================] - 0s 2ms/step - loss: 0.6745 - accuracy: 0.7608 - val_loss: 0.8033 - val_accuracy: 0.7437\n",
      "Epoch 92/100\n",
      "175/175 [==============================] - 0s 2ms/step - loss: 0.6888 - accuracy: 0.7506 - val_loss: 0.7487 - val_accuracy: 0.7467\n",
      "Epoch 93/100\n",
      "175/175 [==============================] - 0s 2ms/step - loss: 0.6424 - accuracy: 0.7669 - val_loss: 0.7356 - val_accuracy: 0.7812\n",
      "Epoch 94/100\n",
      "175/175 [==============================] - 0s 2ms/step - loss: 0.6700 - accuracy: 0.7660 - val_loss: 0.7031 - val_accuracy: 0.7837\n",
      "Epoch 95/100\n",
      "175/175 [==============================] - 0s 2ms/step - loss: 0.6620 - accuracy: 0.7572 - val_loss: 0.7137 - val_accuracy: 0.7717\n",
      "Epoch 96/100\n",
      "175/175 [==============================] - 0s 2ms/step - loss: 0.6706 - accuracy: 0.7646 - val_loss: 0.6749 - val_accuracy: 0.7808\n",
      "Epoch 97/100\n",
      "175/175 [==============================] - 0s 2ms/step - loss: 0.6614 - accuracy: 0.7597 - val_loss: 0.7818 - val_accuracy: 0.7350\n",
      "Epoch 98/100\n",
      "175/175 [==============================] - 0s 2ms/step - loss: 0.6633 - accuracy: 0.7642 - val_loss: 0.6838 - val_accuracy: 0.7896\n",
      "Epoch 99/100\n",
      "175/175 [==============================] - 0s 2ms/step - loss: 0.6493 - accuracy: 0.7697 - val_loss: 0.7420 - val_accuracy: 0.7638\n",
      "Epoch 100/100\n",
      "175/175 [==============================] - 0s 2ms/step - loss: 0.6648 - accuracy: 0.7528 - val_loss: 0.8119 - val_accuracy: 0.7546\n"
     ]
    }
   ],
   "source": [
    "history = model2.fit(x_yam_train, y_train, epochs=100, validation_data=(x_yam_valid, y_valid))"
   ]
  },
  {
   "cell_type": "code",
   "execution_count": 207,
   "metadata": {},
   "outputs": [
    {
     "data": {
      "image/png": "[encoded data removed]",
      "text/plain": [
       "<Figure size 432x288 with 1 Axes>"
      ]
     },
     "metadata": {
      "needs_background": "light"
     },
     "output_type": "display_data"
    }
   ],
   "source": [
    "loss = history.history['loss']\n",
    "epochs = range(1, len(loss) + 1)\n",
    "val_loss = history.history['val_loss']\n",
    "plt.plot(epochs, loss, '.--', label='Training loss')\n",
    "plt.plot(epochs, val_loss, 'o-', label='Validation loss')\n",
    "plt.show()"
   ]
  },
  {
   "cell_type": "code",
   "execution_count": 208,
   "metadata": {},
   "outputs": [],
   "source": [
    "y_pred = model2.predict(x_yam_valid)\n",
    "y_pred = np.argmax(y_pred,axis=1).astype(int)"
   ]
  },
  {
   "cell_type": "code",
   "execution_count": 209,
   "metadata": {},
   "outputs": [
    {
     "data": {
      "image/png": "[encoded data removed]",
      "text/plain": [
       "<Figure size 432x288 with 2 Axes>"
      ]
     },
     "metadata": {
      "needs_background": "light"
     },
     "output_type": "display_data"
    }
   ],
   "source": [
    "conf_matrix = ConfusionMatrixDisplay(\n",
    "    confusion_matrix(y_pred, y_valid_index),\n",
    "    display_labels=classes_cols,\n",
    ")\n",
    "conf_matrix.plot(xticks_rotation=90);"
   ]
  },
  {
   "cell_type": "code",
   "execution_count": 210,
   "metadata": {},
   "outputs": [
    {
     "name": "stdout",
     "output_type": "stream",
     "text": [
      "                 precision    recall  f1-score   support\n",
      "\n",
      "   class_Djembe       0.67      0.50      0.57         8\n",
      " class_Timbales       0.53      0.73      0.62        11\n",
      "    class_Clave       0.75      0.52      0.62        23\n",
      "    class_Agogo       0.88      0.94      0.91        16\n",
      "    class_Bongo       0.17      0.75      0.27         4\n",
      "class_Tambourin       0.68      0.79      0.73        19\n",
      "   class_Shaken       0.52      0.73      0.60        22\n",
      "    class_Conga       0.31      0.50      0.38        22\n",
      "  class_Cowbell       0.91      0.89      0.90        47\n",
      "     class_Clap       0.76      0.91      0.83        77\n",
      "   class_Cymbal       0.76      0.87      0.82       190\n",
      "      class_Tom       0.47      0.84      0.60       211\n",
      "      class_Hat       0.83      0.79      0.81       408\n",
      "     class_Kick       0.81      0.83      0.82       455\n",
      "    class_Snare       0.88      0.64      0.74       887\n",
      "\n",
      "       accuracy                           0.75      2400\n",
      "      macro avg       0.66      0.75      0.68      2400\n",
      "   weighted avg       0.79      0.75      0.76      2400\n",
      "\n"
     ]
    }
   ],
   "source": [
    "print(classification_report(y_pred, y_valid_index, target_names=classes_cols))"
   ]
  },
  {
   "cell_type": "code",
   "execution_count": null,
   "metadata": {},
   "outputs": [],
   "source": []
  }
 ],
 "metadata": {
  "kernelspec": {
   "display_name": "Python 3",
   "language": "python",
   "name": "python3"
  },
  "language_info": {
   "codemirror_mode": {
    "name": "ipython",
    "version": 3
   },
   "file_extension": ".py",
   "mimetype": "text/x-python",
   "name": "python",
   "nbconvert_exporter": "python",
   "pygments_lexer": "ipython3",
   "version": "3.8.5"
  },
  "toc": {
   "base_numbering": 1,
   "nav_menu": {},
   "number_sections": true,
   "sideBar": true,
   "skip_h1_title": false,
   "title_cell": "Table of Contents",
   "title_sidebar": "Contents",
   "toc_cell": true,
   "toc_position": {},
   "toc_section_display": true,
   "toc_window_display": true
  }
 },
 "nbformat": 4,
 "nbformat_minor": 4
}
