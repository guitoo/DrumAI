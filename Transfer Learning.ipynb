{
 "cells": [
  {
   "cell_type": "markdown",
   "metadata": {
    "toc": true
   },
   "source": [
    "<h1>Table of Contents<span class=\"tocSkip\"></span></h1>\n",
    "<div class=\"toc\"><ul class=\"toc-item\"></ul></div>"
   ]
  },
  {
   "cell_type": "code",
   "execution_count": 122,
   "metadata": {},
   "outputs": [],
   "source": [
    "import tensorflow as tf\n",
    "import tensorflow_hub as hub\n",
    "from tensorflow.keras.models import Sequential, Model\n",
    "from tensorflow.keras.layers import Dense, Dropout, Input\n",
    "import pandas as pd\n",
    "import numpy as np\n",
    "from librosa.core import resample, load\n",
    "from librosa.util import fix_length\n",
    "from sklearn.model_selection import train_test_split\n",
    "from sklearn.utils import class_weight\n",
    "from sklearn.metrics import (\n",
    "    classification_report, confusion_matrix, accuracy_score, ConfusionMatrixDisplay\n",
    ")\n",
    "from matplotlib import pyplot as plt"
   ]
  },
  {
   "cell_type": "code",
   "execution_count": 39,
   "metadata": {},
   "outputs": [],
   "source": [
    "data = pd.read_csv('clean.csv')\n",
    "classes_cols = [\n",
    "    'class_Djembe',\n",
    "    'class_Timbales',\n",
    "    'class_Clave',\n",
    "    'class_Agogo',\n",
    "    'class_Bongo',\n",
    "    'class_Tambourin',\n",
    "    'class_Shaken',\n",
    "    'class_Conga',\n",
    "    'class_Cowbell',\n",
    "    'class_Clap',\n",
    "    'class_Cymbal',\n",
    "    'class_Tom',\n",
    "    'class_Hat',\n",
    "    'class_Kick',\n",
    "    'class_Snare'\n",
    "]\n",
    "nb_classes = len(classes_cols)\n",
    "data = data[data[classes_cols].sum(axis=1) == 1]"
   ]
  },
  {
   "cell_type": "code",
   "execution_count": 40,
   "metadata": {},
   "outputs": [
    {
     "data": {
      "text/plain": [
       "(7998, 45)"
      ]
     },
     "execution_count": 40,
     "metadata": {},
     "output_type": "execute_result"
    }
   ],
   "source": [
    "data.shape"
   ]
  },
  {
   "cell_type": "code",
   "execution_count": 41,
   "metadata": {},
   "outputs": [
    {
     "data": {
      "text/html": [
       "<div>\n",
       "<style scoped>\n",
       "    .dataframe tbody tr th:only-of-type {\n",
       "        vertical-align: middle;\n",
       "    }\n",
       "\n",
       "    .dataframe tbody tr th {\n",
       "        vertical-align: top;\n",
       "    }\n",
       "\n",
       "    .dataframe thead th {\n",
       "        text-align: right;\n",
       "    }\n",
       "</style>\n",
       "<table border=\"1\" class=\"dataframe\">\n",
       "  <thead>\n",
       "    <tr style=\"text-align: right;\">\n",
       "      <th></th>\n",
       "      <th>path</th>\n",
       "      <th>filename</th>\n",
       "      <th>dir_1</th>\n",
       "      <th>class_Hat</th>\n",
       "      <th>subclass_Hat_Open</th>\n",
       "      <th>subclass_Hat_Close</th>\n",
       "      <th>class_Bongo</th>\n",
       "      <th>class_Cymbal</th>\n",
       "      <th>subclass_Cymbal_Crash</th>\n",
       "      <th>subclass_Cymbal_Ride</th>\n",
       "      <th>...</th>\n",
       "      <th>subclass_Shaken_Maracas</th>\n",
       "      <th>class_Cajon</th>\n",
       "      <th>class_clave</th>\n",
       "      <th>dir_2</th>\n",
       "      <th>subclass_Snare_Off</th>\n",
       "      <th>subclass_Snare_On</th>\n",
       "      <th>subclass_Snare_Side</th>\n",
       "      <th>subclass_Snare_Flam</th>\n",
       "      <th>subclass_Snare_Brush</th>\n",
       "      <th>subclass_Cymbal_Trash</th>\n",
       "    </tr>\n",
       "  </thead>\n",
       "  <tbody>\n",
       "    <tr>\n",
       "      <th>0</th>\n",
       "      <td>./Samples/200-drum-machines/Yamaha RX-11/MaxV ...</td>\n",
       "      <td>MaxV - RX11 OPHAT2.wav</td>\n",
       "      <td>Yamaha RX-11</td>\n",
       "      <td>1.0</td>\n",
       "      <td>1.0</td>\n",
       "      <td>1.0</td>\n",
       "      <td>0.0</td>\n",
       "      <td>0.0</td>\n",
       "      <td>0.0</td>\n",
       "      <td>0.0</td>\n",
       "      <td>...</td>\n",
       "      <td>0.0</td>\n",
       "      <td>0.0</td>\n",
       "      <td>0.0</td>\n",
       "      <td>NaN</td>\n",
       "      <td>0.0</td>\n",
       "      <td>0.0</td>\n",
       "      <td>0.0</td>\n",
       "      <td>0.0</td>\n",
       "      <td>0.0</td>\n",
       "      <td>0.0</td>\n",
       "    </tr>\n",
       "    <tr>\n",
       "      <th>1</th>\n",
       "      <td>./Samples/200-drum-machines/Yamaha RX-11/MaxV ...</td>\n",
       "      <td>MaxV - RX11 BD3.wav</td>\n",
       "      <td>Yamaha RX-11</td>\n",
       "      <td>0.0</td>\n",
       "      <td>0.0</td>\n",
       "      <td>0.0</td>\n",
       "      <td>0.0</td>\n",
       "      <td>0.0</td>\n",
       "      <td>0.0</td>\n",
       "      <td>0.0</td>\n",
       "      <td>...</td>\n",
       "      <td>0.0</td>\n",
       "      <td>0.0</td>\n",
       "      <td>0.0</td>\n",
       "      <td>NaN</td>\n",
       "      <td>0.0</td>\n",
       "      <td>0.0</td>\n",
       "      <td>0.0</td>\n",
       "      <td>0.0</td>\n",
       "      <td>0.0</td>\n",
       "      <td>0.0</td>\n",
       "    </tr>\n",
       "    <tr>\n",
       "      <th>2</th>\n",
       "      <td>./Samples/200-drum-machines/Yamaha RX-11/MaxV ...</td>\n",
       "      <td>MaxV - RX11 BD2.wav</td>\n",
       "      <td>Yamaha RX-11</td>\n",
       "      <td>0.0</td>\n",
       "      <td>0.0</td>\n",
       "      <td>0.0</td>\n",
       "      <td>0.0</td>\n",
       "      <td>0.0</td>\n",
       "      <td>0.0</td>\n",
       "      <td>0.0</td>\n",
       "      <td>...</td>\n",
       "      <td>0.0</td>\n",
       "      <td>0.0</td>\n",
       "      <td>0.0</td>\n",
       "      <td>NaN</td>\n",
       "      <td>0.0</td>\n",
       "      <td>0.0</td>\n",
       "      <td>0.0</td>\n",
       "      <td>0.0</td>\n",
       "      <td>0.0</td>\n",
       "      <td>0.0</td>\n",
       "    </tr>\n",
       "    <tr>\n",
       "      <th>3</th>\n",
       "      <td>./Samples/200-drum-machines/Yamaha RX-11/MaxV ...</td>\n",
       "      <td>MaxV - RX11 CLHAT2.wav</td>\n",
       "      <td>Yamaha RX-11</td>\n",
       "      <td>1.0</td>\n",
       "      <td>0.0</td>\n",
       "      <td>1.0</td>\n",
       "      <td>0.0</td>\n",
       "      <td>0.0</td>\n",
       "      <td>0.0</td>\n",
       "      <td>0.0</td>\n",
       "      <td>...</td>\n",
       "      <td>0.0</td>\n",
       "      <td>0.0</td>\n",
       "      <td>0.0</td>\n",
       "      <td>NaN</td>\n",
       "      <td>0.0</td>\n",
       "      <td>0.0</td>\n",
       "      <td>0.0</td>\n",
       "      <td>0.0</td>\n",
       "      <td>0.0</td>\n",
       "      <td>0.0</td>\n",
       "    </tr>\n",
       "    <tr>\n",
       "      <th>4</th>\n",
       "      <td>./Samples/200-drum-machines/Yamaha RX-11/MaxV ...</td>\n",
       "      <td>MaxV - RX11 RIDE.wav</td>\n",
       "      <td>Yamaha RX-11</td>\n",
       "      <td>0.0</td>\n",
       "      <td>0.0</td>\n",
       "      <td>0.0</td>\n",
       "      <td>0.0</td>\n",
       "      <td>1.0</td>\n",
       "      <td>0.0</td>\n",
       "      <td>1.0</td>\n",
       "      <td>...</td>\n",
       "      <td>0.0</td>\n",
       "      <td>0.0</td>\n",
       "      <td>0.0</td>\n",
       "      <td>NaN</td>\n",
       "      <td>0.0</td>\n",
       "      <td>0.0</td>\n",
       "      <td>0.0</td>\n",
       "      <td>0.0</td>\n",
       "      <td>0.0</td>\n",
       "      <td>0.0</td>\n",
       "    </tr>\n",
       "  </tbody>\n",
       "</table>\n",
       "<p>5 rows × 45 columns</p>\n",
       "</div>"
      ],
      "text/plain": [
       "                                                path                filename  \\\n",
       "0  ./Samples/200-drum-machines/Yamaha RX-11/MaxV ...  MaxV - RX11 OPHAT2.wav   \n",
       "1  ./Samples/200-drum-machines/Yamaha RX-11/MaxV ...     MaxV - RX11 BD3.wav   \n",
       "2  ./Samples/200-drum-machines/Yamaha RX-11/MaxV ...     MaxV - RX11 BD2.wav   \n",
       "3  ./Samples/200-drum-machines/Yamaha RX-11/MaxV ...  MaxV - RX11 CLHAT2.wav   \n",
       "4  ./Samples/200-drum-machines/Yamaha RX-11/MaxV ...    MaxV - RX11 RIDE.wav   \n",
       "\n",
       "          dir_1  class_Hat  subclass_Hat_Open  subclass_Hat_Close  \\\n",
       "0  Yamaha RX-11        1.0                1.0                 1.0   \n",
       "1  Yamaha RX-11        0.0                0.0                 0.0   \n",
       "2  Yamaha RX-11        0.0                0.0                 0.0   \n",
       "3  Yamaha RX-11        1.0                0.0                 1.0   \n",
       "4  Yamaha RX-11        0.0                0.0                 0.0   \n",
       "\n",
       "   class_Bongo  class_Cymbal  subclass_Cymbal_Crash  subclass_Cymbal_Ride  \\\n",
       "0          0.0           0.0                    0.0                   0.0   \n",
       "1          0.0           0.0                    0.0                   0.0   \n",
       "2          0.0           0.0                    0.0                   0.0   \n",
       "3          0.0           0.0                    0.0                   0.0   \n",
       "4          0.0           1.0                    0.0                   1.0   \n",
       "\n",
       "   ...  subclass_Shaken_Maracas  class_Cajon  class_clave  dir_2  \\\n",
       "0  ...                      0.0          0.0          0.0    NaN   \n",
       "1  ...                      0.0          0.0          0.0    NaN   \n",
       "2  ...                      0.0          0.0          0.0    NaN   \n",
       "3  ...                      0.0          0.0          0.0    NaN   \n",
       "4  ...                      0.0          0.0          0.0    NaN   \n",
       "\n",
       "   subclass_Snare_Off  subclass_Snare_On  subclass_Snare_Side  \\\n",
       "0                 0.0                0.0                  0.0   \n",
       "1                 0.0                0.0                  0.0   \n",
       "2                 0.0                0.0                  0.0   \n",
       "3                 0.0                0.0                  0.0   \n",
       "4                 0.0                0.0                  0.0   \n",
       "\n",
       "   subclass_Snare_Flam  subclass_Snare_Brush  subclass_Cymbal_Trash  \n",
       "0                  0.0                   0.0                    0.0  \n",
       "1                  0.0                   0.0                    0.0  \n",
       "2                  0.0                   0.0                    0.0  \n",
       "3                  0.0                   0.0                    0.0  \n",
       "4                  0.0                   0.0                    0.0  \n",
       "\n",
       "[5 rows x 45 columns]"
      ]
     },
     "execution_count": 41,
     "metadata": {},
     "output_type": "execute_result"
    }
   ],
   "source": [
    "data.head()"
   ]
  },
  {
   "cell_type": "code",
   "execution_count": 42,
   "metadata": {},
   "outputs": [],
   "source": [
    "data = data.loc[data['path'] != './Samples/200-drum-machines/Roland JV 1080/MaxV - Guiro.wav']"
   ]
  },
  {
   "cell_type": "code",
   "execution_count": 43,
   "metadata": {},
   "outputs": [],
   "source": [
    "vggish = hub.load('https://tfhub.dev/google/vggish/1')\n",
    "yamnet = hub.load('https://tfhub.dev/google/yamnet/1')"
   ]
  },
  {
   "cell_type": "code",
   "execution_count": 44,
   "metadata": {},
   "outputs": [],
   "source": [
    "SR=16000\n",
    "classes = data[classes_cols]\n",
    "files = data['path']\n",
    "vgg_embeddings = []\n",
    "yam_embeddings = []\n",
    "for path in files:\n",
    "    sound, _ = load(path, sr=SR)\n",
    "    sound = fix_length(sound, 1*SR)\n",
    "    vgg_embeddings.append(vggish(sound))\n",
    "    _, yam_emb, _ = yamnet(sound)\n",
    "    yam_embeddings.append(yam_emb)\n",
    "\n",
    "vgg_embeddings = np.stack(vgg_embeddings)\n",
    "yam_embeddings = np.stack(yam_embeddings)"
   ]
  },
  {
   "cell_type": "code",
   "execution_count": 45,
   "metadata": {},
   "outputs": [
    {
     "data": {
      "text/plain": [
       "((7998, 1, 128), (7998, 2, 1024))"
      ]
     },
     "execution_count": 45,
     "metadata": {},
     "output_type": "execute_result"
    }
   ],
   "source": [
    "vgg_embeddings.shape, yam_embeddings.shape"
   ]
  },
  {
   "cell_type": "code",
   "execution_count": 46,
   "metadata": {},
   "outputs": [],
   "source": [
    "vgg_embeddings = vgg_embeddings.reshape(-1, 128)\n",
    "yam_embeddings = yam_embeddings.reshape(-1, 2*1024)"
   ]
  },
  {
   "cell_type": "code",
   "execution_count": 94,
   "metadata": {},
   "outputs": [
    {
     "data": {
      "text/plain": [
       "array([12, 13, 13, ..., 11, 14, 11])"
      ]
     },
     "execution_count": 94,
     "metadata": {},
     "output_type": "execute_result"
    }
   ],
   "source": []
  },
  {
   "cell_type": "code",
   "execution_count": 113,
   "metadata": {},
   "outputs": [],
   "source": [
    "# x_train, x_valid, y_train, y_valid = train_test_split(sounds, classes, test_size=0.3, stratify=classes)\n",
    "x_vgg_train, x_vgg_valid, x_yam_train, x_yam_valid, y_train, y_valid = train_test_split(vgg_embeddings, yam_embeddings, classes, test_size=0.3, stratify=classes)"
   ]
  },
  {
   "cell_type": "code",
   "execution_count": 114,
   "metadata": {},
   "outputs": [
    {
     "data": {
      "text/plain": [
       "(5598, 128)"
      ]
     },
     "execution_count": 114,
     "metadata": {},
     "output_type": "execute_result"
    }
   ],
   "source": [
    "x_vgg_train.shape"
   ]
  },
  {
   "cell_type": "code",
   "execution_count": 126,
   "metadata": {},
   "outputs": [
    {
     "name": "stdout",
     "output_type": "stream",
     "text": [
      "Model: \"functional_21\"\n",
      "_________________________________________________________________\n",
      "Layer (type)                 Output Shape              Param #   \n",
      "=================================================================\n",
      "input_13 (InputLayer)        [(None, 128)]             0         \n",
      "_________________________________________________________________\n",
      "dense_13 (Dense)             (None, 100)               12900     \n",
      "_________________________________________________________________\n",
      "dense_14 (Dense)             (None, 15)                1515      \n",
      "=================================================================\n",
      "Total params: 14,415\n",
      "Trainable params: 14,415\n",
      "Non-trainable params: 0\n",
      "_________________________________________________________________\n"
     ]
    }
   ],
   "source": [
    "inputs = Input(shape=(128))\n",
    "x = Dense(100, activation='relu')(inputs)\n",
    "outputs = Dense(nb_classes, activation='softmax')(x)\n",
    "\n",
    "model = Model(inputs, outputs)\n",
    "model.summary()"
   ]
  },
  {
   "cell_type": "code",
   "execution_count": 127,
   "metadata": {},
   "outputs": [],
   "source": [
    "model.compile(optimizer='adam', loss='categorical_crossentropy', metrics=['accuracy'])"
   ]
  },
  {
   "cell_type": "code",
   "execution_count": 128,
   "metadata": {},
   "outputs": [
    {
     "name": "stdout",
     "output_type": "stream",
     "text": [
      "Epoch 1/100\n",
      "175/175 [==============================] - 0s 1ms/step - loss: 1.4933 - accuracy: 0.5457 - val_loss: 1.0863 - val_accuracy: 0.6571\n",
      "Epoch 2/100\n",
      "175/175 [==============================] - 0s 953us/step - loss: 0.9667 - accuracy: 0.6942 - val_loss: 0.8788 - val_accuracy: 0.7142\n",
      "Epoch 3/100\n",
      "175/175 [==============================] - 0s 963us/step - loss: 0.8299 - accuracy: 0.7310 - val_loss: 0.8018 - val_accuracy: 0.7383\n",
      "Epoch 4/100\n",
      "175/175 [==============================] - 0s 963us/step - loss: 0.7643 - accuracy: 0.7504 - val_loss: 0.7615 - val_accuracy: 0.7425\n",
      "Epoch 5/100\n",
      "175/175 [==============================] - 0s 958us/step - loss: 0.7229 - accuracy: 0.7572 - val_loss: 0.7217 - val_accuracy: 0.7579\n",
      "Epoch 6/100\n",
      "175/175 [==============================] - 0s 943us/step - loss: 0.6890 - accuracy: 0.7685 - val_loss: 0.7112 - val_accuracy: 0.7579\n",
      "Epoch 7/100\n",
      "175/175 [==============================] - 0s 957us/step - loss: 0.6666 - accuracy: 0.7746 - val_loss: 0.6856 - val_accuracy: 0.7679\n",
      "Epoch 8/100\n",
      "175/175 [==============================] - 0s 976us/step - loss: 0.6477 - accuracy: 0.7778 - val_loss: 0.6757 - val_accuracy: 0.7729\n",
      "Epoch 9/100\n",
      "175/175 [==============================] - 0s 966us/step - loss: 0.6296 - accuracy: 0.7874 - val_loss: 0.6633 - val_accuracy: 0.7771\n",
      "Epoch 10/100\n",
      "175/175 [==============================] - 0s 991us/step - loss: 0.6128 - accuracy: 0.7912 - val_loss: 0.6634 - val_accuracy: 0.7779\n",
      "Epoch 11/100\n",
      "175/175 [==============================] - 0s 948us/step - loss: 0.6022 - accuracy: 0.7974 - val_loss: 0.6534 - val_accuracy: 0.7792\n",
      "Epoch 12/100\n",
      "175/175 [==============================] - 0s 970us/step - loss: 0.5870 - accuracy: 0.7980 - val_loss: 0.6319 - val_accuracy: 0.7892\n",
      "Epoch 13/100\n",
      "175/175 [==============================] - 0s 960us/step - loss: 0.5774 - accuracy: 0.7997 - val_loss: 0.6348 - val_accuracy: 0.7900\n",
      "Epoch 14/100\n",
      "175/175 [==============================] - 0s 938us/step - loss: 0.5704 - accuracy: 0.8042 - val_loss: 0.6218 - val_accuracy: 0.7917\n",
      "Epoch 15/100\n",
      "175/175 [==============================] - 0s 933us/step - loss: 0.5530 - accuracy: 0.8081 - val_loss: 0.6130 - val_accuracy: 0.7942\n",
      "Epoch 16/100\n",
      "175/175 [==============================] - 0s 964us/step - loss: 0.5476 - accuracy: 0.8121 - val_loss: 0.6040 - val_accuracy: 0.7958\n",
      "Epoch 17/100\n",
      "175/175 [==============================] - 0s 955us/step - loss: 0.5375 - accuracy: 0.8142 - val_loss: 0.6072 - val_accuracy: 0.7954\n",
      "Epoch 18/100\n",
      "175/175 [==============================] - 0s 936us/step - loss: 0.5252 - accuracy: 0.8226 - val_loss: 0.5985 - val_accuracy: 0.8000\n",
      "Epoch 19/100\n",
      "175/175 [==============================] - 0s 987us/step - loss: 0.5160 - accuracy: 0.8217 - val_loss: 0.5922 - val_accuracy: 0.7996\n",
      "Epoch 20/100\n",
      "175/175 [==============================] - 0s 958us/step - loss: 0.5121 - accuracy: 0.8251 - val_loss: 0.5890 - val_accuracy: 0.7987\n",
      "Epoch 21/100\n",
      "175/175 [==============================] - 0s 963us/step - loss: 0.5024 - accuracy: 0.8308 - val_loss: 0.5852 - val_accuracy: 0.8075\n",
      "Epoch 22/100\n",
      "175/175 [==============================] - 0s 929us/step - loss: 0.4929 - accuracy: 0.8305 - val_loss: 0.5839 - val_accuracy: 0.8071\n",
      "Epoch 23/100\n",
      "175/175 [==============================] - 0s 1ms/step - loss: 0.4914 - accuracy: 0.8323 - val_loss: 0.5808 - val_accuracy: 0.8046\n",
      "Epoch 24/100\n",
      "175/175 [==============================] - 0s 1ms/step - loss: 0.4819 - accuracy: 0.8360 - val_loss: 0.5786 - val_accuracy: 0.8108\n",
      "Epoch 25/100\n",
      "175/175 [==============================] - 0s 1ms/step - loss: 0.4735 - accuracy: 0.8380 - val_loss: 0.5821 - val_accuracy: 0.8079\n",
      "Epoch 26/100\n",
      "175/175 [==============================] - 0s 1ms/step - loss: 0.4656 - accuracy: 0.8449 - val_loss: 0.5652 - val_accuracy: 0.8108\n",
      "Epoch 27/100\n",
      "175/175 [==============================] - 0s 1ms/step - loss: 0.4641 - accuracy: 0.8448 - val_loss: 0.5624 - val_accuracy: 0.8129\n",
      "Epoch 28/100\n",
      "175/175 [==============================] - 0s 948us/step - loss: 0.4555 - accuracy: 0.8448 - val_loss: 0.5634 - val_accuracy: 0.8138\n",
      "Epoch 29/100\n",
      "175/175 [==============================] - 0s 990us/step - loss: 0.4458 - accuracy: 0.8537 - val_loss: 0.5754 - val_accuracy: 0.8146\n",
      "Epoch 30/100\n",
      "175/175 [==============================] - 0s 964us/step - loss: 0.4426 - accuracy: 0.8574 - val_loss: 0.5741 - val_accuracy: 0.8079\n",
      "Epoch 31/100\n",
      "175/175 [==============================] - 0s 953us/step - loss: 0.4406 - accuracy: 0.8560 - val_loss: 0.5498 - val_accuracy: 0.8200\n",
      "Epoch 32/100\n",
      "175/175 [==============================] - 0s 992us/step - loss: 0.4317 - accuracy: 0.8571 - val_loss: 0.5501 - val_accuracy: 0.8242\n",
      "Epoch 33/100\n",
      "175/175 [==============================] - 0s 1ms/step - loss: 0.4264 - accuracy: 0.8601 - val_loss: 0.5518 - val_accuracy: 0.8183\n",
      "Epoch 34/100\n",
      "175/175 [==============================] - 0s 1ms/step - loss: 0.4223 - accuracy: 0.8616 - val_loss: 0.5439 - val_accuracy: 0.8283\n",
      "Epoch 35/100\n",
      "175/175 [==============================] - 0s 961us/step - loss: 0.4132 - accuracy: 0.8628 - val_loss: 0.5531 - val_accuracy: 0.8188\n",
      "Epoch 36/100\n",
      "175/175 [==============================] - 0s 1ms/step - loss: 0.4101 - accuracy: 0.8646 - val_loss: 0.5622 - val_accuracy: 0.8092\n",
      "Epoch 37/100\n",
      "175/175 [==============================] - 0s 954us/step - loss: 0.4052 - accuracy: 0.8635 - val_loss: 0.5432 - val_accuracy: 0.8213\n",
      "Epoch 38/100\n",
      "175/175 [==============================] - 0s 956us/step - loss: 0.4012 - accuracy: 0.8655 - val_loss: 0.5310 - val_accuracy: 0.8271\n",
      "Epoch 39/100\n",
      "175/175 [==============================] - 0s 896us/step - loss: 0.3954 - accuracy: 0.8712 - val_loss: 0.5256 - val_accuracy: 0.8288\n",
      "Epoch 40/100\n",
      "175/175 [==============================] - 0s 942us/step - loss: 0.3877 - accuracy: 0.8741 - val_loss: 0.5313 - val_accuracy: 0.8288\n",
      "Epoch 41/100\n",
      "175/175 [==============================] - 0s 1ms/step - loss: 0.3869 - accuracy: 0.8735 - val_loss: 0.5336 - val_accuracy: 0.8292\n",
      "Epoch 42/100\n",
      "175/175 [==============================] - 0s 1ms/step - loss: 0.3802 - accuracy: 0.8741 - val_loss: 0.5302 - val_accuracy: 0.8304\n",
      "Epoch 43/100\n",
      "175/175 [==============================] - 0s 973us/step - loss: 0.3767 - accuracy: 0.8773 - val_loss: 0.5489 - val_accuracy: 0.8233\n",
      "Epoch 44/100\n",
      "175/175 [==============================] - 0s 1ms/step - loss: 0.3716 - accuracy: 0.8805 - val_loss: 0.5252 - val_accuracy: 0.8342\n",
      "Epoch 45/100\n",
      "175/175 [==============================] - 0s 1ms/step - loss: 0.3663 - accuracy: 0.8848 - val_loss: 0.5245 - val_accuracy: 0.8363\n",
      "Epoch 46/100\n",
      "175/175 [==============================] - 0s 1ms/step - loss: 0.3649 - accuracy: 0.8842 - val_loss: 0.5215 - val_accuracy: 0.8317\n",
      "Epoch 47/100\n",
      "175/175 [==============================] - 0s 988us/step - loss: 0.3594 - accuracy: 0.8812 - val_loss: 0.5303 - val_accuracy: 0.8354\n",
      "Epoch 48/100\n",
      "175/175 [==============================] - 0s 944us/step - loss: 0.3583 - accuracy: 0.8853 - val_loss: 0.5238 - val_accuracy: 0.8367\n",
      "Epoch 49/100\n",
      "175/175 [==============================] - 0s 952us/step - loss: 0.3505 - accuracy: 0.8869 - val_loss: 0.5189 - val_accuracy: 0.8400\n",
      "Epoch 50/100\n",
      "175/175 [==============================] - 0s 949us/step - loss: 0.3493 - accuracy: 0.8862 - val_loss: 0.5260 - val_accuracy: 0.8375\n",
      "Epoch 51/100\n",
      "175/175 [==============================] - 0s 1ms/step - loss: 0.3446 - accuracy: 0.8907 - val_loss: 0.5161 - val_accuracy: 0.8392\n",
      "Epoch 52/100\n",
      "175/175 [==============================] - 0s 1ms/step - loss: 0.3421 - accuracy: 0.8925 - val_loss: 0.5139 - val_accuracy: 0.8371\n",
      "Epoch 53/100\n",
      "175/175 [==============================] - 0s 975us/step - loss: 0.3343 - accuracy: 0.8942 - val_loss: 0.5197 - val_accuracy: 0.8379\n",
      "Epoch 54/100\n",
      "175/175 [==============================] - 0s 1ms/step - loss: 0.3344 - accuracy: 0.8905 - val_loss: 0.5096 - val_accuracy: 0.8392\n",
      "Epoch 55/100\n",
      "175/175 [==============================] - 0s 1ms/step - loss: 0.3309 - accuracy: 0.8951 - val_loss: 0.5105 - val_accuracy: 0.8425\n",
      "Epoch 56/100\n",
      "175/175 [==============================] - 0s 968us/step - loss: 0.3261 - accuracy: 0.8962 - val_loss: 0.5136 - val_accuracy: 0.8429\n",
      "Epoch 57/100\n"
     ]
    },
    {
     "name": "stdout",
     "output_type": "stream",
     "text": [
      "175/175 [==============================] - 0s 1ms/step - loss: 0.3211 - accuracy: 0.8976 - val_loss: 0.5208 - val_accuracy: 0.8379\n",
      "Epoch 58/100\n",
      "175/175 [==============================] - 0s 1ms/step - loss: 0.3181 - accuracy: 0.9018 - val_loss: 0.5129 - val_accuracy: 0.8450\n",
      "Epoch 59/100\n",
      "175/175 [==============================] - 0s 1ms/step - loss: 0.3166 - accuracy: 0.9010 - val_loss: 0.5217 - val_accuracy: 0.8371\n",
      "Epoch 60/100\n",
      "175/175 [==============================] - 0s 1ms/step - loss: 0.3106 - accuracy: 0.9000 - val_loss: 0.5171 - val_accuracy: 0.8417\n",
      "Epoch 61/100\n",
      "175/175 [==============================] - 0s 1ms/step - loss: 0.3118 - accuracy: 0.9053 - val_loss: 0.5078 - val_accuracy: 0.8392\n",
      "Epoch 62/100\n",
      "175/175 [==============================] - 0s 1ms/step - loss: 0.3099 - accuracy: 0.8998 - val_loss: 0.5215 - val_accuracy: 0.8383\n",
      "Epoch 63/100\n",
      "175/175 [==============================] - 0s 1ms/step - loss: 0.3021 - accuracy: 0.9060 - val_loss: 0.5014 - val_accuracy: 0.8512\n",
      "Epoch 64/100\n",
      "175/175 [==============================] - 0s 1ms/step - loss: 0.2941 - accuracy: 0.9112 - val_loss: 0.5164 - val_accuracy: 0.8413\n",
      "Epoch 65/100\n",
      "175/175 [==============================] - 0s 1ms/step - loss: 0.2919 - accuracy: 0.9080 - val_loss: 0.5110 - val_accuracy: 0.8442\n",
      "Epoch 66/100\n",
      "175/175 [==============================] - 0s 1ms/step - loss: 0.2936 - accuracy: 0.9082 - val_loss: 0.5101 - val_accuracy: 0.8425\n",
      "Epoch 67/100\n",
      "175/175 [==============================] - 0s 1ms/step - loss: 0.2868 - accuracy: 0.9119 - val_loss: 0.5091 - val_accuracy: 0.8458\n",
      "Epoch 68/100\n",
      "175/175 [==============================] - 0s 1ms/step - loss: 0.2865 - accuracy: 0.9091 - val_loss: 0.5042 - val_accuracy: 0.8508\n",
      "Epoch 69/100\n",
      "175/175 [==============================] - 0s 1ms/step - loss: 0.2826 - accuracy: 0.9141 - val_loss: 0.5220 - val_accuracy: 0.8467\n",
      "Epoch 70/100\n",
      "175/175 [==============================] - 0s 1ms/step - loss: 0.2818 - accuracy: 0.9130 - val_loss: 0.5267 - val_accuracy: 0.8438\n",
      "Epoch 71/100\n",
      "175/175 [==============================] - 0s 1ms/step - loss: 0.2784 - accuracy: 0.9150 - val_loss: 0.5047 - val_accuracy: 0.8537\n",
      "Epoch 72/100\n",
      "175/175 [==============================] - 0s 991us/step - loss: 0.2726 - accuracy: 0.9162 - val_loss: 0.5048 - val_accuracy: 0.8500\n",
      "Epoch 73/100\n",
      "175/175 [==============================] - 0s 1ms/step - loss: 0.2687 - accuracy: 0.9207 - val_loss: 0.4984 - val_accuracy: 0.8579\n",
      "Epoch 74/100\n",
      "175/175 [==============================] - 0s 1ms/step - loss: 0.2678 - accuracy: 0.9155 - val_loss: 0.5124 - val_accuracy: 0.8467\n",
      "Epoch 75/100\n",
      "175/175 [==============================] - 0s 1ms/step - loss: 0.2641 - accuracy: 0.9216 - val_loss: 0.4917 - val_accuracy: 0.8592\n",
      "Epoch 76/100\n",
      "175/175 [==============================] - 0s 1ms/step - loss: 0.2642 - accuracy: 0.9202 - val_loss: 0.5089 - val_accuracy: 0.8517\n",
      "Epoch 77/100\n",
      "175/175 [==============================] - 0s 1ms/step - loss: 0.2567 - accuracy: 0.9235 - val_loss: 0.5028 - val_accuracy: 0.8579\n",
      "Epoch 78/100\n",
      "175/175 [==============================] - 0s 1ms/step - loss: 0.2578 - accuracy: 0.9230 - val_loss: 0.5073 - val_accuracy: 0.8512\n",
      "Epoch 79/100\n",
      "175/175 [==============================] - 0s 1ms/step - loss: 0.2533 - accuracy: 0.9278 - val_loss: 0.5042 - val_accuracy: 0.8537\n",
      "Epoch 80/100\n",
      "175/175 [==============================] - 0s 1ms/step - loss: 0.2529 - accuracy: 0.9216 - val_loss: 0.5084 - val_accuracy: 0.8529\n",
      "Epoch 81/100\n",
      "175/175 [==============================] - 0s 1ms/step - loss: 0.2488 - accuracy: 0.9244 - val_loss: 0.5038 - val_accuracy: 0.8512\n",
      "Epoch 82/100\n",
      "175/175 [==============================] - 0s 1ms/step - loss: 0.2450 - accuracy: 0.9271 - val_loss: 0.5072 - val_accuracy: 0.8500\n",
      "Epoch 83/100\n",
      "175/175 [==============================] - 0s 1ms/step - loss: 0.2417 - accuracy: 0.9266 - val_loss: 0.5092 - val_accuracy: 0.8529\n",
      "Epoch 84/100\n",
      "175/175 [==============================] - 0s 1ms/step - loss: 0.2414 - accuracy: 0.9278 - val_loss: 0.5025 - val_accuracy: 0.8600\n",
      "Epoch 85/100\n",
      "175/175 [==============================] - 0s 963us/step - loss: 0.2349 - accuracy: 0.9294 - val_loss: 0.4968 - val_accuracy: 0.8629\n",
      "Epoch 86/100\n",
      "175/175 [==============================] - 0s 1ms/step - loss: 0.2370 - accuracy: 0.9293 - val_loss: 0.5067 - val_accuracy: 0.8579\n",
      "Epoch 87/100\n",
      "175/175 [==============================] - 0s 983us/step - loss: 0.2310 - accuracy: 0.9310 - val_loss: 0.5077 - val_accuracy: 0.8562\n",
      "Epoch 88/100\n",
      "175/175 [==============================] - 0s 1ms/step - loss: 0.2294 - accuracy: 0.9318 - val_loss: 0.4987 - val_accuracy: 0.8583\n",
      "Epoch 89/100\n",
      "175/175 [==============================] - 0s 1ms/step - loss: 0.2276 - accuracy: 0.9291 - val_loss: 0.5143 - val_accuracy: 0.8529\n",
      "Epoch 90/100\n",
      "175/175 [==============================] - 0s 1000us/step - loss: 0.2247 - accuracy: 0.9341 - val_loss: 0.5014 - val_accuracy: 0.8600\n",
      "Epoch 91/100\n",
      "175/175 [==============================] - 0s 1ms/step - loss: 0.2234 - accuracy: 0.9319 - val_loss: 0.5081 - val_accuracy: 0.8554\n",
      "Epoch 92/100\n",
      "175/175 [==============================] - 0s 1ms/step - loss: 0.2204 - accuracy: 0.9348 - val_loss: 0.5113 - val_accuracy: 0.8600\n",
      "Epoch 93/100\n",
      "175/175 [==============================] - 0s 952us/step - loss: 0.2165 - accuracy: 0.9371 - val_loss: 0.4968 - val_accuracy: 0.8667\n",
      "Epoch 94/100\n",
      "175/175 [==============================] - 0s 942us/step - loss: 0.2154 - accuracy: 0.9352 - val_loss: 0.5041 - val_accuracy: 0.8604\n",
      "Epoch 95/100\n",
      "175/175 [==============================] - 0s 949us/step - loss: 0.2111 - accuracy: 0.9387 - val_loss: 0.5098 - val_accuracy: 0.8675\n",
      "Epoch 96/100\n",
      "175/175 [==============================] - 0s 1ms/step - loss: 0.2097 - accuracy: 0.9394 - val_loss: 0.5240 - val_accuracy: 0.8487\n",
      "Epoch 97/100\n",
      "175/175 [==============================] - 0s 979us/step - loss: 0.2124 - accuracy: 0.9362 - val_loss: 0.5039 - val_accuracy: 0.8658\n",
      "Epoch 98/100\n",
      "175/175 [==============================] - 0s 1ms/step - loss: 0.2057 - accuracy: 0.9368 - val_loss: 0.5059 - val_accuracy: 0.8579\n",
      "Epoch 99/100\n",
      "175/175 [==============================] - 0s 1ms/step - loss: 0.2054 - accuracy: 0.9366 - val_loss: 0.5020 - val_accuracy: 0.8633\n",
      "Epoch 100/100\n",
      "175/175 [==============================] - 0s 1ms/step - loss: 0.2054 - accuracy: 0.9384 - val_loss: 0.5023 - val_accuracy: 0.8696\n"
     ]
    }
   ],
   "source": [
    "class_weights = class_weight.compute_class_weight(\n",
    "    class_weight='balanced',\n",
    "    classes=classes_cols,\n",
    "    y=y_train.idxmax(axis=1))\n",
    "history = model.fit(x_vgg_train, y_train, epochs=100, validation_data=(x_vgg_valid, y_valid))"
   ]
  },
  {
   "cell_type": "code",
   "execution_count": 129,
   "metadata": {},
   "outputs": [
    {
     "data": {
      "image/png": "[encoded data removed]",
      "text/plain": [
       "<Figure size 432x288 with 1 Axes>"
      ]
     },
     "metadata": {
      "needs_background": "light"
     },
     "output_type": "display_data"
    }
   ],
   "source": [
    "loss = history.history['loss']\n",
    "epochs = range(1, len(loss) + 1)\n",
    "val_loss = history.history['val_loss']\n",
    "plt.plot(epochs, loss, '.--', label='Training loss')\n",
    "plt.plot(epochs, val_loss, 'o-', label='Validation loss')\n",
    "plt.show()"
   ]
  },
  {
   "cell_type": "code",
   "execution_count": 130,
   "metadata": {},
   "outputs": [],
   "source": [
    "y_pred = model.predict(x_vgg_valid)\n",
    "y_pred = np.argmax(y_pred,axis=1).astype(int)\n",
    "y_pred_cls = [ classes_cols[i] for i in y_pred]"
   ]
  },
  {
   "cell_type": "code",
   "execution_count": 131,
   "metadata": {},
   "outputs": [
    {
     "data": {
      "image/png": "[encoded data removed]",
      "text/plain": [
       "<Figure size 432x288 with 2 Axes>"
      ]
     },
     "metadata": {
      "needs_background": "light"
     },
     "output_type": "display_data"
    }
   ],
   "source": [
    "conf_matrix = ConfusionMatrixDisplay(\n",
    "    confusion_matrix(y_pred_cls, y_valid.idxmax(axis=1)),\n",
    "    display_labels=classes_cols,\n",
    ")\n",
    "conf_matrix.plot(xticks_rotation=90);"
   ]
  },
  {
   "cell_type": "code",
   "execution_count": 132,
   "metadata": {},
   "outputs": [
    {
     "name": "stdout",
     "output_type": "stream",
     "text": [
      "                 precision    recall  f1-score   support\n",
      "\n",
      "    class_Agogo       0.88      0.94      0.91        16\n",
      "    class_Bongo       0.56      0.56      0.56        18\n",
      "     class_Clap       0.89      0.89      0.89        92\n",
      "    class_Clave       0.69      0.69      0.69        16\n",
      "    class_Conga       0.39      0.64      0.48        22\n",
      "  class_Cowbell       0.98      0.88      0.93        51\n",
      "   class_Cymbal       0.92      0.90      0.91       222\n",
      "   class_Djembe       0.17      0.50      0.25         2\n",
      "      class_Hat       0.90      0.86      0.88       406\n",
      "     class_Kick       0.93      0.90      0.92       484\n",
      "   class_Shaken       0.45      0.74      0.56        19\n",
      "    class_Snare       0.87      0.89      0.88       635\n",
      "class_Tambourin       0.55      0.75      0.63        16\n",
      " class_Timbales       0.53      0.73      0.62        11\n",
      "      class_Tom       0.86      0.84      0.85       390\n",
      "\n",
      "       accuracy                           0.87      2400\n",
      "      macro avg       0.70      0.78      0.73      2400\n",
      "   weighted avg       0.88      0.87      0.87      2400\n",
      "\n"
     ]
    }
   ],
   "source": [
    "print(classification_report(y_pred_cls, y_valid.idxmax(axis=1)))"
   ]
  },
  {
   "cell_type": "code",
   "execution_count": 133,
   "metadata": {},
   "outputs": [
    {
     "name": "stdout",
     "output_type": "stream",
     "text": [
      "Model: \"functional_23\"\n",
      "_________________________________________________________________\n",
      "Layer (type)                 Output Shape              Param #   \n",
      "=================================================================\n",
      "input_14 (InputLayer)        [(None, 2048)]            0         \n",
      "_________________________________________________________________\n",
      "dense_15 (Dense)             (None, 100)               204900    \n",
      "_________________________________________________________________\n",
      "dense_16 (Dense)             (None, 15)                1515      \n",
      "=================================================================\n",
      "Total params: 206,415\n",
      "Trainable params: 206,415\n",
      "Non-trainable params: 0\n",
      "_________________________________________________________________\n"
     ]
    }
   ],
   "source": [
    "inputs = Input(shape=(2048))\n",
    "x = Dense(100, activation='relu')(inputs)\n",
    "outputs = Dense(nb_classes, activation='softmax')(x)\n",
    "\n",
    "model2 = Model(inputs, outputs)\n",
    "model2.summary()"
   ]
  },
  {
   "cell_type": "code",
   "execution_count": 136,
   "metadata": {},
   "outputs": [],
   "source": [
    "model2.compile(optimizer='adam', loss='categorical_crossentropy', metrics=['accuracy'])"
   ]
  },
  {
   "cell_type": "code",
   "execution_count": 137,
   "metadata": {},
   "outputs": [
    {
     "name": "stdout",
     "output_type": "stream",
     "text": [
      "Epoch 1/100\n",
      "175/175 [==============================] - 0s 2ms/step - loss: 1.5795 - accuracy: 0.4805 - val_loss: 1.2837 - val_accuracy: 0.5133\n",
      "Epoch 2/100\n",
      "175/175 [==============================] - 0s 2ms/step - loss: 1.1865 - accuracy: 0.5970 - val_loss: 1.1783 - val_accuracy: 0.6313\n",
      "Epoch 3/100\n",
      "175/175 [==============================] - 0s 2ms/step - loss: 1.0077 - accuracy: 0.6576 - val_loss: 1.0074 - val_accuracy: 0.6679\n",
      "Epoch 4/100\n",
      "175/175 [==============================] - 0s 2ms/step - loss: 0.9123 - accuracy: 0.6856 - val_loss: 0.9249 - val_accuracy: 0.6775\n",
      "Epoch 5/100\n",
      "175/175 [==============================] - 0s 2ms/step - loss: 0.8615 - accuracy: 0.7061 - val_loss: 0.8870 - val_accuracy: 0.6983\n",
      "Epoch 6/100\n",
      "175/175 [==============================] - 0s 2ms/step - loss: 0.7970 - accuracy: 0.7233 - val_loss: 0.7975 - val_accuracy: 0.7371\n",
      "Epoch 7/100\n",
      "175/175 [==============================] - 0s 2ms/step - loss: 0.7479 - accuracy: 0.7424 - val_loss: 0.8986 - val_accuracy: 0.6888\n",
      "Epoch 8/100\n",
      "175/175 [==============================] - 0s 2ms/step - loss: 0.7311 - accuracy: 0.7419 - val_loss: 0.7493 - val_accuracy: 0.7521\n",
      "Epoch 9/100\n",
      "175/175 [==============================] - 0s 2ms/step - loss: 0.6873 - accuracy: 0.7608 - val_loss: 0.8519 - val_accuracy: 0.6892\n",
      "Epoch 10/100\n",
      "175/175 [==============================] - 0s 2ms/step - loss: 0.6828 - accuracy: 0.7603 - val_loss: 0.7883 - val_accuracy: 0.7333\n",
      "Epoch 11/100\n",
      "175/175 [==============================] - 0s 2ms/step - loss: 0.6392 - accuracy: 0.7785 - val_loss: 0.7508 - val_accuracy: 0.7563\n",
      "Epoch 12/100\n",
      "175/175 [==============================] - 0s 2ms/step - loss: 0.6104 - accuracy: 0.7851 - val_loss: 0.8632 - val_accuracy: 0.6762\n",
      "Epoch 13/100\n",
      "175/175 [==============================] - 0s 2ms/step - loss: 0.6167 - accuracy: 0.7847 - val_loss: 0.7033 - val_accuracy: 0.7550\n",
      "Epoch 14/100\n",
      "175/175 [==============================] - 0s 2ms/step - loss: 0.5729 - accuracy: 0.8021 - val_loss: 0.7059 - val_accuracy: 0.7808\n",
      "Epoch 15/100\n",
      "175/175 [==============================] - 0s 2ms/step - loss: 0.5859 - accuracy: 0.7944 - val_loss: 0.7393 - val_accuracy: 0.7458\n",
      "Epoch 16/100\n",
      "175/175 [==============================] - 0s 2ms/step - loss: 0.5549 - accuracy: 0.8087 - val_loss: 0.7625 - val_accuracy: 0.7667\n",
      "Epoch 17/100\n",
      "175/175 [==============================] - 0s 2ms/step - loss: 0.5437 - accuracy: 0.8110 - val_loss: 0.7065 - val_accuracy: 0.7704\n",
      "Epoch 18/100\n",
      "175/175 [==============================] - 0s 2ms/step - loss: 0.5356 - accuracy: 0.8124 - val_loss: 0.7182 - val_accuracy: 0.7567\n",
      "Epoch 19/100\n",
      "175/175 [==============================] - 0s 2ms/step - loss: 0.5298 - accuracy: 0.8156 - val_loss: 0.6845 - val_accuracy: 0.7775\n",
      "Epoch 20/100\n",
      "175/175 [==============================] - 0s 2ms/step - loss: 0.5200 - accuracy: 0.8214 - val_loss: 0.6724 - val_accuracy: 0.7854\n",
      "Epoch 21/100\n",
      "175/175 [==============================] - 0s 2ms/step - loss: 0.5130 - accuracy: 0.8219 - val_loss: 0.7104 - val_accuracy: 0.7738\n",
      "Epoch 22/100\n",
      "175/175 [==============================] - 0s 2ms/step - loss: 0.5333 - accuracy: 0.8117 - val_loss: 0.7502 - val_accuracy: 0.7567\n",
      "Epoch 23/100\n",
      "175/175 [==============================] - 0s 2ms/step - loss: 0.5139 - accuracy: 0.8131 - val_loss: 0.7374 - val_accuracy: 0.7567\n",
      "Epoch 24/100\n",
      "175/175 [==============================] - 0s 2ms/step - loss: 0.5241 - accuracy: 0.8115 - val_loss: 0.6934 - val_accuracy: 0.7875\n",
      "Epoch 25/100\n",
      "175/175 [==============================] - 0s 2ms/step - loss: 0.4993 - accuracy: 0.8235 - val_loss: 0.7992 - val_accuracy: 0.7346\n",
      "Epoch 26/100\n",
      "175/175 [==============================] - 0s 2ms/step - loss: 0.4956 - accuracy: 0.8224 - val_loss: 0.8730 - val_accuracy: 0.7042\n",
      "Epoch 27/100\n",
      "175/175 [==============================] - 0s 2ms/step - loss: 0.5088 - accuracy: 0.8176 - val_loss: 0.7105 - val_accuracy: 0.7775\n",
      "Epoch 28/100\n",
      "175/175 [==============================] - 0s 2ms/step - loss: 0.5032 - accuracy: 0.8214 - val_loss: 0.6873 - val_accuracy: 0.7867\n",
      "Epoch 29/100\n",
      "175/175 [==============================] - 0s 2ms/step - loss: 0.4555 - accuracy: 0.8390 - val_loss: 0.6685 - val_accuracy: 0.7954\n",
      "Epoch 30/100\n",
      "175/175 [==============================] - 0s 2ms/step - loss: 0.4679 - accuracy: 0.8332 - val_loss: 0.8357 - val_accuracy: 0.7196\n",
      "Epoch 31/100\n",
      "175/175 [==============================] - 0s 2ms/step - loss: 0.4683 - accuracy: 0.8296 - val_loss: 0.6978 - val_accuracy: 0.7871\n",
      "Epoch 32/100\n",
      "175/175 [==============================] - 0s 2ms/step - loss: 0.4761 - accuracy: 0.8323 - val_loss: 0.7613 - val_accuracy: 0.7408\n",
      "Epoch 33/100\n",
      "175/175 [==============================] - 0s 2ms/step - loss: 0.4735 - accuracy: 0.8301 - val_loss: 0.6654 - val_accuracy: 0.7979\n",
      "Epoch 34/100\n",
      "175/175 [==============================] - 0s 2ms/step - loss: 0.4463 - accuracy: 0.8483 - val_loss: 0.6487 - val_accuracy: 0.8142\n",
      "Epoch 35/100\n",
      "175/175 [==============================] - 0s 2ms/step - loss: 0.4677 - accuracy: 0.8328 - val_loss: 0.7728 - val_accuracy: 0.7500\n",
      "Epoch 36/100\n",
      "175/175 [==============================] - 0s 2ms/step - loss: 0.4341 - accuracy: 0.8471 - val_loss: 0.7037 - val_accuracy: 0.7912\n",
      "Epoch 37/100\n",
      "175/175 [==============================] - 0s 2ms/step - loss: 0.4376 - accuracy: 0.8426 - val_loss: 0.6726 - val_accuracy: 0.8112\n",
      "Epoch 38/100\n",
      "175/175 [==============================] - 0s 2ms/step - loss: 0.4129 - accuracy: 0.8549 - val_loss: 0.7071 - val_accuracy: 0.7908\n",
      "Epoch 39/100\n",
      "175/175 [==============================] - 0s 2ms/step - loss: 0.4268 - accuracy: 0.8496 - val_loss: 0.6621 - val_accuracy: 0.8092\n",
      "Epoch 40/100\n",
      "175/175 [==============================] - 0s 2ms/step - loss: 0.4208 - accuracy: 0.8558 - val_loss: 0.7164 - val_accuracy: 0.7788\n",
      "Epoch 41/100\n",
      "175/175 [==============================] - 0s 2ms/step - loss: 0.4464 - accuracy: 0.8394 - val_loss: 0.7474 - val_accuracy: 0.7658\n",
      "Epoch 42/100\n",
      "175/175 [==============================] - 0s 2ms/step - loss: 0.4084 - accuracy: 0.8576 - val_loss: 0.7836 - val_accuracy: 0.7654\n",
      "Epoch 43/100\n",
      "175/175 [==============================] - 0s 2ms/step - loss: 0.4127 - accuracy: 0.8507 - val_loss: 0.8021 - val_accuracy: 0.7542\n",
      "Epoch 44/100\n",
      "175/175 [==============================] - 0s 2ms/step - loss: 0.4295 - accuracy: 0.8446 - val_loss: 0.7109 - val_accuracy: 0.7954\n",
      "Epoch 45/100\n",
      "175/175 [==============================] - 0s 2ms/step - loss: 0.4026 - accuracy: 0.8592 - val_loss: 0.8092 - val_accuracy: 0.7783\n",
      "Epoch 46/100\n",
      "175/175 [==============================] - 0s 2ms/step - loss: 0.4155 - accuracy: 0.8516 - val_loss: 0.7308 - val_accuracy: 0.7950\n",
      "Epoch 47/100\n",
      "175/175 [==============================] - 0s 2ms/step - loss: 0.3916 - accuracy: 0.8580 - val_loss: 0.7117 - val_accuracy: 0.7842\n",
      "Epoch 48/100\n",
      "175/175 [==============================] - 0s 2ms/step - loss: 0.4376 - accuracy: 0.8417 - val_loss: 0.7765 - val_accuracy: 0.7663\n",
      "Epoch 49/100\n",
      "175/175 [==============================] - 0s 2ms/step - loss: 0.3998 - accuracy: 0.8535 - val_loss: 0.7037 - val_accuracy: 0.8058\n",
      "Epoch 50/100\n",
      "175/175 [==============================] - 0s 2ms/step - loss: 0.4127 - accuracy: 0.8582 - val_loss: 0.7165 - val_accuracy: 0.8017\n",
      "Epoch 51/100\n",
      "175/175 [==============================] - 0s 2ms/step - loss: 0.3918 - accuracy: 0.8642 - val_loss: 0.7106 - val_accuracy: 0.7875\n",
      "Epoch 52/100\n",
      "175/175 [==============================] - 0s 2ms/step - loss: 0.3911 - accuracy: 0.8619 - val_loss: 0.7026 - val_accuracy: 0.8179\n",
      "Epoch 53/100\n",
      "175/175 [==============================] - 0s 2ms/step - loss: 0.4042 - accuracy: 0.8537 - val_loss: 0.7231 - val_accuracy: 0.7900\n",
      "Epoch 54/100\n",
      "175/175 [==============================] - 0s 2ms/step - loss: 0.4053 - accuracy: 0.8573 - val_loss: 0.6985 - val_accuracy: 0.8000\n",
      "Epoch 55/100\n",
      "175/175 [==============================] - 0s 2ms/step - loss: 0.3890 - accuracy: 0.8607 - val_loss: 0.7392 - val_accuracy: 0.8071\n",
      "Epoch 56/100\n",
      "175/175 [==============================] - 0s 2ms/step - loss: 0.4016 - accuracy: 0.8524 - val_loss: 0.7292 - val_accuracy: 0.7808\n",
      "Epoch 57/100\n",
      "175/175 [==============================] - 0s 2ms/step - loss: 0.3845 - accuracy: 0.8644 - val_loss: 0.6803 - val_accuracy: 0.8163\n"
     ]
    },
    {
     "name": "stdout",
     "output_type": "stream",
     "text": [
      "Epoch 58/100\n",
      "175/175 [==============================] - 0s 2ms/step - loss: 0.3741 - accuracy: 0.8667 - val_loss: 0.6810 - val_accuracy: 0.8146\n",
      "Epoch 59/100\n",
      "175/175 [==============================] - 0s 2ms/step - loss: 0.3702 - accuracy: 0.8671 - val_loss: 0.8032 - val_accuracy: 0.7725\n",
      "Epoch 60/100\n",
      "175/175 [==============================] - 0s 2ms/step - loss: 0.3688 - accuracy: 0.8700 - val_loss: 0.7969 - val_accuracy: 0.7738\n",
      "Epoch 61/100\n",
      "175/175 [==============================] - 0s 2ms/step - loss: 0.3678 - accuracy: 0.8700 - val_loss: 0.6948 - val_accuracy: 0.8079\n",
      "Epoch 62/100\n",
      "175/175 [==============================] - 0s 2ms/step - loss: 0.3675 - accuracy: 0.8687 - val_loss: 0.7221 - val_accuracy: 0.7971\n",
      "Epoch 63/100\n",
      "175/175 [==============================] - 0s 2ms/step - loss: 0.3602 - accuracy: 0.8758 - val_loss: 0.6794 - val_accuracy: 0.8058\n",
      "Epoch 64/100\n",
      "175/175 [==============================] - 0s 2ms/step - loss: 0.3621 - accuracy: 0.8685 - val_loss: 0.7408 - val_accuracy: 0.8138\n",
      "Epoch 65/100\n",
      "175/175 [==============================] - 0s 2ms/step - loss: 0.3696 - accuracy: 0.8664 - val_loss: 0.7118 - val_accuracy: 0.7958\n",
      "Epoch 66/100\n",
      "175/175 [==============================] - 0s 2ms/step - loss: 0.3370 - accuracy: 0.8809 - val_loss: 0.6439 - val_accuracy: 0.8358\n",
      "Epoch 67/100\n",
      "175/175 [==============================] - 0s 2ms/step - loss: 0.3643 - accuracy: 0.8682 - val_loss: 0.7026 - val_accuracy: 0.8071\n",
      "Epoch 68/100\n",
      "175/175 [==============================] - 0s 2ms/step - loss: 0.3438 - accuracy: 0.8757 - val_loss: 0.7177 - val_accuracy: 0.7942\n",
      "Epoch 69/100\n",
      "175/175 [==============================] - 0s 2ms/step - loss: 0.3478 - accuracy: 0.8737 - val_loss: 0.6621 - val_accuracy: 0.8288\n",
      "Epoch 70/100\n",
      "175/175 [==============================] - 0s 2ms/step - loss: 0.3384 - accuracy: 0.8791 - val_loss: 0.6950 - val_accuracy: 0.8175\n",
      "Epoch 71/100\n",
      "175/175 [==============================] - 0s 2ms/step - loss: 0.3436 - accuracy: 0.8744 - val_loss: 0.7538 - val_accuracy: 0.7992\n",
      "Epoch 72/100\n",
      "175/175 [==============================] - 0s 2ms/step - loss: 0.3530 - accuracy: 0.8725 - val_loss: 0.6844 - val_accuracy: 0.8208\n",
      "Epoch 73/100\n",
      "175/175 [==============================] - 0s 2ms/step - loss: 0.3340 - accuracy: 0.8816 - val_loss: 0.7571 - val_accuracy: 0.7829\n",
      "Epoch 74/100\n",
      "175/175 [==============================] - 0s 2ms/step - loss: 0.3378 - accuracy: 0.8773 - val_loss: 0.7558 - val_accuracy: 0.8033\n",
      "Epoch 75/100\n",
      "175/175 [==============================] - 0s 2ms/step - loss: 0.3200 - accuracy: 0.8859 - val_loss: 0.8237 - val_accuracy: 0.7771\n",
      "Epoch 76/100\n",
      "175/175 [==============================] - 0s 2ms/step - loss: 0.3490 - accuracy: 0.8728 - val_loss: 0.7162 - val_accuracy: 0.8142\n",
      "Epoch 77/100\n",
      "175/175 [==============================] - 0s 2ms/step - loss: 0.3300 - accuracy: 0.8848 - val_loss: 0.7401 - val_accuracy: 0.8196\n",
      "Epoch 78/100\n",
      "175/175 [==============================] - 0s 2ms/step - loss: 0.3494 - accuracy: 0.8735 - val_loss: 0.8327 - val_accuracy: 0.7758\n",
      "Epoch 79/100\n",
      "175/175 [==============================] - 0s 2ms/step - loss: 0.3351 - accuracy: 0.8791 - val_loss: 0.6900 - val_accuracy: 0.8121\n",
      "Epoch 80/100\n",
      "175/175 [==============================] - 0s 2ms/step - loss: 0.3268 - accuracy: 0.8841 - val_loss: 0.6990 - val_accuracy: 0.8221\n",
      "Epoch 81/100\n",
      "175/175 [==============================] - 0s 2ms/step - loss: 0.3285 - accuracy: 0.8785 - val_loss: 0.7067 - val_accuracy: 0.8142\n",
      "Epoch 82/100\n",
      "175/175 [==============================] - 0s 2ms/step - loss: 0.3439 - accuracy: 0.8748 - val_loss: 0.6949 - val_accuracy: 0.8279\n",
      "Epoch 83/100\n",
      "175/175 [==============================] - 0s 2ms/step - loss: 0.3209 - accuracy: 0.8891 - val_loss: 0.7204 - val_accuracy: 0.8163\n",
      "Epoch 84/100\n",
      "175/175 [==============================] - 0s 2ms/step - loss: 0.3287 - accuracy: 0.8848 - val_loss: 0.7378 - val_accuracy: 0.8087\n",
      "Epoch 85/100\n",
      "175/175 [==============================] - 0s 2ms/step - loss: 0.3126 - accuracy: 0.8903 - val_loss: 0.7632 - val_accuracy: 0.8117\n",
      "Epoch 86/100\n",
      "175/175 [==============================] - 0s 2ms/step - loss: 0.3360 - accuracy: 0.8796 - val_loss: 0.7063 - val_accuracy: 0.8138\n",
      "Epoch 87/100\n",
      "175/175 [==============================] - 0s 2ms/step - loss: 0.3140 - accuracy: 0.8826 - val_loss: 0.7079 - val_accuracy: 0.8146\n",
      "Epoch 88/100\n",
      "175/175 [==============================] - 0s 2ms/step - loss: 0.3661 - accuracy: 0.8705 - val_loss: 0.7289 - val_accuracy: 0.8129\n",
      "Epoch 89/100\n",
      "175/175 [==============================] - 0s 2ms/step - loss: 0.3407 - accuracy: 0.8775 - val_loss: 0.7409 - val_accuracy: 0.8046\n",
      "Epoch 90/100\n",
      "175/175 [==============================] - 0s 2ms/step - loss: 0.3220 - accuracy: 0.8832 - val_loss: 0.7550 - val_accuracy: 0.8150\n",
      "Epoch 91/100\n",
      "175/175 [==============================] - 0s 2ms/step - loss: 0.3171 - accuracy: 0.8862 - val_loss: 0.6764 - val_accuracy: 0.8317\n",
      "Epoch 92/100\n",
      "175/175 [==============================] - 0s 2ms/step - loss: 0.3012 - accuracy: 0.8930 - val_loss: 0.7748 - val_accuracy: 0.7887\n",
      "Epoch 93/100\n",
      "175/175 [==============================] - 0s 2ms/step - loss: 0.3255 - accuracy: 0.8851 - val_loss: 0.7344 - val_accuracy: 0.8100\n",
      "Epoch 94/100\n",
      "175/175 [==============================] - 0s 2ms/step - loss: 0.3032 - accuracy: 0.8928 - val_loss: 0.7136 - val_accuracy: 0.8121\n",
      "Epoch 95/100\n",
      "175/175 [==============================] - 0s 2ms/step - loss: 0.3027 - accuracy: 0.8916 - val_loss: 0.7786 - val_accuracy: 0.7950\n",
      "Epoch 96/100\n",
      "175/175 [==============================] - 0s 2ms/step - loss: 0.3211 - accuracy: 0.8803 - val_loss: 0.6832 - val_accuracy: 0.8350\n",
      "Epoch 97/100\n",
      "175/175 [==============================] - 0s 2ms/step - loss: 0.3130 - accuracy: 0.8964 - val_loss: 0.7599 - val_accuracy: 0.8121\n",
      "Epoch 98/100\n",
      "175/175 [==============================] - 0s 2ms/step - loss: 0.3074 - accuracy: 0.8898 - val_loss: 0.7615 - val_accuracy: 0.8163\n",
      "Epoch 99/100\n",
      "175/175 [==============================] - 0s 2ms/step - loss: 0.3296 - accuracy: 0.8792 - val_loss: 0.7003 - val_accuracy: 0.8250\n",
      "Epoch 100/100\n",
      "175/175 [==============================] - 0s 2ms/step - loss: 0.2923 - accuracy: 0.8948 - val_loss: 0.7665 - val_accuracy: 0.8071\n"
     ]
    }
   ],
   "source": [
    "history = model2.fit(x_yam_train, y_train, epochs=100, validation_data=(x_yam_valid, y_valid))"
   ]
  },
  {
   "cell_type": "code",
   "execution_count": 138,
   "metadata": {},
   "outputs": [
    {
     "data": {
      "image/png": "[encoded data removed]",
      "text/plain": [
       "<Figure size 432x288 with 1 Axes>"
      ]
     },
     "metadata": {
      "needs_background": "light"
     },
     "output_type": "display_data"
    }
   ],
   "source": [
    "loss = history.history['loss']\n",
    "epochs = range(1, len(loss) + 1)\n",
    "val_loss = history.history['val_loss']\n",
    "plt.plot(epochs, loss, '.--', label='Training loss')\n",
    "plt.plot(epochs, val_loss, 'o-', label='Validation loss')\n",
    "plt.show()"
   ]
  },
  {
   "cell_type": "code",
   "execution_count": 140,
   "metadata": {},
   "outputs": [],
   "source": [
    "y_pred = model2.predict(x_yam_valid)\n",
    "y_pred = np.argmax(y_pred,axis=1).astype(int)\n",
    "y_pred_cls = [ classes_cols[i] for i in y_pred]"
   ]
  },
  {
   "cell_type": "code",
   "execution_count": 141,
   "metadata": {},
   "outputs": [
    {
     "data": {
      "image/png": "[encoded data removed]",
      "text/plain": [
       "<Figure size 432x288 with 2 Axes>"
      ]
     },
     "metadata": {
      "needs_background": "light"
     },
     "output_type": "display_data"
    }
   ],
   "source": [
    "conf_matrix = ConfusionMatrixDisplay(\n",
    "    confusion_matrix(y_pred_cls, y_valid.idxmax(axis=1)),\n",
    "    display_labels=classes_cols,\n",
    ")\n",
    "conf_matrix.plot(xticks_rotation=90);"
   ]
  },
  {
   "cell_type": "code",
   "execution_count": 142,
   "metadata": {},
   "outputs": [
    {
     "name": "stdout",
     "output_type": "stream",
     "text": [
      "                 precision    recall  f1-score   support\n",
      "\n",
      "    class_Agogo       0.88      0.79      0.83        19\n",
      "    class_Bongo       0.22      0.57      0.32         7\n",
      "     class_Clap       0.95      0.76      0.84       114\n",
      "    class_Clave       0.62      0.43      0.51        23\n",
      "    class_Conga       0.33      0.80      0.47        15\n",
      "  class_Cowbell       0.91      0.52      0.66        81\n",
      "   class_Cymbal       0.91      0.80      0.85       247\n",
      "   class_Djembe       0.33      1.00      0.50         2\n",
      "      class_Hat       0.84      0.84      0.84       386\n",
      "     class_Kick       0.93      0.78      0.85       559\n",
      "   class_Shaken       0.35      0.85      0.50        13\n",
      "    class_Snare       0.69      0.91      0.78       489\n",
      "class_Tambourin       0.64      0.78      0.70        18\n",
      " class_Timbales       0.60      0.90      0.72        10\n",
      "      class_Tom       0.87      0.79      0.83       417\n",
      "\n",
      "       accuracy                           0.81      2400\n",
      "      macro avg       0.67      0.77      0.68      2400\n",
      "   weighted avg       0.84      0.81      0.81      2400\n",
      "\n"
     ]
    }
   ],
   "source": [
    "print(classification_report(y_pred_cls, y_valid.idxmax(axis=1)))"
   ]
  },
  {
   "cell_type": "code",
   "execution_count": null,
   "metadata": {},
   "outputs": [],
   "source": []
  }
 ],
 "metadata": {
  "kernelspec": {
   "display_name": "Python 3",
   "language": "python",
   "name": "python3"
  },
  "language_info": {
   "codemirror_mode": {
    "name": "ipython",
    "version": 3
   },
   "file_extension": ".py",
   "mimetype": "text/x-python",
   "name": "python",
   "nbconvert_exporter": "python",
   "pygments_lexer": "ipython3",
   "version": "3.8.5"
  },
  "toc": {
   "base_numbering": 1,
   "nav_menu": {},
   "number_sections": true,
   "sideBar": true,
   "skip_h1_title": false,
   "title_cell": "Table of Contents",
   "title_sidebar": "Contents",
   "toc_cell": true,
   "toc_position": {},
   "toc_section_display": true,
   "toc_window_display": true
  }
 },
 "nbformat": 4,
 "nbformat_minor": 4
}
